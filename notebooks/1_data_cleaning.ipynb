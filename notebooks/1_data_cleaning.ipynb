{
 "cells": [
  {
   "cell_type": "markdown",
   "id": "d686715f",
   "metadata": {},
   "source": [
    "# Import necessary libraries"
   ]
  },
  {
   "cell_type": "code",
   "execution_count": 3,
   "id": "cb1efbb8",
   "metadata": {},
   "outputs": [],
   "source": [
    "import pandas as pd"
   ]
  },
  {
   "cell_type": "markdown",
   "id": "ec811ade",
   "metadata": {},
   "source": [
    "# Load The MTN Upsell dataset"
   ]
  },
  {
   "cell_type": "code",
   "execution_count": 66,
   "id": "95f6bec9",
   "metadata": {},
   "outputs": [],
   "source": [
    "df = pd.read_excel('../data/raw/mtn_upsell_uncleaned.xlsx')"
   ]
  },
  {
   "cell_type": "code",
   "execution_count": 61,
   "id": "90565fef",
   "metadata": {},
   "outputs": [
    {
     "name": "stdout",
     "output_type": "stream",
     "text": [
      "<class 'pandas.core.frame.DataFrame'>\n",
      "RangeIndex: 9377 entries, 0 to 9376\n",
      "Data columns (total 9 columns):\n",
      " #   Column               Non-Null Count  Dtype  \n",
      "---  ------               --------------  -----  \n",
      " 0   dates                9377 non-null   int64  \n",
      " 1   Phone Number         9377 non-null   int64  \n",
      " 2   total_reloads        9377 non-null   int64  \n",
      " 3   total_reload_amount  9309 non-null   float64\n",
      " 4   imei                 9377 non-null   int64  \n",
      " 5   brand_name           9377 non-null   object \n",
      " 6   model_name           9377 non-null   object \n",
      " 7   device_category      9377 non-null   object \n",
      " 8   data_kb              9377 non-null   float64\n",
      "dtypes: float64(2), int64(4), object(3)\n",
      "memory usage: 659.4+ KB\n"
     ]
    }
   ],
   "source": [
    "df.info()"
   ]
  },
  {
   "cell_type": "markdown",
   "id": "2baf240e",
   "metadata": {},
   "source": [
    "# Data Cleaning"
   ]
  },
  {
   "cell_type": "markdown",
   "id": "feda40fb",
   "metadata": {},
   "source": [
    "As you see we have 60+ nan rows in 'total_reload_amount' column. Common causes are\n",
    "\n",
    "1. System recording error – Reload was counted, but the amount wasn’t saved.\n",
    "\n",
    "2. Free bonus/airdrop – A “reload” without money involved (rare).\n",
    "\n",
    "3. Incomplete data – Some recharge transactions didn’t sync fully.\n",
    "\n",
    "So i think it's an incomplete data problem, i decide to impute those nan values by the mean of people who reloaded 1 time"
   ]
  },
  {
   "cell_type": "code",
   "execution_count": 67,
   "id": "95c7ce6f",
   "metadata": {},
   "outputs": [
    {
     "data": {
      "text/plain": [
       "341.4826373038516"
      ]
     },
     "execution_count": 67,
     "metadata": {},
     "output_type": "execute_result"
    }
   ],
   "source": [
    "mean_total_reloads_amount = df[(df['total_reloads'] == 1) & (df['total_reload_amount'].notna())]['total_reload_amount'].mean()\n",
    "float(mean_total_reloads_amount)"
   ]
  },
  {
   "cell_type": "code",
   "execution_count": 68,
   "id": "eb7b125b",
   "metadata": {},
   "outputs": [],
   "source": [
    "df['total_reload_amount'] = df['total_reload_amount'].fillna(mean_total_reloads_amount)"
   ]
  },
  {
   "cell_type": "code",
   "execution_count": 69,
   "id": "72e4ca76",
   "metadata": {},
   "outputs": [
    {
     "name": "stdout",
     "output_type": "stream",
     "text": [
      "<class 'pandas.core.frame.DataFrame'>\n",
      "RangeIndex: 9377 entries, 0 to 9376\n",
      "Data columns (total 9 columns):\n",
      " #   Column               Non-Null Count  Dtype  \n",
      "---  ------               --------------  -----  \n",
      " 0   dates                9377 non-null   int64  \n",
      " 1   Phone Number         9377 non-null   int64  \n",
      " 2   total_reloads        9377 non-null   int64  \n",
      " 3   total_reload_amount  9377 non-null   float64\n",
      " 4   imei                 9377 non-null   int64  \n",
      " 5   brand_name           9377 non-null   object \n",
      " 6   model_name           9377 non-null   object \n",
      " 7   device_category      9377 non-null   object \n",
      " 8   data_kb              9377 non-null   float64\n",
      "dtypes: float64(2), int64(4), object(3)\n",
      "memory usage: 659.4+ KB\n"
     ]
    }
   ],
   "source": [
    "df.info()"
   ]
  },
  {
   "cell_type": "code",
   "execution_count": null,
   "id": "42dc8e0d",
   "metadata": {},
   "outputs": [],
   "source": []
  }
 ],
 "metadata": {
  "kernelspec": {
   "display_name": ".venv",
   "language": "python",
   "name": "python3"
  },
  "language_info": {
   "codemirror_mode": {
    "name": "ipython",
    "version": 3
   },
   "file_extension": ".py",
   "mimetype": "text/x-python",
   "name": "python",
   "nbconvert_exporter": "python",
   "pygments_lexer": "ipython3",
   "version": "3.11.2"
  }
 },
 "nbformat": 4,
 "nbformat_minor": 5
}
