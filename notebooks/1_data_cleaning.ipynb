{
 "cells": [
  {
   "cell_type": "markdown",
   "id": "d686715f",
   "metadata": {},
   "source": [
    "# Import necessary libraries"
   ]
  },
  {
   "cell_type": "code",
   "execution_count": 1,
   "id": "cb1efbb8",
   "metadata": {},
   "outputs": [],
   "source": [
    "import pandas as pd"
   ]
  },
  {
   "cell_type": "markdown",
   "id": "ec811ade",
   "metadata": {},
   "source": [
    "# Load The MTN Upsell dataset"
   ]
  },
  {
   "cell_type": "code",
   "execution_count": 2,
   "id": "95f6bec9",
   "metadata": {},
   "outputs": [],
   "source": [
    "# df = pd.read_excel('../data/raw/mtn_upsell_uncleaned.xlsx')\n",
    "df = pd.read_csv('../data/raw/mtn_upsell_generated_mod.csv', low_memory=False)"
   ]
  },
  {
   "cell_type": "code",
   "execution_count": 3,
   "id": "7f77c747",
   "metadata": {},
   "outputs": [
    {
     "data": {
      "text/plain": [
       "0"
      ]
     },
     "execution_count": 3,
     "metadata": {},
     "output_type": "execute_result"
    }
   ],
   "source": [
    "# df.isnull().sum()\n",
    "int(df['total_reloads'].isnull().sum())"
   ]
  },
  {
   "cell_type": "markdown",
   "id": "2baf240e",
   "metadata": {},
   "source": [
    "# Data Cleaning"
   ]
  },
  {
   "cell_type": "markdown",
   "id": "feda40fb",
   "metadata": {},
   "source": [
    "As you see we have 21k+ nan rows in 'total_reload_amount' column. Common causes are\n",
    "\n",
    "1. System recording error – Reload was counted, but the amount wasn’t saved.\n",
    "\n",
    "2. Free bonus/airdrop – A “reload” without money involved (rare).\n",
    "\n",
    "3. Incomplete data – Some recharge transactions didn’t sync fully.\n",
    "\n",
    "So i think it's an incomplete data problem, i decide to impute those nan values by the mean of people who reloaded 1 time"
   ]
  },
  {
   "cell_type": "code",
   "execution_count": 4,
   "id": "95c7ce6f",
   "metadata": {},
   "outputs": [
    {
     "data": {
      "text/plain": [
       "304.66826066455485"
      ]
     },
     "execution_count": 4,
     "metadata": {},
     "output_type": "execute_result"
    }
   ],
   "source": [
    "mean_total_reloads_amount = df[(df['total_reloads'] == 1) & (df['total_reload_amount'].notna())]['total_reload_amount'].mean()\n",
    "float(mean_total_reloads_amount)"
   ]
  },
  {
   "cell_type": "code",
   "execution_count": 5,
   "id": "eb7b125b",
   "metadata": {},
   "outputs": [],
   "source": [
    "df['total_reload_amount'] = df['total_reload_amount'].fillna(mean_total_reloads_amount)"
   ]
  },
  {
   "cell_type": "code",
   "execution_count": 6,
   "id": "72e4ca76",
   "metadata": {},
   "outputs": [
    {
     "name": "stdout",
     "output_type": "stream",
     "text": [
      "Imputed missing values using mean: 304.67\n"
     ]
    }
   ],
   "source": [
    "print(f\"Imputed missing values using mean: {mean_total_reloads_amount:.2f}\")"
   ]
  },
  {
   "cell_type": "code",
   "execution_count": 7,
   "id": "177154a8",
   "metadata": {},
   "outputs": [
    {
     "name": "stdout",
     "output_type": "stream",
     "text": [
      "<class 'pandas.core.frame.DataFrame'>\n",
      "RangeIndex: 3004191 entries, 0 to 3004190\n",
      "Data columns (total 9 columns):\n",
      " #   Column               Dtype  \n",
      "---  ------               -----  \n",
      " 0   dates                int64  \n",
      " 1   Phone Number         int64  \n",
      " 2   total_reloads        int64  \n",
      " 3   total_reload_amount  float64\n",
      " 4   imei                 int64  \n",
      " 5   brand_name           object \n",
      " 6   model_name           object \n",
      " 7   device_category      object \n",
      " 8   data_kb              float64\n",
      "dtypes: float64(2), int64(4), object(3)\n",
      "memory usage: 206.3+ MB\n"
     ]
    }
   ],
   "source": [
    "df.info()"
   ]
  },
  {
   "cell_type": "markdown",
   "id": "ce866c09",
   "metadata": {},
   "source": [
    "**Columns types**\n",
    "\n",
    "column device_category have different types and it was supposed to be int() let's find out why\n",
    "\n",
    "Caused by char (-) , let me fill all rows including - with 6 and change the type to int"
   ]
  },
  {
   "cell_type": "code",
   "execution_count": 8,
   "id": "67a7a67e",
   "metadata": {},
   "outputs": [
    {
     "data": {
      "text/plain": [
       "device_category\n",
       "5    1296108\n",
       "7     975905\n",
       "4     730787\n",
       "2        912\n",
       "3        299\n",
       "-        180\n",
       "Name: count, dtype: int64"
      ]
     },
     "execution_count": 8,
     "metadata": {},
     "output_type": "execute_result"
    }
   ],
   "source": [
    "df['device_category'].value_counts()"
   ]
  },
  {
   "cell_type": "code",
   "execution_count": 9,
   "id": "ac310bd4",
   "metadata": {},
   "outputs": [],
   "source": [
    "df['device_category'].value_counts()\n",
    "df['device_category'] = df['device_category'].replace('-','6')\n",
    "df['device_category'] = df['device_category'].astype(int)"
   ]
  },
  {
   "cell_type": "markdown",
   "id": "4f84cc0a",
   "metadata": {},
   "source": [
    "#### Let's find upgraded date for each user"
   ]
  },
  {
   "cell_type": "code",
   "execution_count": 10,
   "id": "42dc8e0d",
   "metadata": {},
   "outputs": [],
   "source": [
    "# convert dates columns to datetime\n",
    "df['dates'] = pd.to_datetime(df['dates'], format='%Y%m%d')\n",
    "\n",
    "# Sort the DataFrame by 'Phone Number' and 'dates'\n",
    "df = df.sort_values(by=['Phone Number', 'dates'])\n"
   ]
  },
  {
   "cell_type": "markdown",
   "id": "d9ad95af",
   "metadata": {},
   "source": [
    "Identify smartphones and those that aren't"
   ]
  },
  {
   "cell_type": "code",
   "execution_count": 11,
   "id": "b9a45c2c",
   "metadata": {},
   "outputs": [],
   "source": [
    "df['isSmartphone'] = df['device_category'] == 5\n"
   ]
  },
  {
   "cell_type": "markdown",
   "id": "22dac6d2",
   "metadata": {},
   "source": [
    "For each user, find the first date they used a smartphone"
   ]
  },
  {
   "cell_type": "code",
   "execution_count": 12,
   "id": "f1283382",
   "metadata": {},
   "outputs": [],
   "source": [
    "dates_upgraded = df[df['isSmartphone']].groupby('Phone Number')['dates'].min().reset_index()\n",
    "dates_upgraded = dates_upgraded.rename(columns={'dates': 'dates_upgraded', 'Phone Number': 'user'})"
   ]
  },
  {
   "cell_type": "code",
   "execution_count": 13,
   "id": "5e007a5e",
   "metadata": {},
   "outputs": [
    {
     "data": {
      "application/vnd.microsoft.datawrangler.viewer.v0+json": {
       "columns": [
        {
         "name": "index",
         "rawType": "int64",
         "type": "integer"
        },
        {
         "name": "user",
         "rawType": "int64",
         "type": "integer"
        },
        {
         "name": "dates_upgraded",
         "rawType": "datetime64[ns]",
         "type": "datetime"
        }
       ],
       "conversionMethod": "pd.DataFrame",
       "ref": "ed7bf1fe-c311-49ab-8a16-c94bc0657c12",
       "rows": [
        [
         "0",
         "225798700001",
         "2024-09-10 00:00:00"
        ],
        [
         "1",
         "225798700012",
         "2024-09-07 00:00:00"
        ],
        [
         "2",
         "225798700014",
         "2024-09-05 00:00:00"
        ],
        [
         "3",
         "225798700016",
         "2024-10-02 00:00:00"
        ],
        [
         "4",
         "225798700032",
         "2024-09-05 00:00:00"
        ],
        [
         "5",
         "225798700036",
         "2024-09-02 00:00:00"
        ],
        [
         "6",
         "225798700037",
         "2024-09-01 00:00:00"
        ],
        [
         "7",
         "225798700040",
         "2024-09-01 00:00:00"
        ],
        [
         "8",
         "225798700046",
         "2024-09-02 00:00:00"
        ],
        [
         "9",
         "225798700052",
         "2024-09-11 00:00:00"
        ],
        [
         "10",
         "225798700065",
         "2024-09-01 00:00:00"
        ],
        [
         "11",
         "225798700068",
         "2024-09-02 00:00:00"
        ],
        [
         "12",
         "225798700073",
         "2024-09-02 00:00:00"
        ],
        [
         "13",
         "225798700080",
         "2024-09-04 00:00:00"
        ],
        [
         "14",
         "225798700081",
         "2024-09-01 00:00:00"
        ],
        [
         "15",
         "225798700085",
         "2024-09-01 00:00:00"
        ],
        [
         "16",
         "225798700091",
         "2024-09-09 00:00:00"
        ],
        [
         "17",
         "225798700096",
         "2024-09-06 00:00:00"
        ],
        [
         "18",
         "225798700098",
         "2024-09-01 00:00:00"
        ],
        [
         "19",
         "225798700099",
         "2024-09-05 00:00:00"
        ],
        [
         "20",
         "225798700104",
         "2024-09-05 00:00:00"
        ],
        [
         "21",
         "225798700105",
         "2024-09-01 00:00:00"
        ],
        [
         "22",
         "225798700106",
         "2024-09-03 00:00:00"
        ],
        [
         "23",
         "225798700114",
         "2024-09-02 00:00:00"
        ],
        [
         "24",
         "225798700122",
         "2024-09-19 00:00:00"
        ],
        [
         "25",
         "225798700124",
         "2024-09-02 00:00:00"
        ],
        [
         "26",
         "225798700125",
         "2024-09-03 00:00:00"
        ],
        [
         "27",
         "225798700135",
         "2024-09-06 00:00:00"
        ],
        [
         "28",
         "225798700139",
         "2024-09-07 00:00:00"
        ],
        [
         "29",
         "225798700143",
         "2024-09-04 00:00:00"
        ],
        [
         "30",
         "225798700160",
         "2024-09-01 00:00:00"
        ],
        [
         "31",
         "225798700166",
         "2024-09-02 00:00:00"
        ],
        [
         "32",
         "225798700169",
         "2024-09-03 00:00:00"
        ],
        [
         "33",
         "225798700171",
         "2024-09-05 00:00:00"
        ],
        [
         "34",
         "225798700180",
         "2024-09-03 00:00:00"
        ],
        [
         "35",
         "225798700184",
         "2024-09-02 00:00:00"
        ],
        [
         "36",
         "225798700185",
         "2024-09-10 00:00:00"
        ],
        [
         "37",
         "225798700197",
         "2024-09-02 00:00:00"
        ],
        [
         "38",
         "225798700201",
         "2024-09-01 00:00:00"
        ],
        [
         "39",
         "225798700202",
         "2024-09-10 00:00:00"
        ],
        [
         "40",
         "225798700203",
         "2024-09-01 00:00:00"
        ],
        [
         "41",
         "225798700205",
         "2024-09-03 00:00:00"
        ],
        [
         "42",
         "225798700206",
         "2024-09-06 00:00:00"
        ],
        [
         "43",
         "225798700212",
         "2024-09-02 00:00:00"
        ],
        [
         "44",
         "225798700225",
         "2024-09-01 00:00:00"
        ],
        [
         "45",
         "225798700227",
         "2024-09-08 00:00:00"
        ],
        [
         "46",
         "225798700236",
         "2024-09-02 00:00:00"
        ],
        [
         "47",
         "225798700239",
         "2024-09-02 00:00:00"
        ],
        [
         "48",
         "225798700241",
         "2024-09-05 00:00:00"
        ],
        [
         "49",
         "225798700242",
         "2024-09-02 00:00:00"
        ]
       ],
       "shape": {
        "columns": 2,
        "rows": 20042
       }
      },
      "text/html": [
       "<div>\n",
       "<style scoped>\n",
       "    .dataframe tbody tr th:only-of-type {\n",
       "        vertical-align: middle;\n",
       "    }\n",
       "\n",
       "    .dataframe tbody tr th {\n",
       "        vertical-align: top;\n",
       "    }\n",
       "\n",
       "    .dataframe thead th {\n",
       "        text-align: right;\n",
       "    }\n",
       "</style>\n",
       "<table border=\"1\" class=\"dataframe\">\n",
       "  <thead>\n",
       "    <tr style=\"text-align: right;\">\n",
       "      <th></th>\n",
       "      <th>user</th>\n",
       "      <th>dates_upgraded</th>\n",
       "    </tr>\n",
       "  </thead>\n",
       "  <tbody>\n",
       "    <tr>\n",
       "      <th>0</th>\n",
       "      <td>225798700001</td>\n",
       "      <td>2024-09-10</td>\n",
       "    </tr>\n",
       "    <tr>\n",
       "      <th>1</th>\n",
       "      <td>225798700012</td>\n",
       "      <td>2024-09-07</td>\n",
       "    </tr>\n",
       "    <tr>\n",
       "      <th>2</th>\n",
       "      <td>225798700014</td>\n",
       "      <td>2024-09-05</td>\n",
       "    </tr>\n",
       "    <tr>\n",
       "      <th>3</th>\n",
       "      <td>225798700016</td>\n",
       "      <td>2024-10-02</td>\n",
       "    </tr>\n",
       "    <tr>\n",
       "      <th>4</th>\n",
       "      <td>225798700032</td>\n",
       "      <td>2024-09-05</td>\n",
       "    </tr>\n",
       "    <tr>\n",
       "      <th>...</th>\n",
       "      <td>...</td>\n",
       "      <td>...</td>\n",
       "    </tr>\n",
       "    <tr>\n",
       "      <th>20037</th>\n",
       "      <td>225798799970</td>\n",
       "      <td>2024-09-01</td>\n",
       "    </tr>\n",
       "    <tr>\n",
       "      <th>20038</th>\n",
       "      <td>225798799973</td>\n",
       "      <td>2024-09-01</td>\n",
       "    </tr>\n",
       "    <tr>\n",
       "      <th>20039</th>\n",
       "      <td>225798799975</td>\n",
       "      <td>2024-09-03</td>\n",
       "    </tr>\n",
       "    <tr>\n",
       "      <th>20040</th>\n",
       "      <td>225798799979</td>\n",
       "      <td>2024-09-09</td>\n",
       "    </tr>\n",
       "    <tr>\n",
       "      <th>20041</th>\n",
       "      <td>225798799982</td>\n",
       "      <td>2024-09-01</td>\n",
       "    </tr>\n",
       "  </tbody>\n",
       "</table>\n",
       "<p>20042 rows × 2 columns</p>\n",
       "</div>"
      ],
      "text/plain": [
       "               user dates_upgraded\n",
       "0      225798700001     2024-09-10\n",
       "1      225798700012     2024-09-07\n",
       "2      225798700014     2024-09-05\n",
       "3      225798700016     2024-10-02\n",
       "4      225798700032     2024-09-05\n",
       "...             ...            ...\n",
       "20037  225798799970     2024-09-01\n",
       "20038  225798799973     2024-09-01\n",
       "20039  225798799975     2024-09-03\n",
       "20040  225798799979     2024-09-09\n",
       "20041  225798799982     2024-09-01\n",
       "\n",
       "[20042 rows x 2 columns]"
      ]
     },
     "execution_count": 13,
     "metadata": {},
     "output_type": "execute_result"
    }
   ],
   "source": [
    "dates_upgraded"
   ]
  },
  {
   "cell_type": "markdown",
   "id": "a38879df",
   "metadata": {},
   "source": [
    "Let's get users who used feature/basic phone before"
   ]
  },
  {
   "cell_type": "code",
   "execution_count": 14,
   "id": "54f82956",
   "metadata": {},
   "outputs": [
    {
     "data": {
      "text/plain": [
       "array([225798700001, 225798700012, 225798700014, ..., 225798799975,\n",
       "       225798799979, 225798799982], shape=(20042,))"
      ]
     },
     "execution_count": 14,
     "metadata": {},
     "output_type": "execute_result"
    }
   ],
   "source": [
    "feature_or_basic = df[df['device_category'].isin([4,7])]['Phone Number'].unique()\n",
    "\n",
    "feature_or_basic"
   ]
  },
  {
   "cell_type": "markdown",
   "id": "5df80b7d",
   "metadata": {},
   "source": [
    "Filter dates_upgraded to include only those who had a basic/feature phone first"
   ]
  },
  {
   "cell_type": "code",
   "execution_count": 15,
   "id": "45db7aa0",
   "metadata": {},
   "outputs": [],
   "source": [
    "dates_upgraded =  dates_upgraded[dates_upgraded['user'].isin(feature_or_basic)]"
   ]
  },
  {
   "cell_type": "markdown",
   "id": "359b274c",
   "metadata": {},
   "source": [
    "Store the dates_upgraded DataFrame in a CSV file"
   ]
  },
  {
   "cell_type": "code",
   "execution_count": 16,
   "id": "17f7396f",
   "metadata": {},
   "outputs": [],
   "source": [
    "dates_upgraded.to_csv('../data/cleaned/users_and_date_upgraded.csv', index=False)"
   ]
  },
  {
   "cell_type": "markdown",
   "id": "04aecae9",
   "metadata": {},
   "source": [
    "#### Build Usage & Recharge Features\n",
    "\n",
    "For each user in dates_upgraded determine\n",
    "\n",
    "1. Data used before upgrade => dt_before\n",
    "2. Data used after upgrade => dt_after\n",
    "3. Standard deviation of data usage before & after => std_before & std_after\n",
    "4. Days active after the upgrade where data_kb > 0\n",
    "5. Recharge growth determined by total_reload_amount (after)-(before)\n",
    "6. Days passed to first data use = Days between upgrade and first data_kb>0\n",
    "\n",
    "why standard deviation before & after ?:  This will tell us how consistent or unstable user's data usage behaviour is\n",
    "\n",
    "> low std : User has a steady behaviour\n",
    "\n",
    "> high std :  User has unpredicatble behaviour\n",
    "\n",
    "In short:\n",
    "\n",
    "I'm not just measuring how much data someone used, but how stable or risky their behavior was."
   ]
  },
  {
   "cell_type": "markdown",
   "id": "1a680fc4",
   "metadata": {},
   "source": [
    "##### Merge date_upgraded with the original df"
   ]
  },
  {
   "cell_type": "code",
   "execution_count": 17,
   "id": "dc49d71d",
   "metadata": {},
   "outputs": [],
   "source": [
    "#Firstly, we need to rename the 'Phone Number' column to 'user' in the original DataFrame\n",
    "df = df.rename(columns={'Phone Number': 'user'})\n",
    "\n",
    "df = df.merge(dates_upgraded, on='user', how='left')"
   ]
  },
  {
   "cell_type": "markdown",
   "id": "0cec02cc",
   "metadata": {},
   "source": [
    "Create columns to label rows as \"before\" or \"after\" upgrade"
   ]
  },
  {
   "cell_type": "code",
   "execution_count": 18,
   "id": "fa8311fd",
   "metadata": {},
   "outputs": [
    {
     "data": {
      "application/vnd.microsoft.datawrangler.viewer.v0+json": {
       "columns": [
        {
         "name": "index",
         "rawType": "int64",
         "type": "integer"
        },
        {
         "name": "dates",
         "rawType": "datetime64[ns]",
         "type": "datetime"
        },
        {
         "name": "user",
         "rawType": "int64",
         "type": "integer"
        },
        {
         "name": "total_reloads",
         "rawType": "int64",
         "type": "integer"
        },
        {
         "name": "total_reload_amount",
         "rawType": "float64",
         "type": "float"
        },
        {
         "name": "imei",
         "rawType": "int64",
         "type": "integer"
        },
        {
         "name": "brand_name",
         "rawType": "object",
         "type": "string"
        },
        {
         "name": "model_name",
         "rawType": "object",
         "type": "string"
        },
        {
         "name": "device_category",
         "rawType": "int64",
         "type": "integer"
        },
        {
         "name": "data_kb",
         "rawType": "float64",
         "type": "float"
        },
        {
         "name": "isSmartphone",
         "rawType": "bool",
         "type": "boolean"
        },
        {
         "name": "dates_upgraded",
         "rawType": "datetime64[ns]",
         "type": "datetime"
        },
        {
         "name": "Days_to_Upgrade",
         "rawType": "int64",
         "type": "integer"
        },
        {
         "name": "isBefore",
         "rawType": "bool",
         "type": "boolean"
        },
        {
         "name": "isAfter",
         "rawType": "bool",
         "type": "boolean"
        }
       ],
       "conversionMethod": "pd.DataFrame",
       "ref": "3a459b12-891f-4d36-bc1c-3aa74aa6c9e7",
       "rows": [
        [
         "0",
         "2024-09-09 00:00:00",
         "225798700001",
         "2",
         "113.47",
         "2499020533",
         "Brand_11",
         "Brand_11_Model_2",
         "7",
         "156802.99",
         "False",
         "2024-09-10 00:00:00",
         "-1",
         "True",
         "False"
        ],
        [
         "1",
         "2024-09-10 00:00:00",
         "225798700001",
         "1",
         "137.61",
         "1356105166",
         "Brand_25",
         "Brand_25_Model_2",
         "5",
         "32615.8",
         "True",
         "2024-09-10 00:00:00",
         "0",
         "False",
         "True"
        ],
        [
         "2",
         "2024-09-10 00:00:00",
         "225798700001",
         "1",
         "171.49",
         "1082651869",
         "Brand_29",
         "Brand_29_Model_2",
         "5",
         "1837504.58",
         "True",
         "2024-09-10 00:00:00",
         "0",
         "False",
         "True"
        ],
        [
         "3",
         "2024-09-17 00:00:00",
         "225798700001",
         "1",
         "902.91",
         "1137344381",
         "Brand_49",
         "Brand_49_Model_1",
         "5",
         "0.0",
         "True",
         "2024-09-10 00:00:00",
         "7",
         "False",
         "True"
        ],
        [
         "4",
         "2024-09-17 00:00:00",
         "225798700001",
         "1",
         "41.15",
         "1980489975",
         "Brand_28",
         "Brand_28_Model_6",
         "5",
         "67296.78",
         "True",
         "2024-09-10 00:00:00",
         "7",
         "False",
         "True"
        ]
       ],
       "shape": {
        "columns": 14,
        "rows": 5
       }
      },
      "text/html": [
       "<div>\n",
       "<style scoped>\n",
       "    .dataframe tbody tr th:only-of-type {\n",
       "        vertical-align: middle;\n",
       "    }\n",
       "\n",
       "    .dataframe tbody tr th {\n",
       "        vertical-align: top;\n",
       "    }\n",
       "\n",
       "    .dataframe thead th {\n",
       "        text-align: right;\n",
       "    }\n",
       "</style>\n",
       "<table border=\"1\" class=\"dataframe\">\n",
       "  <thead>\n",
       "    <tr style=\"text-align: right;\">\n",
       "      <th></th>\n",
       "      <th>dates</th>\n",
       "      <th>user</th>\n",
       "      <th>total_reloads</th>\n",
       "      <th>total_reload_amount</th>\n",
       "      <th>imei</th>\n",
       "      <th>brand_name</th>\n",
       "      <th>model_name</th>\n",
       "      <th>device_category</th>\n",
       "      <th>data_kb</th>\n",
       "      <th>isSmartphone</th>\n",
       "      <th>dates_upgraded</th>\n",
       "      <th>Days_to_Upgrade</th>\n",
       "      <th>isBefore</th>\n",
       "      <th>isAfter</th>\n",
       "    </tr>\n",
       "  </thead>\n",
       "  <tbody>\n",
       "    <tr>\n",
       "      <th>0</th>\n",
       "      <td>2024-09-09</td>\n",
       "      <td>225798700001</td>\n",
       "      <td>2</td>\n",
       "      <td>113.47</td>\n",
       "      <td>2499020533</td>\n",
       "      <td>Brand_11</td>\n",
       "      <td>Brand_11_Model_2</td>\n",
       "      <td>7</td>\n",
       "      <td>156802.99</td>\n",
       "      <td>False</td>\n",
       "      <td>2024-09-10</td>\n",
       "      <td>-1</td>\n",
       "      <td>True</td>\n",
       "      <td>False</td>\n",
       "    </tr>\n",
       "    <tr>\n",
       "      <th>1</th>\n",
       "      <td>2024-09-10</td>\n",
       "      <td>225798700001</td>\n",
       "      <td>1</td>\n",
       "      <td>137.61</td>\n",
       "      <td>1356105166</td>\n",
       "      <td>Brand_25</td>\n",
       "      <td>Brand_25_Model_2</td>\n",
       "      <td>5</td>\n",
       "      <td>32615.80</td>\n",
       "      <td>True</td>\n",
       "      <td>2024-09-10</td>\n",
       "      <td>0</td>\n",
       "      <td>False</td>\n",
       "      <td>True</td>\n",
       "    </tr>\n",
       "    <tr>\n",
       "      <th>2</th>\n",
       "      <td>2024-09-10</td>\n",
       "      <td>225798700001</td>\n",
       "      <td>1</td>\n",
       "      <td>171.49</td>\n",
       "      <td>1082651869</td>\n",
       "      <td>Brand_29</td>\n",
       "      <td>Brand_29_Model_2</td>\n",
       "      <td>5</td>\n",
       "      <td>1837504.58</td>\n",
       "      <td>True</td>\n",
       "      <td>2024-09-10</td>\n",
       "      <td>0</td>\n",
       "      <td>False</td>\n",
       "      <td>True</td>\n",
       "    </tr>\n",
       "    <tr>\n",
       "      <th>3</th>\n",
       "      <td>2024-09-17</td>\n",
       "      <td>225798700001</td>\n",
       "      <td>1</td>\n",
       "      <td>902.91</td>\n",
       "      <td>1137344381</td>\n",
       "      <td>Brand_49</td>\n",
       "      <td>Brand_49_Model_1</td>\n",
       "      <td>5</td>\n",
       "      <td>0.00</td>\n",
       "      <td>True</td>\n",
       "      <td>2024-09-10</td>\n",
       "      <td>7</td>\n",
       "      <td>False</td>\n",
       "      <td>True</td>\n",
       "    </tr>\n",
       "    <tr>\n",
       "      <th>4</th>\n",
       "      <td>2024-09-17</td>\n",
       "      <td>225798700001</td>\n",
       "      <td>1</td>\n",
       "      <td>41.15</td>\n",
       "      <td>1980489975</td>\n",
       "      <td>Brand_28</td>\n",
       "      <td>Brand_28_Model_6</td>\n",
       "      <td>5</td>\n",
       "      <td>67296.78</td>\n",
       "      <td>True</td>\n",
       "      <td>2024-09-10</td>\n",
       "      <td>7</td>\n",
       "      <td>False</td>\n",
       "      <td>True</td>\n",
       "    </tr>\n",
       "  </tbody>\n",
       "</table>\n",
       "</div>"
      ],
      "text/plain": [
       "       dates          user  total_reloads  total_reload_amount        imei  \\\n",
       "0 2024-09-09  225798700001              2               113.47  2499020533   \n",
       "1 2024-09-10  225798700001              1               137.61  1356105166   \n",
       "2 2024-09-10  225798700001              1               171.49  1082651869   \n",
       "3 2024-09-17  225798700001              1               902.91  1137344381   \n",
       "4 2024-09-17  225798700001              1                41.15  1980489975   \n",
       "\n",
       "  brand_name        model_name  device_category     data_kb  isSmartphone  \\\n",
       "0   Brand_11  Brand_11_Model_2                7   156802.99         False   \n",
       "1   Brand_25  Brand_25_Model_2                5    32615.80          True   \n",
       "2   Brand_29  Brand_29_Model_2                5  1837504.58          True   \n",
       "3   Brand_49  Brand_49_Model_1                5        0.00          True   \n",
       "4   Brand_28  Brand_28_Model_6                5    67296.78          True   \n",
       "\n",
       "  dates_upgraded  Days_to_Upgrade  isBefore  isAfter  \n",
       "0     2024-09-10               -1      True    False  \n",
       "1     2024-09-10                0     False     True  \n",
       "2     2024-09-10                0     False     True  \n",
       "3     2024-09-10                7     False     True  \n",
       "4     2024-09-10                7     False     True  "
      ]
     },
     "execution_count": 18,
     "metadata": {},
     "output_type": "execute_result"
    }
   ],
   "source": [
    "df['Days_to_Upgrade'] = (df['dates']- df['dates_upgraded']).dt.days\n",
    "\n",
    "df['isBefore'] = df['Days_to_Upgrade'].between(-30, -1) #30 days before upgrade\n",
    "df['isAfter'] = df['Days_to_Upgrade'].between(0, 60) #60 days after upgrade\n",
    "\n",
    "df[(df['isBefore'] | df['isAfter'])].head()"
   ]
  },
  {
   "cell_type": "markdown",
   "id": "f0ac7d6f",
   "metadata": {},
   "source": [
    "Aggregate usage stats per user for both periods\n",
    "\n",
    "1. before upgrade"
   ]
  },
  {
   "cell_type": "code",
   "execution_count": 19,
   "id": "ff3ab446",
   "metadata": {},
   "outputs": [
    {
     "data": {
      "application/vnd.microsoft.datawrangler.viewer.v0+json": {
       "columns": [
        {
         "name": "index",
         "rawType": "int64",
         "type": "integer"
        },
        {
         "name": "user",
         "rawType": "int64",
         "type": "integer"
        },
        {
         "name": "avg_data_before_upgrade",
         "rawType": "float64",
         "type": "float"
        },
        {
         "name": "std_before",
         "rawType": "float64",
         "type": "float"
        },
        {
         "name": "total_recharge_before",
         "rawType": "float64",
         "type": "float"
        }
       ],
       "conversionMethod": "pd.DataFrame",
       "ref": "7c2e04c2-aee4-4e1b-96b2-03617a2076ab",
       "rows": [
        [
         "0",
         "225798700001",
         "156802.99",
         null,
         "113.47"
        ],
        [
         "1",
         "225798700012",
         "88923.625",
         "125756.99649037921",
         "124.37"
        ],
        [
         "2",
         "225798700016",
         "152250.54",
         "141042.18388176968",
         "1885.47"
        ],
        [
         "3",
         "225798700036",
         "297134.18",
         null,
         "33.72"
        ],
        [
         "4",
         "225798700046",
         "816601.31",
         null,
         "279.67"
        ]
       ],
       "shape": {
        "columns": 4,
        "rows": 5
       }
      },
      "text/html": [
       "<div>\n",
       "<style scoped>\n",
       "    .dataframe tbody tr th:only-of-type {\n",
       "        vertical-align: middle;\n",
       "    }\n",
       "\n",
       "    .dataframe tbody tr th {\n",
       "        vertical-align: top;\n",
       "    }\n",
       "\n",
       "    .dataframe thead th {\n",
       "        text-align: right;\n",
       "    }\n",
       "</style>\n",
       "<table border=\"1\" class=\"dataframe\">\n",
       "  <thead>\n",
       "    <tr style=\"text-align: right;\">\n",
       "      <th></th>\n",
       "      <th>user</th>\n",
       "      <th>avg_data_before_upgrade</th>\n",
       "      <th>std_before</th>\n",
       "      <th>total_recharge_before</th>\n",
       "    </tr>\n",
       "  </thead>\n",
       "  <tbody>\n",
       "    <tr>\n",
       "      <th>0</th>\n",
       "      <td>225798700001</td>\n",
       "      <td>156802.990</td>\n",
       "      <td>NaN</td>\n",
       "      <td>113.47</td>\n",
       "    </tr>\n",
       "    <tr>\n",
       "      <th>1</th>\n",
       "      <td>225798700012</td>\n",
       "      <td>88923.625</td>\n",
       "      <td>125756.996490</td>\n",
       "      <td>124.37</td>\n",
       "    </tr>\n",
       "    <tr>\n",
       "      <th>2</th>\n",
       "      <td>225798700016</td>\n",
       "      <td>152250.540</td>\n",
       "      <td>141042.183882</td>\n",
       "      <td>1885.47</td>\n",
       "    </tr>\n",
       "    <tr>\n",
       "      <th>3</th>\n",
       "      <td>225798700036</td>\n",
       "      <td>297134.180</td>\n",
       "      <td>NaN</td>\n",
       "      <td>33.72</td>\n",
       "    </tr>\n",
       "    <tr>\n",
       "      <th>4</th>\n",
       "      <td>225798700046</td>\n",
       "      <td>816601.310</td>\n",
       "      <td>NaN</td>\n",
       "      <td>279.67</td>\n",
       "    </tr>\n",
       "  </tbody>\n",
       "</table>\n",
       "</div>"
      ],
      "text/plain": [
       "           user  avg_data_before_upgrade     std_before  total_recharge_before\n",
       "0  225798700001               156802.990            NaN                 113.47\n",
       "1  225798700012                88923.625  125756.996490                 124.37\n",
       "2  225798700016               152250.540  141042.183882                1885.47\n",
       "3  225798700036               297134.180            NaN                  33.72\n",
       "4  225798700046               816601.310            NaN                 279.67"
      ]
     },
     "execution_count": 19,
     "metadata": {},
     "output_type": "execute_result"
    }
   ],
   "source": [
    "before = df[df['isBefore']].groupby('user').agg(\n",
    "    avg_data_before_upgrade=('data_kb', 'mean'),\n",
    "    std_before=('data_kb', 'std'),\n",
    "    total_recharge_before=('total_reload_amount', 'sum')\n",
    ").reset_index()\n",
    "\n",
    "before.head()\n"
   ]
  },
  {
   "cell_type": "markdown",
   "id": "bdf5f977",
   "metadata": {},
   "source": [
    "2. after upgrade"
   ]
  },
  {
   "cell_type": "code",
   "execution_count": 20,
   "id": "fe0a8a9d",
   "metadata": {},
   "outputs": [
    {
     "data": {
      "application/vnd.microsoft.datawrangler.viewer.v0+json": {
       "columns": [
        {
         "name": "index",
         "rawType": "int64",
         "type": "integer"
        },
        {
         "name": "user",
         "rawType": "int64",
         "type": "integer"
        },
        {
         "name": "avg_data_after_upgrade",
         "rawType": "float64",
         "type": "float"
        },
        {
         "name": "std_after",
         "rawType": "float64",
         "type": "float"
        },
        {
         "name": "total_recharge_after",
         "rawType": "float64",
         "type": "float"
        },
        {
         "name": "days_active_after",
         "rawType": "int64",
         "type": "integer"
        },
        {
         "name": "time_to_first_data_use",
         "rawType": "float64",
         "type": "float"
        }
       ],
       "conversionMethod": "pd.DataFrame",
       "ref": "be338da4-ebc0-4583-8a32-3e6a47bd2554",
       "rows": [
        [
         "0",
         "225798700001",
         "406223.96",
         "645813.623179855",
         "7574.878260664555",
         "27",
         "0.0"
        ],
        [
         "1",
         "225798700012",
         "471228.7411111111",
         "612422.558415557",
         "14863.328260664555",
         "53",
         "0.0"
        ],
        [
         "2",
         "225798700014",
         "669976.7740425533",
         "1080963.0232362633",
         "15855.988260664555",
         "45",
         "0.0"
        ],
        [
         "3",
         "225798700016",
         "783516.9141666667",
         "1818749.3178107622",
         "8418.27",
         "23",
         "0.0"
        ],
        [
         "4",
         "225798700032",
         "458873.0722807018",
         "579248.6005926795",
         "10687.68",
         "56",
         "0.0"
        ]
       ],
       "shape": {
        "columns": 6,
        "rows": 5
       }
      },
      "text/html": [
       "<div>\n",
       "<style scoped>\n",
       "    .dataframe tbody tr th:only-of-type {\n",
       "        vertical-align: middle;\n",
       "    }\n",
       "\n",
       "    .dataframe tbody tr th {\n",
       "        vertical-align: top;\n",
       "    }\n",
       "\n",
       "    .dataframe thead th {\n",
       "        text-align: right;\n",
       "    }\n",
       "</style>\n",
       "<table border=\"1\" class=\"dataframe\">\n",
       "  <thead>\n",
       "    <tr style=\"text-align: right;\">\n",
       "      <th></th>\n",
       "      <th>user</th>\n",
       "      <th>avg_data_after_upgrade</th>\n",
       "      <th>std_after</th>\n",
       "      <th>total_recharge_after</th>\n",
       "      <th>days_active_after</th>\n",
       "      <th>time_to_first_data_use</th>\n",
       "    </tr>\n",
       "  </thead>\n",
       "  <tbody>\n",
       "    <tr>\n",
       "      <th>0</th>\n",
       "      <td>225798700001</td>\n",
       "      <td>406223.960000</td>\n",
       "      <td>6.458136e+05</td>\n",
       "      <td>7574.878261</td>\n",
       "      <td>27</td>\n",
       "      <td>0.0</td>\n",
       "    </tr>\n",
       "    <tr>\n",
       "      <th>1</th>\n",
       "      <td>225798700012</td>\n",
       "      <td>471228.741111</td>\n",
       "      <td>6.124226e+05</td>\n",
       "      <td>14863.328261</td>\n",
       "      <td>53</td>\n",
       "      <td>0.0</td>\n",
       "    </tr>\n",
       "    <tr>\n",
       "      <th>2</th>\n",
       "      <td>225798700014</td>\n",
       "      <td>669976.774043</td>\n",
       "      <td>1.080963e+06</td>\n",
       "      <td>15855.988261</td>\n",
       "      <td>45</td>\n",
       "      <td>0.0</td>\n",
       "    </tr>\n",
       "    <tr>\n",
       "      <th>3</th>\n",
       "      <td>225798700016</td>\n",
       "      <td>783516.914167</td>\n",
       "      <td>1.818749e+06</td>\n",
       "      <td>8418.270000</td>\n",
       "      <td>23</td>\n",
       "      <td>0.0</td>\n",
       "    </tr>\n",
       "    <tr>\n",
       "      <th>4</th>\n",
       "      <td>225798700032</td>\n",
       "      <td>458873.072281</td>\n",
       "      <td>5.792486e+05</td>\n",
       "      <td>10687.680000</td>\n",
       "      <td>56</td>\n",
       "      <td>0.0</td>\n",
       "    </tr>\n",
       "  </tbody>\n",
       "</table>\n",
       "</div>"
      ],
      "text/plain": [
       "           user  avg_data_after_upgrade     std_after  total_recharge_after  \\\n",
       "0  225798700001           406223.960000  6.458136e+05           7574.878261   \n",
       "1  225798700012           471228.741111  6.124226e+05          14863.328261   \n",
       "2  225798700014           669976.774043  1.080963e+06          15855.988261   \n",
       "3  225798700016           783516.914167  1.818749e+06           8418.270000   \n",
       "4  225798700032           458873.072281  5.792486e+05          10687.680000   \n",
       "\n",
       "   days_active_after  time_to_first_data_use  \n",
       "0                 27                     0.0  \n",
       "1                 53                     0.0  \n",
       "2                 45                     0.0  \n",
       "3                 23                     0.0  \n",
       "4                 56                     0.0  "
      ]
     },
     "execution_count": 20,
     "metadata": {},
     "output_type": "execute_result"
    }
   ],
   "source": [
    "after = df[df['isAfter']].groupby('user').agg(\n",
    "    avg_data_after_upgrade=('data_kb', 'mean'),\n",
    "    std_after=('data_kb', 'std'),\n",
    "    total_recharge_after=('total_reload_amount', 'sum'),\n",
    "    days_active_after=('data_kb', lambda x: (x > 0).sum()),\n",
    "    time_to_first_data_use=('Days_to_Upgrade', lambda x: x[df.loc[x.index, 'data_kb'] > 0].min())\n",
    ").reset_index()\n",
    "\n",
    "after.head()"
   ]
  },
  {
   "cell_type": "markdown",
   "id": "fc585fe5",
   "metadata": {},
   "source": [
    "3. Merge them together"
   ]
  },
  {
   "cell_type": "code",
   "execution_count": 21,
   "id": "e396286d",
   "metadata": {},
   "outputs": [
    {
     "data": {
      "application/vnd.microsoft.datawrangler.viewer.v0+json": {
       "columns": [
        {
         "name": "index",
         "rawType": "int64",
         "type": "integer"
        },
        {
         "name": "user",
         "rawType": "int64",
         "type": "integer"
        },
        {
         "name": "avg_data_before_upgrade",
         "rawType": "float64",
         "type": "float"
        },
        {
         "name": "std_before",
         "rawType": "float64",
         "type": "float"
        },
        {
         "name": "total_recharge_before",
         "rawType": "float64",
         "type": "float"
        },
        {
         "name": "avg_data_after_upgrade",
         "rawType": "float64",
         "type": "float"
        },
        {
         "name": "std_after",
         "rawType": "float64",
         "type": "float"
        },
        {
         "name": "total_recharge_after",
         "rawType": "float64",
         "type": "float"
        },
        {
         "name": "days_active_after",
         "rawType": "int64",
         "type": "integer"
        },
        {
         "name": "time_to_first_data_use",
         "rawType": "float64",
         "type": "float"
        }
       ],
       "conversionMethod": "pd.DataFrame",
       "ref": "13202695-74ed-4444-beb6-998e629273c1",
       "rows": [
        [
         "0",
         "225798700001",
         "156802.99",
         null,
         "113.47",
         "406223.96",
         "645813.623179855",
         "7574.878260664555",
         "27",
         "0.0"
        ],
        [
         "1",
         "225798700012",
         "88923.625",
         "125756.99649037921",
         "124.37",
         "471228.7411111111",
         "612422.558415557",
         "14863.328260664555",
         "53",
         "0.0"
        ],
        [
         "2",
         "225798700014",
         null,
         null,
         null,
         "669976.7740425533",
         "1080963.0232362633",
         "15855.988260664555",
         "45",
         "0.0"
        ],
        [
         "3",
         "225798700016",
         "152250.54",
         "141042.18388176968",
         "1885.47",
         "783516.9141666667",
         "1818749.3178107622",
         "8418.27",
         "23",
         "0.0"
        ],
        [
         "4",
         "225798700032",
         null,
         null,
         null,
         "458873.0722807018",
         "579248.6005926795",
         "10687.68",
         "56",
         "0.0"
        ]
       ],
       "shape": {
        "columns": 9,
        "rows": 5
       }
      },
      "text/html": [
       "<div>\n",
       "<style scoped>\n",
       "    .dataframe tbody tr th:only-of-type {\n",
       "        vertical-align: middle;\n",
       "    }\n",
       "\n",
       "    .dataframe tbody tr th {\n",
       "        vertical-align: top;\n",
       "    }\n",
       "\n",
       "    .dataframe thead th {\n",
       "        text-align: right;\n",
       "    }\n",
       "</style>\n",
       "<table border=\"1\" class=\"dataframe\">\n",
       "  <thead>\n",
       "    <tr style=\"text-align: right;\">\n",
       "      <th></th>\n",
       "      <th>user</th>\n",
       "      <th>avg_data_before_upgrade</th>\n",
       "      <th>std_before</th>\n",
       "      <th>total_recharge_before</th>\n",
       "      <th>avg_data_after_upgrade</th>\n",
       "      <th>std_after</th>\n",
       "      <th>total_recharge_after</th>\n",
       "      <th>days_active_after</th>\n",
       "      <th>time_to_first_data_use</th>\n",
       "    </tr>\n",
       "  </thead>\n",
       "  <tbody>\n",
       "    <tr>\n",
       "      <th>0</th>\n",
       "      <td>225798700001</td>\n",
       "      <td>156802.990</td>\n",
       "      <td>NaN</td>\n",
       "      <td>113.47</td>\n",
       "      <td>406223.960000</td>\n",
       "      <td>6.458136e+05</td>\n",
       "      <td>7574.878261</td>\n",
       "      <td>27</td>\n",
       "      <td>0.0</td>\n",
       "    </tr>\n",
       "    <tr>\n",
       "      <th>1</th>\n",
       "      <td>225798700012</td>\n",
       "      <td>88923.625</td>\n",
       "      <td>125756.996490</td>\n",
       "      <td>124.37</td>\n",
       "      <td>471228.741111</td>\n",
       "      <td>6.124226e+05</td>\n",
       "      <td>14863.328261</td>\n",
       "      <td>53</td>\n",
       "      <td>0.0</td>\n",
       "    </tr>\n",
       "    <tr>\n",
       "      <th>2</th>\n",
       "      <td>225798700014</td>\n",
       "      <td>NaN</td>\n",
       "      <td>NaN</td>\n",
       "      <td>NaN</td>\n",
       "      <td>669976.774043</td>\n",
       "      <td>1.080963e+06</td>\n",
       "      <td>15855.988261</td>\n",
       "      <td>45</td>\n",
       "      <td>0.0</td>\n",
       "    </tr>\n",
       "    <tr>\n",
       "      <th>3</th>\n",
       "      <td>225798700016</td>\n",
       "      <td>152250.540</td>\n",
       "      <td>141042.183882</td>\n",
       "      <td>1885.47</td>\n",
       "      <td>783516.914167</td>\n",
       "      <td>1.818749e+06</td>\n",
       "      <td>8418.270000</td>\n",
       "      <td>23</td>\n",
       "      <td>0.0</td>\n",
       "    </tr>\n",
       "    <tr>\n",
       "      <th>4</th>\n",
       "      <td>225798700032</td>\n",
       "      <td>NaN</td>\n",
       "      <td>NaN</td>\n",
       "      <td>NaN</td>\n",
       "      <td>458873.072281</td>\n",
       "      <td>5.792486e+05</td>\n",
       "      <td>10687.680000</td>\n",
       "      <td>56</td>\n",
       "      <td>0.0</td>\n",
       "    </tr>\n",
       "  </tbody>\n",
       "</table>\n",
       "</div>"
      ],
      "text/plain": [
       "           user  avg_data_before_upgrade     std_before  \\\n",
       "0  225798700001               156802.990            NaN   \n",
       "1  225798700012                88923.625  125756.996490   \n",
       "2  225798700014                      NaN            NaN   \n",
       "3  225798700016               152250.540  141042.183882   \n",
       "4  225798700032                      NaN            NaN   \n",
       "\n",
       "   total_recharge_before  avg_data_after_upgrade     std_after  \\\n",
       "0                 113.47           406223.960000  6.458136e+05   \n",
       "1                 124.37           471228.741111  6.124226e+05   \n",
       "2                    NaN           669976.774043  1.080963e+06   \n",
       "3                1885.47           783516.914167  1.818749e+06   \n",
       "4                    NaN           458873.072281  5.792486e+05   \n",
       "\n",
       "   total_recharge_after  days_active_after  time_to_first_data_use  \n",
       "0           7574.878261                 27                     0.0  \n",
       "1          14863.328261                 53                     0.0  \n",
       "2          15855.988261                 45                     0.0  \n",
       "3           8418.270000                 23                     0.0  \n",
       "4          10687.680000                 56                     0.0  "
      ]
     },
     "execution_count": 21,
     "metadata": {},
     "output_type": "execute_result"
    }
   ],
   "source": [
    "features = before.merge(after, on='user', how='outer')\n",
    "features.head()"
   ]
  },
  {
   "cell_type": "markdown",
   "id": "ee75ab8e",
   "metadata": {},
   "source": [
    "Add Recharge Growth & Finalize"
   ]
  },
  {
   "cell_type": "code",
   "execution_count": 22,
   "id": "c2379cde",
   "metadata": {},
   "outputs": [
    {
     "data": {
      "application/vnd.microsoft.datawrangler.viewer.v0+json": {
       "columns": [
        {
         "name": "index",
         "rawType": "int64",
         "type": "integer"
        },
        {
         "name": "total_recharge_after",
         "rawType": "float64",
         "type": "float"
        },
        {
         "name": "total_recharge_before",
         "rawType": "float64",
         "type": "float"
        },
        {
         "name": "recharge_growth",
         "rawType": "float64",
         "type": "float"
        }
       ],
       "conversionMethod": "pd.DataFrame",
       "ref": "d9e8441f-3fd7-4d53-8491-a446b4b834dd",
       "rows": [
        [
         "10971",
         "16415.07652132911",
         "1829.8799999999999",
         "14585.19652132911"
        ],
        [
         "12757",
         "5705.66",
         null,
         null
        ],
        [
         "881",
         "5190.65",
         null,
         null
        ],
        [
         "8542",
         "23327.87",
         null,
         null
        ],
        [
         "17215",
         "7362.48",
         "706.65",
         "6655.83"
        ],
        [
         "7599",
         "22600.28",
         null,
         null
        ],
        [
         "8480",
         "27658.008260664556",
         "431.99",
         "27226.018260664554"
        ],
        [
         "5222",
         "8455.57",
         null,
         null
        ],
        [
         "5441",
         "10603.4",
         null,
         null
        ],
        [
         "13604",
         "3261.66",
         null,
         null
        ]
       ],
       "shape": {
        "columns": 3,
        "rows": 10
       }
      },
      "text/html": [
       "<div>\n",
       "<style scoped>\n",
       "    .dataframe tbody tr th:only-of-type {\n",
       "        vertical-align: middle;\n",
       "    }\n",
       "\n",
       "    .dataframe tbody tr th {\n",
       "        vertical-align: top;\n",
       "    }\n",
       "\n",
       "    .dataframe thead th {\n",
       "        text-align: right;\n",
       "    }\n",
       "</style>\n",
       "<table border=\"1\" class=\"dataframe\">\n",
       "  <thead>\n",
       "    <tr style=\"text-align: right;\">\n",
       "      <th></th>\n",
       "      <th>total_recharge_after</th>\n",
       "      <th>total_recharge_before</th>\n",
       "      <th>recharge_growth</th>\n",
       "    </tr>\n",
       "  </thead>\n",
       "  <tbody>\n",
       "    <tr>\n",
       "      <th>10971</th>\n",
       "      <td>16415.076521</td>\n",
       "      <td>1829.88</td>\n",
       "      <td>14585.196521</td>\n",
       "    </tr>\n",
       "    <tr>\n",
       "      <th>12757</th>\n",
       "      <td>5705.660000</td>\n",
       "      <td>NaN</td>\n",
       "      <td>NaN</td>\n",
       "    </tr>\n",
       "    <tr>\n",
       "      <th>881</th>\n",
       "      <td>5190.650000</td>\n",
       "      <td>NaN</td>\n",
       "      <td>NaN</td>\n",
       "    </tr>\n",
       "    <tr>\n",
       "      <th>8542</th>\n",
       "      <td>23327.870000</td>\n",
       "      <td>NaN</td>\n",
       "      <td>NaN</td>\n",
       "    </tr>\n",
       "    <tr>\n",
       "      <th>17215</th>\n",
       "      <td>7362.480000</td>\n",
       "      <td>706.65</td>\n",
       "      <td>6655.830000</td>\n",
       "    </tr>\n",
       "    <tr>\n",
       "      <th>7599</th>\n",
       "      <td>22600.280000</td>\n",
       "      <td>NaN</td>\n",
       "      <td>NaN</td>\n",
       "    </tr>\n",
       "    <tr>\n",
       "      <th>8480</th>\n",
       "      <td>27658.008261</td>\n",
       "      <td>431.99</td>\n",
       "      <td>27226.018261</td>\n",
       "    </tr>\n",
       "    <tr>\n",
       "      <th>5222</th>\n",
       "      <td>8455.570000</td>\n",
       "      <td>NaN</td>\n",
       "      <td>NaN</td>\n",
       "    </tr>\n",
       "    <tr>\n",
       "      <th>5441</th>\n",
       "      <td>10603.400000</td>\n",
       "      <td>NaN</td>\n",
       "      <td>NaN</td>\n",
       "    </tr>\n",
       "    <tr>\n",
       "      <th>13604</th>\n",
       "      <td>3261.660000</td>\n",
       "      <td>NaN</td>\n",
       "      <td>NaN</td>\n",
       "    </tr>\n",
       "  </tbody>\n",
       "</table>\n",
       "</div>"
      ],
      "text/plain": [
       "       total_recharge_after  total_recharge_before  recharge_growth\n",
       "10971          16415.076521                1829.88     14585.196521\n",
       "12757           5705.660000                    NaN              NaN\n",
       "881             5190.650000                    NaN              NaN\n",
       "8542           23327.870000                    NaN              NaN\n",
       "17215           7362.480000                 706.65      6655.830000\n",
       "7599           22600.280000                    NaN              NaN\n",
       "8480           27658.008261                 431.99     27226.018261\n",
       "5222            8455.570000                    NaN              NaN\n",
       "5441           10603.400000                    NaN              NaN\n",
       "13604           3261.660000                    NaN              NaN"
      ]
     },
     "execution_count": 22,
     "metadata": {},
     "output_type": "execute_result"
    }
   ],
   "source": [
    "features['recharge_growth'] = features['total_recharge_after'] - features['total_recharge_before']\n",
    "features[['total_recharge_after', 'total_recharge_before', 'recharge_growth']].sample(10)"
   ]
  },
  {
   "cell_type": "markdown",
   "id": "42660094",
   "metadata": {},
   "source": [
    "## Analysis new features dataframe"
   ]
  },
  {
   "cell_type": "code",
   "execution_count": 23,
   "id": "c49ff0a7",
   "metadata": {},
   "outputs": [
    {
     "data": {
      "text/plain": [
       "user                           0\n",
       "avg_data_before_upgrade    10229\n",
       "std_before                 14441\n",
       "total_recharge_before      10229\n",
       "avg_data_after_upgrade         0\n",
       "std_after                      0\n",
       "total_recharge_after           0\n",
       "days_active_after              0\n",
       "time_to_first_data_use       508\n",
       "recharge_growth            10229\n",
       "dtype: int64"
      ]
     },
     "execution_count": 23,
     "metadata": {},
     "output_type": "execute_result"
    }
   ],
   "source": [
    "features.isna().sum()"
   ]
  },
  {
   "cell_type": "markdown",
   "id": "1a83a183",
   "metadata": {},
   "source": [
    "**We have nan values which explain some behaviours of users**\n",
    "\n",
    "**avg_data_before_upgrade:**  10229 user didn’t use mobile data at all before upgrading\n",
    "\n",
    "**std_before:** no variation because no data\n",
    "\n",
    "**total_recharge_before:** no top-ups before upgrade , new users or they were inactive\n",
    "\n",
    "**recharge_growth:** makes sense because it needs both before & after\n",
    "\n",
    "> Note: 10229 users have no data or recharge history before upgrading. Their missing values reflect real user inactivity\n",
    "\n",
    "***Question:*** why 14441 nan values in std_before?\n",
    "\n",
    "> std_before needs at least 2 data points to calculate a standard deviation. Those extra 4212 users (14441 NaNs in std_before vs. 10229 in avg_data_before_upgrade)  had only one day of data in the 30-day window before their upgrade."
   ]
  },
  {
   "cell_type": "markdown",
   "id": "502bc5e0",
   "metadata": {},
   "source": [
    "# save the cleaned / engineered dataframe as smartphone_users_features.csv"
   ]
  },
  {
   "cell_type": "code",
   "execution_count": 24,
   "id": "b487cce7",
   "metadata": {},
   "outputs": [],
   "source": [
    "features.to_csv('../data/cleaned/smartphone_users_features.csv', index=False)"
   ]
  }
 ],
 "metadata": {
  "kernelspec": {
   "display_name": ".venv",
   "language": "python",
   "name": "python3"
  },
  "language_info": {
   "codemirror_mode": {
    "name": "ipython",
    "version": 3
   },
   "file_extension": ".py",
   "mimetype": "text/x-python",
   "name": "python",
   "nbconvert_exporter": "python",
   "pygments_lexer": "ipython3",
   "version": "3.11.2"
  }
 },
 "nbformat": 4,
 "nbformat_minor": 5
}
