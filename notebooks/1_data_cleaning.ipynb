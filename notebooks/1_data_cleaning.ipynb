{
 "cells": [
  {
   "cell_type": "markdown",
   "id": "d686715f",
   "metadata": {},
   "source": [
    "# Import necessary libraries"
   ]
  },
  {
   "cell_type": "code",
   "execution_count": 1,
   "id": "cb1efbb8",
   "metadata": {},
   "outputs": [],
   "source": [
    "import pandas as pd"
   ]
  },
  {
   "cell_type": "markdown",
   "id": "ec811ade",
   "metadata": {},
   "source": [
    "# Load The MTN Upsell dataset"
   ]
  },
  {
   "cell_type": "code",
   "execution_count": 2,
   "id": "95f6bec9",
   "metadata": {},
   "outputs": [],
   "source": [
    "df = pd.read_excel('../data/raw/mtn_upsell_uncleaned.xlsx')"
   ]
  },
  {
   "cell_type": "code",
   "execution_count": 28,
   "id": "7f77c747",
   "metadata": {},
   "outputs": [
    {
     "data": {
      "text/plain": [
       "dates                   0\n",
       "Phone Number            0\n",
       "total_reloads           0\n",
       "total_reload_amount    68\n",
       "imei                    0\n",
       "brand_name              0\n",
       "model_name              0\n",
       "device_category         0\n",
       "data_kb                 0\n",
       "dtype: int64"
      ]
     },
     "execution_count": 28,
     "metadata": {},
     "output_type": "execute_result"
    }
   ],
   "source": [
    "df.isnull().sum()"
   ]
  },
  {
   "cell_type": "markdown",
   "id": "2baf240e",
   "metadata": {},
   "source": [
    "# Data Cleaning"
   ]
  },
  {
   "cell_type": "markdown",
   "id": "feda40fb",
   "metadata": {},
   "source": [
    "As you see we have 60+ nan rows in 'total_reload_amount' column. Common causes are\n",
    "\n",
    "1. System recording error – Reload was counted, but the amount wasn’t saved.\n",
    "\n",
    "2. Free bonus/airdrop – A “reload” without money involved (rare).\n",
    "\n",
    "3. Incomplete data – Some recharge transactions didn’t sync fully.\n",
    "\n",
    "So i think it's an incomplete data problem, i decide to impute those nan values by the mean of people who reloaded 1 time"
   ]
  },
  {
   "cell_type": "code",
   "execution_count": 5,
   "id": "95c7ce6f",
   "metadata": {},
   "outputs": [
    {
     "data": {
      "text/plain": [
       "341.4826373038516"
      ]
     },
     "execution_count": 5,
     "metadata": {},
     "output_type": "execute_result"
    }
   ],
   "source": [
    "mean_total_reloads_amount = df[(df['total_reloads'] == 1) & (df['total_reload_amount'].notna())]['total_reload_amount'].mean()\n",
    "float(mean_total_reloads_amount)"
   ]
  },
  {
   "cell_type": "code",
   "execution_count": 6,
   "id": "eb7b125b",
   "metadata": {},
   "outputs": [],
   "source": [
    "df['total_reload_amount'] = df['total_reload_amount'].fillna(mean_total_reloads_amount)"
   ]
  },
  {
   "cell_type": "code",
   "execution_count": 7,
   "id": "72e4ca76",
   "metadata": {},
   "outputs": [
    {
     "name": "stdout",
     "output_type": "stream",
     "text": [
      "Imputed missing values using mean: 341.48\n"
     ]
    }
   ],
   "source": [
    "print(f\"Imputed missing values using mean: {mean_total_reloads_amount:.2f}\")"
   ]
  },
  {
   "cell_type": "markdown",
   "id": "4f84cc0a",
   "metadata": {},
   "source": [
    "#### Let's find upgraded date for each user"
   ]
  },
  {
   "cell_type": "code",
   "execution_count": 13,
   "id": "42dc8e0d",
   "metadata": {},
   "outputs": [],
   "source": [
    "# convert dates columns to datetime\n",
    "df['dates'] = pd.to_datetime(df['dates'], format='%Y%m%d')\n",
    "\n",
    "# Sort the DataFrame by 'Phone Number' and 'dates'\n",
    "df = df.sort_values(by=['Phone Number', 'dates'])\n"
   ]
  },
  {
   "cell_type": "markdown",
   "id": "d9ad95af",
   "metadata": {},
   "source": [
    "Identify smartphones and those that aren't"
   ]
  },
  {
   "cell_type": "code",
   "execution_count": 15,
   "id": "b9a45c2c",
   "metadata": {},
   "outputs": [],
   "source": [
    "df['isSmartphone'] = df['device_category'] == 5\n"
   ]
  },
  {
   "cell_type": "markdown",
   "id": "22dac6d2",
   "metadata": {},
   "source": [
    "For each user, find the first date they used a smartphone"
   ]
  },
  {
   "cell_type": "code",
   "execution_count": null,
   "id": "f1283382",
   "metadata": {},
   "outputs": [],
   "source": [
    "dates_upgraded = df[df['isSmartphone']].groupby('Phone Number')['dates'].min().reset_index()\n",
    "dates_upgraded = dates_upgraded.rename(columns={'dates': 'dates_upgraded', 'Phone Number': 'user'})"
   ]
  },
  {
   "cell_type": "markdown",
   "id": "a38879df",
   "metadata": {},
   "source": [
    "Let's get users who used feature/basic phone before"
   ]
  },
  {
   "cell_type": "code",
   "execution_count": 38,
   "id": "54f82956",
   "metadata": {},
   "outputs": [
    {
     "data": {
      "text/plain": [
       "array([225798765432, 225798765433, 225798765434, 225798765435,\n",
       "       225798765436, 225798765437, 225798765438, 225798765439,\n",
       "       225798765440, 225798765441, 225798765442, 225798765443,\n",
       "       225798765444, 225798765445, 225798765447, 225798765448,\n",
       "       225798765449, 225798765450, 225798765451, 225798765452,\n",
       "       225798765453, 225798765454, 225798765455, 225798765456,\n",
       "       225798765457, 225798765458, 225798765459, 225798765460,\n",
       "       225798765461, 225798765462, 225798765463, 225798765464,\n",
       "       225798765465, 225798765466, 225798765467, 225798765468,\n",
       "       225798765469, 225798765470, 225798765471, 225798765472,\n",
       "       225798765473, 225798765474, 225798765475, 225798765476,\n",
       "       225798765477, 225798765478, 225798765479, 225798765480,\n",
       "       225798765481, 225798765482, 225798765483, 225798765484,\n",
       "       225798765485, 225798765486, 225798765487, 225798765488,\n",
       "       225798765489])"
      ]
     },
     "execution_count": 38,
     "metadata": {},
     "output_type": "execute_result"
    }
   ],
   "source": [
    "feature_or_basic = df[df['device_category'].isin([4,7])]['Phone Number'].unique()\n",
    "\n",
    "feature_or_basic"
   ]
  },
  {
   "cell_type": "markdown",
   "id": "5df80b7d",
   "metadata": {},
   "source": [
    "Filter dates_upgraded to include only those who had a basic/feature phone first"
   ]
  },
  {
   "cell_type": "code",
   "execution_count": 39,
   "id": "45db7aa0",
   "metadata": {},
   "outputs": [],
   "source": [
    "dates_upgraded =  dates_upgraded[dates_upgraded['user'].isin(feature_or_basic)]"
   ]
  },
  {
   "cell_type": "markdown",
   "id": "359b274c",
   "metadata": {},
   "source": [
    "Store the dates_upgraded DataFrame in a CSV file"
   ]
  },
  {
   "cell_type": "code",
   "execution_count": null,
   "id": "17f7396f",
   "metadata": {},
   "outputs": [],
   "source": [
    "dates_upgraded.to_csv('../data/cleaned/users_and_date_upgraded.csv', index=False)"
   ]
  },
  {
   "cell_type": "markdown",
   "id": "04aecae9",
   "metadata": {},
   "source": [
    "#### Build Usage & Recharge Features\n",
    "\n",
    "For each user in dates_upgraded determine\n",
    "\n",
    "1. Data used before upgrade => dt_before\n",
    "2. Data used after upgrade => dt_after\n",
    "3. Standard deviation of data usage before & after => std_before & std_after\n",
    "4. Days active after the upgrade where data_kb > 0\n",
    "5. Recharge growth determined by total_reload_amount (after)-(before)\n",
    "6. Days passed to first data use = Days between upgrade and first data_kb>0\n",
    "\n",
    "why standard deviation before & after ?:  This will tell us how consistent or unstable user's data usage behaviour is\n",
    "\n",
    "> low std : User has a steady behaviour\n",
    "\n",
    "> high std :  User has unpredicatble behaviour\n",
    "\n",
    "In short:\n",
    "\n",
    "I'm not just measuring how much data someone used, but how stable or risky their behavior was."
   ]
  },
  {
   "cell_type": "markdown",
   "id": "1a680fc4",
   "metadata": {},
   "source": [
    "##### Merge date_upgraded with the original df"
   ]
  },
  {
   "cell_type": "code",
   "execution_count": 51,
   "id": "dc49d71d",
   "metadata": {},
   "outputs": [],
   "source": [
    "#Firstly, we need to rename the 'Phone Number' column to 'user' in the original DataFrame\n",
    "df = df.rename(columns={'Phone Number': 'user'})\n",
    "\n",
    "df = df.merge(dates_upgraded, on='user', how='left')"
   ]
  },
  {
   "cell_type": "markdown",
   "id": "0cec02cc",
   "metadata": {},
   "source": [
    "Create columns to label rows as \"before\" or \"after\" upgrade"
   ]
  },
  {
   "cell_type": "code",
   "execution_count": 74,
   "id": "fa8311fd",
   "metadata": {},
   "outputs": [
    {
     "data": {
      "text/html": [
       "<div>\n",
       "<style scoped>\n",
       "    .dataframe tbody tr th:only-of-type {\n",
       "        vertical-align: middle;\n",
       "    }\n",
       "\n",
       "    .dataframe tbody tr th {\n",
       "        vertical-align: top;\n",
       "    }\n",
       "\n",
       "    .dataframe thead th {\n",
       "        text-align: right;\n",
       "    }\n",
       "</style>\n",
       "<table border=\"1\" class=\"dataframe\">\n",
       "  <thead>\n",
       "    <tr style=\"text-align: right;\">\n",
       "      <th></th>\n",
       "      <th>dates</th>\n",
       "      <th>user</th>\n",
       "      <th>total_reloads</th>\n",
       "      <th>total_reload_amount</th>\n",
       "      <th>imei</th>\n",
       "      <th>brand_name</th>\n",
       "      <th>model_name</th>\n",
       "      <th>device_category</th>\n",
       "      <th>data_kb</th>\n",
       "      <th>isSmartphone</th>\n",
       "      <th>dates_upgraded</th>\n",
       "      <th>Days_to_Upgrade</th>\n",
       "      <th>isBefore</th>\n",
       "      <th>isAfter</th>\n",
       "    </tr>\n",
       "  </thead>\n",
       "  <tbody>\n",
       "    <tr>\n",
       "      <th>4</th>\n",
       "      <td>2024-09-08</td>\n",
       "      <td>225798765432</td>\n",
       "      <td>1</td>\n",
       "      <td>50.0</td>\n",
       "      <td>1654054197</td>\n",
       "      <td>TECNO</td>\n",
       "      <td>T528</td>\n",
       "      <td>4</td>\n",
       "      <td>0.0</td>\n",
       "      <td>False</td>\n",
       "      <td>2024-10-08</td>\n",
       "      <td>-30</td>\n",
       "      <td>True</td>\n",
       "      <td>False</td>\n",
       "    </tr>\n",
       "    <tr>\n",
       "      <th>5</th>\n",
       "      <td>2024-09-11</td>\n",
       "      <td>225798765432</td>\n",
       "      <td>2</td>\n",
       "      <td>450.0</td>\n",
       "      <td>2065123347</td>\n",
       "      <td>TECNO</td>\n",
       "      <td>T528</td>\n",
       "      <td>4</td>\n",
       "      <td>0.0</td>\n",
       "      <td>False</td>\n",
       "      <td>2024-10-08</td>\n",
       "      <td>-27</td>\n",
       "      <td>True</td>\n",
       "      <td>False</td>\n",
       "    </tr>\n",
       "    <tr>\n",
       "      <th>6</th>\n",
       "      <td>2024-09-15</td>\n",
       "      <td>225798765432</td>\n",
       "      <td>1</td>\n",
       "      <td>200.0</td>\n",
       "      <td>1441878202</td>\n",
       "      <td>TECNO</td>\n",
       "      <td>T349</td>\n",
       "      <td>4</td>\n",
       "      <td>0.0</td>\n",
       "      <td>False</td>\n",
       "      <td>2024-10-08</td>\n",
       "      <td>-23</td>\n",
       "      <td>True</td>\n",
       "      <td>False</td>\n",
       "    </tr>\n",
       "    <tr>\n",
       "      <th>7</th>\n",
       "      <td>2024-09-16</td>\n",
       "      <td>225798765432</td>\n",
       "      <td>3</td>\n",
       "      <td>600.0</td>\n",
       "      <td>1622164687</td>\n",
       "      <td>TECNO</td>\n",
       "      <td>T528</td>\n",
       "      <td>4</td>\n",
       "      <td>0.0</td>\n",
       "      <td>False</td>\n",
       "      <td>2024-10-08</td>\n",
       "      <td>-22</td>\n",
       "      <td>True</td>\n",
       "      <td>False</td>\n",
       "    </tr>\n",
       "    <tr>\n",
       "      <th>8</th>\n",
       "      <td>2024-09-17</td>\n",
       "      <td>225798765432</td>\n",
       "      <td>1</td>\n",
       "      <td>150.0</td>\n",
       "      <td>1358567090</td>\n",
       "      <td>TECNO</td>\n",
       "      <td>T528</td>\n",
       "      <td>4</td>\n",
       "      <td>0.0</td>\n",
       "      <td>False</td>\n",
       "      <td>2024-10-08</td>\n",
       "      <td>-21</td>\n",
       "      <td>True</td>\n",
       "      <td>False</td>\n",
       "    </tr>\n",
       "  </tbody>\n",
       "</table>\n",
       "</div>"
      ],
      "text/plain": [
       "       dates          user  total_reloads  total_reload_amount        imei  \\\n",
       "4 2024-09-08  225798765432              1                 50.0  1654054197   \n",
       "5 2024-09-11  225798765432              2                450.0  2065123347   \n",
       "6 2024-09-15  225798765432              1                200.0  1441878202   \n",
       "7 2024-09-16  225798765432              3                600.0  1622164687   \n",
       "8 2024-09-17  225798765432              1                150.0  1358567090   \n",
       "\n",
       "  brand_name model_name device_category  data_kb  isSmartphone dates_upgraded  \\\n",
       "4      TECNO       T528               4      0.0         False     2024-10-08   \n",
       "5      TECNO       T528               4      0.0         False     2024-10-08   \n",
       "6      TECNO       T349               4      0.0         False     2024-10-08   \n",
       "7      TECNO       T528               4      0.0         False     2024-10-08   \n",
       "8      TECNO       T528               4      0.0         False     2024-10-08   \n",
       "\n",
       "   Days_to_Upgrade  isBefore  isAfter  \n",
       "4              -30      True    False  \n",
       "5              -27      True    False  \n",
       "6              -23      True    False  \n",
       "7              -22      True    False  \n",
       "8              -21      True    False  "
      ]
     },
     "execution_count": 74,
     "metadata": {},
     "output_type": "execute_result"
    }
   ],
   "source": [
    "df['Days_to_Upgrade'] = (df['dates']- df['dates_upgraded']).dt.days\n",
    "\n",
    "df['isBefore'] = df['Days_to_Upgrade'].between(-30, -1) #30 days before upgrade\n",
    "df['isAfter'] = df['Days_to_Upgrade'].between(0, 60) #60 days after upgrade\n",
    "\n",
    "df[(df['isBefore'] | df['isAfter'])].head()\n",
    "   "
   ]
  },
  {
   "cell_type": "markdown",
   "id": "f0ac7d6f",
   "metadata": {},
   "source": [
    "Aggregate usage stats per user for both periods\n",
    "\n",
    "1. before upgrade"
   ]
  },
  {
   "cell_type": "code",
   "execution_count": 73,
   "id": "ff3ab446",
   "metadata": {},
   "outputs": [
    {
     "data": {
      "text/html": [
       "<div>\n",
       "<style scoped>\n",
       "    .dataframe tbody tr th:only-of-type {\n",
       "        vertical-align: middle;\n",
       "    }\n",
       "\n",
       "    .dataframe tbody tr th {\n",
       "        vertical-align: top;\n",
       "    }\n",
       "\n",
       "    .dataframe thead th {\n",
       "        text-align: right;\n",
       "    }\n",
       "</style>\n",
       "<table border=\"1\" class=\"dataframe\">\n",
       "  <thead>\n",
       "    <tr style=\"text-align: right;\">\n",
       "      <th></th>\n",
       "      <th>user</th>\n",
       "      <th>avg_data_before_upgrade</th>\n",
       "      <th>std_before</th>\n",
       "      <th>total_recharge_before</th>\n",
       "    </tr>\n",
       "  </thead>\n",
       "  <tbody>\n",
       "    <tr>\n",
       "      <th>0</th>\n",
       "      <td>225798765432</td>\n",
       "      <td>0.130697</td>\n",
       "      <td>0.452746</td>\n",
       "      <td>3091.482637</td>\n",
       "    </tr>\n",
       "    <tr>\n",
       "      <th>1</th>\n",
       "      <td>225798765435</td>\n",
       "      <td>0.261393</td>\n",
       "      <td>0.452746</td>\n",
       "      <td>450.000000</td>\n",
       "    </tr>\n",
       "    <tr>\n",
       "      <th>2</th>\n",
       "      <td>225798765436</td>\n",
       "      <td>7.143986</td>\n",
       "      <td>32.579923</td>\n",
       "      <td>13800.000000</td>\n",
       "    </tr>\n",
       "    <tr>\n",
       "      <th>3</th>\n",
       "      <td>225798765438</td>\n",
       "      <td>16.537679</td>\n",
       "      <td>57.288201</td>\n",
       "      <td>4365.000000</td>\n",
       "    </tr>\n",
       "    <tr>\n",
       "      <th>4</th>\n",
       "      <td>225798765439</td>\n",
       "      <td>0.000000</td>\n",
       "      <td>0.000000</td>\n",
       "      <td>300.000000</td>\n",
       "    </tr>\n",
       "  </tbody>\n",
       "</table>\n",
       "</div>"
      ],
      "text/plain": [
       "           user  avg_data_before_upgrade  std_before  total_recharge_before\n",
       "0  225798765432                 0.130697    0.452746            3091.482637\n",
       "1  225798765435                 0.261393    0.452746             450.000000\n",
       "2  225798765436                 7.143986   32.579923           13800.000000\n",
       "3  225798765438                16.537679   57.288201            4365.000000\n",
       "4  225798765439                 0.000000    0.000000             300.000000"
      ]
     },
     "execution_count": 73,
     "metadata": {},
     "output_type": "execute_result"
    }
   ],
   "source": [
    "before = df[df['isBefore']].groupby('user').agg(\n",
    "    avg_data_before_upgrade=('data_kb', 'mean'),\n",
    "    std_before=('data_kb', 'std'),\n",
    "    total_recharge_before=('total_reload_amount', 'sum')\n",
    ").reset_index()\n",
    "\n",
    "before.head()\n"
   ]
  },
  {
   "cell_type": "markdown",
   "id": "bdf5f977",
   "metadata": {},
   "source": [
    "2. after upgrade"
   ]
  },
  {
   "cell_type": "code",
   "execution_count": 72,
   "id": "fe0a8a9d",
   "metadata": {},
   "outputs": [
    {
     "data": {
      "text/html": [
       "<div>\n",
       "<style scoped>\n",
       "    .dataframe tbody tr th:only-of-type {\n",
       "        vertical-align: middle;\n",
       "    }\n",
       "\n",
       "    .dataframe tbody tr th {\n",
       "        vertical-align: top;\n",
       "    }\n",
       "\n",
       "    .dataframe thead th {\n",
       "        text-align: right;\n",
       "    }\n",
       "</style>\n",
       "<table border=\"1\" class=\"dataframe\">\n",
       "  <thead>\n",
       "    <tr style=\"text-align: right;\">\n",
       "      <th></th>\n",
       "      <th>user</th>\n",
       "      <th>avg_data_after_upgrade</th>\n",
       "      <th>std_after</th>\n",
       "      <th>total_recharge_after</th>\n",
       "      <th>days_active_after</th>\n",
       "      <th>time_to_first_data_use</th>\n",
       "    </tr>\n",
       "  </thead>\n",
       "  <tbody>\n",
       "    <tr>\n",
       "      <th>0</th>\n",
       "      <td>225798765432</td>\n",
       "      <td>282355.658691</td>\n",
       "      <td>746850.094482</td>\n",
       "      <td>10600.000000</td>\n",
       "      <td>14</td>\n",
       "      <td>0</td>\n",
       "    </tr>\n",
       "    <tr>\n",
       "      <th>1</th>\n",
       "      <td>225798765433</td>\n",
       "      <td>390674.369565</td>\n",
       "      <td>760990.974794</td>\n",
       "      <td>15979.550000</td>\n",
       "      <td>10</td>\n",
       "      <td>0</td>\n",
       "    </tr>\n",
       "    <tr>\n",
       "      <th>2</th>\n",
       "      <td>225798765434</td>\n",
       "      <td>77583.160156</td>\n",
       "      <td>109719.157305</td>\n",
       "      <td>275.000000</td>\n",
       "      <td>1</td>\n",
       "      <td>0</td>\n",
       "    </tr>\n",
       "    <tr>\n",
       "      <th>3</th>\n",
       "      <td>225798765435</td>\n",
       "      <td>156755.774613</td>\n",
       "      <td>284752.858237</td>\n",
       "      <td>25581.482637</td>\n",
       "      <td>26</td>\n",
       "      <td>0</td>\n",
       "    </tr>\n",
       "    <tr>\n",
       "      <th>4</th>\n",
       "      <td>225798765436</td>\n",
       "      <td>42745.234739</td>\n",
       "      <td>113248.911365</td>\n",
       "      <td>32883.892637</td>\n",
       "      <td>23</td>\n",
       "      <td>0</td>\n",
       "    </tr>\n",
       "  </tbody>\n",
       "</table>\n",
       "</div>"
      ],
      "text/plain": [
       "           user  avg_data_after_upgrade      std_after  total_recharge_after  \\\n",
       "0  225798765432           282355.658691  746850.094482          10600.000000   \n",
       "1  225798765433           390674.369565  760990.974794          15979.550000   \n",
       "2  225798765434            77583.160156  109719.157305            275.000000   \n",
       "3  225798765435           156755.774613  284752.858237          25581.482637   \n",
       "4  225798765436            42745.234739  113248.911365          32883.892637   \n",
       "\n",
       "   days_active_after  time_to_first_data_use  \n",
       "0                 14                       0  \n",
       "1                 10                       0  \n",
       "2                  1                       0  \n",
       "3                 26                       0  \n",
       "4                 23                       0  "
      ]
     },
     "execution_count": 72,
     "metadata": {},
     "output_type": "execute_result"
    }
   ],
   "source": [
    "after = df[df['isAfter']].groupby('user').agg(\n",
    "    avg_data_after_upgrade=('data_kb', 'mean'),\n",
    "    std_after=('data_kb', 'std'),\n",
    "    total_recharge_after=('total_reload_amount', 'sum'),\n",
    "    days_active_after=('data_kb', lambda x: (x > 0).sum()),\n",
    "    time_to_first_data_use=('Days_to_Upgrade', lambda x: x[df.loc[x.index, 'data_kb'] > 0].min())\n",
    ").reset_index()\n",
    "\n",
    "after.head()"
   ]
  },
  {
   "cell_type": "markdown",
   "id": "fc585fe5",
   "metadata": {},
   "source": [
    "3. Merge them together"
   ]
  },
  {
   "cell_type": "code",
   "execution_count": 77,
   "id": "e396286d",
   "metadata": {},
   "outputs": [
    {
     "data": {
      "text/html": [
       "<div>\n",
       "<style scoped>\n",
       "    .dataframe tbody tr th:only-of-type {\n",
       "        vertical-align: middle;\n",
       "    }\n",
       "\n",
       "    .dataframe tbody tr th {\n",
       "        vertical-align: top;\n",
       "    }\n",
       "\n",
       "    .dataframe thead th {\n",
       "        text-align: right;\n",
       "    }\n",
       "</style>\n",
       "<table border=\"1\" class=\"dataframe\">\n",
       "  <thead>\n",
       "    <tr style=\"text-align: right;\">\n",
       "      <th></th>\n",
       "      <th>user</th>\n",
       "      <th>avg_data_before_upgrade</th>\n",
       "      <th>std_before</th>\n",
       "      <th>total_recharge_before</th>\n",
       "      <th>avg_data_after_upgrade</th>\n",
       "      <th>std_after</th>\n",
       "      <th>total_recharge_after</th>\n",
       "      <th>days_active_after</th>\n",
       "      <th>time_to_first_data_use</th>\n",
       "    </tr>\n",
       "  </thead>\n",
       "  <tbody>\n",
       "    <tr>\n",
       "      <th>0</th>\n",
       "      <td>225798765432</td>\n",
       "      <td>0.130697</td>\n",
       "      <td>0.452746</td>\n",
       "      <td>3091.482637</td>\n",
       "      <td>282355.658691</td>\n",
       "      <td>746850.094482</td>\n",
       "      <td>10600.000000</td>\n",
       "      <td>14</td>\n",
       "      <td>0</td>\n",
       "    </tr>\n",
       "    <tr>\n",
       "      <th>1</th>\n",
       "      <td>225798765433</td>\n",
       "      <td>NaN</td>\n",
       "      <td>NaN</td>\n",
       "      <td>NaN</td>\n",
       "      <td>390674.369565</td>\n",
       "      <td>760990.974794</td>\n",
       "      <td>15979.550000</td>\n",
       "      <td>10</td>\n",
       "      <td>0</td>\n",
       "    </tr>\n",
       "    <tr>\n",
       "      <th>2</th>\n",
       "      <td>225798765434</td>\n",
       "      <td>NaN</td>\n",
       "      <td>NaN</td>\n",
       "      <td>NaN</td>\n",
       "      <td>77583.160156</td>\n",
       "      <td>109719.157305</td>\n",
       "      <td>275.000000</td>\n",
       "      <td>1</td>\n",
       "      <td>0</td>\n",
       "    </tr>\n",
       "    <tr>\n",
       "      <th>3</th>\n",
       "      <td>225798765435</td>\n",
       "      <td>0.261393</td>\n",
       "      <td>0.452746</td>\n",
       "      <td>450.000000</td>\n",
       "      <td>156755.774613</td>\n",
       "      <td>284752.858237</td>\n",
       "      <td>25581.482637</td>\n",
       "      <td>26</td>\n",
       "      <td>0</td>\n",
       "    </tr>\n",
       "    <tr>\n",
       "      <th>4</th>\n",
       "      <td>225798765436</td>\n",
       "      <td>7.143986</td>\n",
       "      <td>32.579923</td>\n",
       "      <td>13800.000000</td>\n",
       "      <td>42745.234739</td>\n",
       "      <td>113248.911365</td>\n",
       "      <td>32883.892637</td>\n",
       "      <td>23</td>\n",
       "      <td>0</td>\n",
       "    </tr>\n",
       "  </tbody>\n",
       "</table>\n",
       "</div>"
      ],
      "text/plain": [
       "           user  avg_data_before_upgrade  std_before  total_recharge_before  \\\n",
       "0  225798765432                 0.130697    0.452746            3091.482637   \n",
       "1  225798765433                      NaN         NaN                    NaN   \n",
       "2  225798765434                      NaN         NaN                    NaN   \n",
       "3  225798765435                 0.261393    0.452746             450.000000   \n",
       "4  225798765436                 7.143986   32.579923           13800.000000   \n",
       "\n",
       "   avg_data_after_upgrade      std_after  total_recharge_after  \\\n",
       "0           282355.658691  746850.094482          10600.000000   \n",
       "1           390674.369565  760990.974794          15979.550000   \n",
       "2            77583.160156  109719.157305            275.000000   \n",
       "3           156755.774613  284752.858237          25581.482637   \n",
       "4            42745.234739  113248.911365          32883.892637   \n",
       "\n",
       "   days_active_after  time_to_first_data_use  \n",
       "0                 14                       0  \n",
       "1                 10                       0  \n",
       "2                  1                       0  \n",
       "3                 26                       0  \n",
       "4                 23                       0  "
      ]
     },
     "execution_count": 77,
     "metadata": {},
     "output_type": "execute_result"
    }
   ],
   "source": [
    "features = before.merge(after, on='user', how='outer')\n",
    "features.head()"
   ]
  },
  {
   "cell_type": "markdown",
   "id": "ee75ab8e",
   "metadata": {},
   "source": [
    "Add Recharge Growth & Finalize"
   ]
  },
  {
   "cell_type": "code",
   "execution_count": 78,
   "id": "c2379cde",
   "metadata": {},
   "outputs": [],
   "source": [
    "features['recharge_growth'] = features['total_recharge_after'] - features['total_recharge_before']"
   ]
  },
  {
   "cell_type": "markdown",
   "id": "42660094",
   "metadata": {},
   "source": [
    "## Analysis new features dataframe"
   ]
  },
  {
   "cell_type": "code",
   "execution_count": 83,
   "id": "c49ff0a7",
   "metadata": {},
   "outputs": [
    {
     "data": {
      "text/plain": [
       "user                        0\n",
       "avg_data_before_upgrade    25\n",
       "std_before                 34\n",
       "total_recharge_before      25\n",
       "avg_data_after_upgrade      0\n",
       "std_after                   0\n",
       "total_recharge_after        0\n",
       "days_active_after           0\n",
       "time_to_first_data_use      0\n",
       "recharge_growth            25\n",
       "dtype: int64"
      ]
     },
     "execution_count": 83,
     "metadata": {},
     "output_type": "execute_result"
    }
   ],
   "source": [
    "features.isna().sum()"
   ]
  },
  {
   "cell_type": "markdown",
   "id": "1a83a183",
   "metadata": {},
   "source": [
    "**We have nan values which explain some behaviours of users**\n",
    "\n",
    "**avg_data_before_upgrade:**  25 user didn’t use mobile data at all before upgrading\n",
    "\n",
    "**std_before:** no variation because no data\n",
    "\n",
    "**total_recharge_before:** no top-ups before upgrade , new users or they were inactive\n",
    "\n",
    "**recharge_growth:** makes sense because it needs both before & after\n",
    "\n",
    "> Note: 25 users have no data or recharge history before upgrading. Their missing values reflect real user inactivity\n",
    "\n",
    "***Question:*** why 34 nan values in std_before?\n",
    "\n",
    "> std_before needs at least 2 data points to calculate a standard deviation. Those extra 9 users (34 NaNs in std_before vs. 25 in avg_data_before_upgrade)  had only one day of data in the 30-day window before their upgrade."
   ]
  },
  {
   "cell_type": "markdown",
   "id": "502bc5e0",
   "metadata": {},
   "source": [
    "# save the cleaned / engineered dataframe as smartphone_users_features.csv"
   ]
  },
  {
   "cell_type": "code",
   "execution_count": 84,
   "id": "b487cce7",
   "metadata": {},
   "outputs": [],
   "source": [
    "features.to_csv('../data/cleaned/smartphone_users_features.csv', index=False)"
   ]
  }
 ],
 "metadata": {
  "kernelspec": {
   "display_name": ".venv",
   "language": "python",
   "name": "python3"
  },
  "language_info": {
   "codemirror_mode": {
    "name": "ipython",
    "version": 3
   },
   "file_extension": ".py",
   "mimetype": "text/x-python",
   "name": "python",
   "nbconvert_exporter": "python",
   "pygments_lexer": "ipython3",
   "version": "3.11.2"
  }
 },
 "nbformat": 4,
 "nbformat_minor": 5
}
