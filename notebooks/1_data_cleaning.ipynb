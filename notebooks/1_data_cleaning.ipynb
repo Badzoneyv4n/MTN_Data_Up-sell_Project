{
 "cells": [
  {
   "cell_type": "markdown",
   "id": "d686715f",
   "metadata": {},
   "source": [
    "# Import necessary libraries"
   ]
  },
  {
   "cell_type": "code",
   "execution_count": 1,
   "id": "cb1efbb8",
   "metadata": {},
   "outputs": [],
   "source": [
    "import pandas as pd"
   ]
  },
  {
   "cell_type": "markdown",
   "id": "ec811ade",
   "metadata": {},
   "source": [
    "# Load The MTN Upsell dataset"
   ]
  },
  {
   "cell_type": "code",
   "execution_count": 2,
   "id": "95f6bec9",
   "metadata": {},
   "outputs": [],
   "source": [
    "# df = pd.read_excel('../data/raw/mtn_upsell_uncleaned.xlsx')\n",
    "df = pd.read_csv('../data/raw/mtn_upsell_generated_mod.csv', low_memory=False)"
   ]
  },
  {
   "cell_type": "code",
   "execution_count": 3,
   "id": "7f77c747",
   "metadata": {},
   "outputs": [
    {
     "data": {
      "text/plain": [
       "dates                      0\n",
       "Phone Number               0\n",
       "total_reloads              0\n",
       "total_reload_amount    21031\n",
       "imei                       0\n",
       "brand_name                 0\n",
       "model_name                 0\n",
       "device_category            0\n",
       "data_kb                    0\n",
       "dtype: int64"
      ]
     },
     "execution_count": 3,
     "metadata": {},
     "output_type": "execute_result"
    }
   ],
   "source": [
    "df.isnull().sum()"
   ]
  },
  {
   "cell_type": "markdown",
   "id": "2baf240e",
   "metadata": {},
   "source": [
    "# Data Cleaning"
   ]
  },
  {
   "cell_type": "markdown",
   "id": "feda40fb",
   "metadata": {},
   "source": [
    "As you see we have 21k+ nan rows in 'total_reload_amount' column. Common causes are\n",
    "\n",
    "1. System recording error – Reload was counted, but the amount wasn’t saved.\n",
    "\n",
    "2. Free bonus/airdrop – A “reload” without money involved (rare).\n",
    "\n",
    "3. Incomplete data – Some recharge transactions didn’t sync fully.\n",
    "\n",
    "So i think it's an incomplete data problem, i decide to impute those nan values by the mean of people who reloaded 1 time"
   ]
  },
  {
   "cell_type": "code",
   "execution_count": 4,
   "id": "95c7ce6f",
   "metadata": {},
   "outputs": [
    {
     "data": {
      "text/plain": [
       "304.66826066455485"
      ]
     },
     "execution_count": 4,
     "metadata": {},
     "output_type": "execute_result"
    }
   ],
   "source": [
    "mean_total_reloads_amount = df[(df['total_reloads'] == 1) & (df['total_reload_amount'].notna())]['total_reload_amount'].mean()\n",
    "float(mean_total_reloads_amount)"
   ]
  },
  {
   "cell_type": "code",
   "execution_count": 5,
   "id": "eb7b125b",
   "metadata": {},
   "outputs": [],
   "source": [
    "df['total_reload_amount'] = df['total_reload_amount'].fillna(mean_total_reloads_amount)"
   ]
  },
  {
   "cell_type": "code",
   "execution_count": 6,
   "id": "72e4ca76",
   "metadata": {},
   "outputs": [
    {
     "name": "stdout",
     "output_type": "stream",
     "text": [
      "Imputed missing values using mean: 304.67\n"
     ]
    }
   ],
   "source": [
    "print(f\"Imputed missing values using mean: {mean_total_reloads_amount:.2f}\")"
   ]
  },
  {
   "cell_type": "code",
   "execution_count": 7,
   "id": "177154a8",
   "metadata": {},
   "outputs": [
    {
     "name": "stdout",
     "output_type": "stream",
     "text": [
      "<class 'pandas.core.frame.DataFrame'>\n",
      "RangeIndex: 3004191 entries, 0 to 3004190\n",
      "Data columns (total 9 columns):\n",
      " #   Column               Dtype  \n",
      "---  ------               -----  \n",
      " 0   dates                int64  \n",
      " 1   Phone Number         int64  \n",
      " 2   total_reloads        int64  \n",
      " 3   total_reload_amount  float64\n",
      " 4   imei                 int64  \n",
      " 5   brand_name           object \n",
      " 6   model_name           object \n",
      " 7   device_category      object \n",
      " 8   data_kb              float64\n",
      "dtypes: float64(2), int64(4), object(3)\n",
      "memory usage: 206.3+ MB\n"
     ]
    }
   ],
   "source": [
    "df.info()"
   ]
  },
  {
   "cell_type": "markdown",
   "id": "ce866c09",
   "metadata": {},
   "source": [
    "**Columns types**\n",
    "\n",
    "column device_category have different types and it was supposed to be int() let's find out why\n",
    "\n",
    "Caused by char (-) , let me fill all rows including - with 6 and change the type to int"
   ]
  },
  {
   "cell_type": "code",
   "execution_count": 8,
   "id": "ac310bd4",
   "metadata": {},
   "outputs": [],
   "source": [
    "df['device_category'].value_counts()\n",
    "df['device_category'] = df['device_category'].replace('-','6')\n",
    "df['device_category'] = df['device_category'].astype(int)"
   ]
  },
  {
   "cell_type": "markdown",
   "id": "4f84cc0a",
   "metadata": {},
   "source": [
    "#### Let's find upgraded date for each user"
   ]
  },
  {
   "cell_type": "code",
   "execution_count": 9,
   "id": "42dc8e0d",
   "metadata": {},
   "outputs": [],
   "source": [
    "# convert dates columns to datetime\n",
    "df['dates'] = pd.to_datetime(df['dates'], format='%Y%m%d')\n",
    "\n",
    "# Sort the DataFrame by 'Phone Number' and 'dates'\n",
    "df = df.sort_values(by=['Phone Number', 'dates'])\n"
   ]
  },
  {
   "cell_type": "markdown",
   "id": "d9ad95af",
   "metadata": {},
   "source": [
    "Identify smartphones and those that aren't"
   ]
  },
  {
   "cell_type": "code",
   "execution_count": 10,
   "id": "b9a45c2c",
   "metadata": {},
   "outputs": [],
   "source": [
    "df['isSmartphone'] = df['device_category'] == 5\n"
   ]
  },
  {
   "cell_type": "markdown",
   "id": "22dac6d2",
   "metadata": {},
   "source": [
    "For each user, find the first date they used a smartphone"
   ]
  },
  {
   "cell_type": "code",
   "execution_count": 11,
   "id": "f1283382",
   "metadata": {},
   "outputs": [],
   "source": [
    "dates_upgraded = df[df['isSmartphone']].groupby('Phone Number')['dates'].min().reset_index()\n",
    "dates_upgraded = dates_upgraded.rename(columns={'dates': 'dates_upgraded', 'Phone Number': 'user'})"
   ]
  },
  {
   "cell_type": "markdown",
   "id": "a38879df",
   "metadata": {},
   "source": [
    "Let's get users who used feature/basic phone before"
   ]
  },
  {
   "cell_type": "code",
   "execution_count": 12,
   "id": "54f82956",
   "metadata": {},
   "outputs": [
    {
     "data": {
      "text/plain": [
       "(20042,)"
      ]
     },
     "execution_count": 12,
     "metadata": {},
     "output_type": "execute_result"
    }
   ],
   "source": [
    "feature_or_basic = df[df['device_category'].isin([4,7])]['Phone Number'].unique()\n",
    "\n",
    "feature_or_basic.shape"
   ]
  },
  {
   "cell_type": "markdown",
   "id": "5df80b7d",
   "metadata": {},
   "source": [
    "Filter dates_upgraded to include only those who had a basic/feature phone first"
   ]
  },
  {
   "cell_type": "code",
   "execution_count": 13,
   "id": "45db7aa0",
   "metadata": {},
   "outputs": [],
   "source": [
    "dates_upgraded =  dates_upgraded[dates_upgraded['user'].isin(feature_or_basic)]"
   ]
  },
  {
   "cell_type": "markdown",
   "id": "359b274c",
   "metadata": {},
   "source": [
    "Store the dates_upgraded DataFrame in a CSV file"
   ]
  },
  {
   "cell_type": "code",
   "execution_count": 14,
   "id": "17f7396f",
   "metadata": {},
   "outputs": [],
   "source": [
    "dates_upgraded.to_csv('../data/cleaned/users_and_date_upgraded.csv', index=False)"
   ]
  },
  {
   "cell_type": "markdown",
   "id": "04aecae9",
   "metadata": {},
   "source": [
    "#### Build Usage & Recharge Features\n",
    "\n",
    "For each user in dates_upgraded determine\n",
    "\n",
    "1. Data used before upgrade => dt_before\n",
    "2. Data used after upgrade => dt_after\n",
    "3. Standard deviation of data usage before & after => std_before & std_after\n",
    "4. Days active after the upgrade where data_kb > 0\n",
    "5. Recharge growth determined by total_reload_amount (after)-(before)\n",
    "6. Days passed to first data use = Days between upgrade and first data_kb>0\n",
    "\n",
    "why standard deviation before & after ?:  This will tell us how consistent or unstable user's data usage behaviour is\n",
    "\n",
    "> low std : User has a steady behaviour\n",
    "\n",
    "> high std :  User has unpredicatble behaviour\n",
    "\n",
    "In short:\n",
    "\n",
    "I'm not just measuring how much data someone used, but how stable or risky their behavior was."
   ]
  },
  {
   "cell_type": "markdown",
   "id": "1a680fc4",
   "metadata": {},
   "source": [
    "##### Merge date_upgraded with the original df"
   ]
  },
  {
   "cell_type": "code",
   "execution_count": 15,
   "id": "dc49d71d",
   "metadata": {},
   "outputs": [],
   "source": [
    "#Firstly, we need to rename the 'Phone Number' column to 'user' in the original DataFrame\n",
    "df = df.rename(columns={'Phone Number': 'user'})\n",
    "\n",
    "df = df.merge(dates_upgraded, on='user', how='left')"
   ]
  },
  {
   "cell_type": "markdown",
   "id": "0cec02cc",
   "metadata": {},
   "source": [
    "Create columns to label rows as \"before\" or \"after\" upgrade"
   ]
  },
  {
   "cell_type": "code",
   "execution_count": 16,
   "id": "fa8311fd",
   "metadata": {},
   "outputs": [
    {
     "data": {
      "text/html": [
       "<div>\n",
       "<style scoped>\n",
       "    .dataframe tbody tr th:only-of-type {\n",
       "        vertical-align: middle;\n",
       "    }\n",
       "\n",
       "    .dataframe tbody tr th {\n",
       "        vertical-align: top;\n",
       "    }\n",
       "\n",
       "    .dataframe thead th {\n",
       "        text-align: right;\n",
       "    }\n",
       "</style>\n",
       "<table border=\"1\" class=\"dataframe\">\n",
       "  <thead>\n",
       "    <tr style=\"text-align: right;\">\n",
       "      <th></th>\n",
       "      <th>dates</th>\n",
       "      <th>user</th>\n",
       "      <th>total_reloads</th>\n",
       "      <th>total_reload_amount</th>\n",
       "      <th>imei</th>\n",
       "      <th>brand_name</th>\n",
       "      <th>model_name</th>\n",
       "      <th>device_category</th>\n",
       "      <th>data_kb</th>\n",
       "      <th>isSmartphone</th>\n",
       "      <th>dates_upgraded</th>\n",
       "      <th>Days_to_Upgrade</th>\n",
       "      <th>isBefore</th>\n",
       "      <th>isAfter</th>\n",
       "    </tr>\n",
       "  </thead>\n",
       "  <tbody>\n",
       "    <tr>\n",
       "      <th>0</th>\n",
       "      <td>2024-09-09</td>\n",
       "      <td>225798700001</td>\n",
       "      <td>2</td>\n",
       "      <td>113.47</td>\n",
       "      <td>2499020533</td>\n",
       "      <td>Brand_11</td>\n",
       "      <td>Brand_11_Model_2</td>\n",
       "      <td>7</td>\n",
       "      <td>156802.99</td>\n",
       "      <td>False</td>\n",
       "      <td>2024-09-10</td>\n",
       "      <td>-1</td>\n",
       "      <td>True</td>\n",
       "      <td>False</td>\n",
       "    </tr>\n",
       "    <tr>\n",
       "      <th>1</th>\n",
       "      <td>2024-09-10</td>\n",
       "      <td>225798700001</td>\n",
       "      <td>1</td>\n",
       "      <td>137.61</td>\n",
       "      <td>1356105166</td>\n",
       "      <td>Brand_25</td>\n",
       "      <td>Brand_25_Model_2</td>\n",
       "      <td>5</td>\n",
       "      <td>32615.80</td>\n",
       "      <td>True</td>\n",
       "      <td>2024-09-10</td>\n",
       "      <td>0</td>\n",
       "      <td>False</td>\n",
       "      <td>True</td>\n",
       "    </tr>\n",
       "    <tr>\n",
       "      <th>2</th>\n",
       "      <td>2024-09-10</td>\n",
       "      <td>225798700001</td>\n",
       "      <td>1</td>\n",
       "      <td>171.49</td>\n",
       "      <td>1082651869</td>\n",
       "      <td>Brand_29</td>\n",
       "      <td>Brand_29_Model_2</td>\n",
       "      <td>5</td>\n",
       "      <td>1837504.58</td>\n",
       "      <td>True</td>\n",
       "      <td>2024-09-10</td>\n",
       "      <td>0</td>\n",
       "      <td>False</td>\n",
       "      <td>True</td>\n",
       "    </tr>\n",
       "    <tr>\n",
       "      <th>3</th>\n",
       "      <td>2024-09-17</td>\n",
       "      <td>225798700001</td>\n",
       "      <td>1</td>\n",
       "      <td>902.91</td>\n",
       "      <td>1137344381</td>\n",
       "      <td>Brand_49</td>\n",
       "      <td>Brand_49_Model_1</td>\n",
       "      <td>5</td>\n",
       "      <td>0.00</td>\n",
       "      <td>True</td>\n",
       "      <td>2024-09-10</td>\n",
       "      <td>7</td>\n",
       "      <td>False</td>\n",
       "      <td>True</td>\n",
       "    </tr>\n",
       "    <tr>\n",
       "      <th>4</th>\n",
       "      <td>2024-09-17</td>\n",
       "      <td>225798700001</td>\n",
       "      <td>1</td>\n",
       "      <td>41.15</td>\n",
       "      <td>1980489975</td>\n",
       "      <td>Brand_28</td>\n",
       "      <td>Brand_28_Model_6</td>\n",
       "      <td>5</td>\n",
       "      <td>67296.78</td>\n",
       "      <td>True</td>\n",
       "      <td>2024-09-10</td>\n",
       "      <td>7</td>\n",
       "      <td>False</td>\n",
       "      <td>True</td>\n",
       "    </tr>\n",
       "  </tbody>\n",
       "</table>\n",
       "</div>"
      ],
      "text/plain": [
       "       dates          user  total_reloads  total_reload_amount        imei  \\\n",
       "0 2024-09-09  225798700001              2               113.47  2499020533   \n",
       "1 2024-09-10  225798700001              1               137.61  1356105166   \n",
       "2 2024-09-10  225798700001              1               171.49  1082651869   \n",
       "3 2024-09-17  225798700001              1               902.91  1137344381   \n",
       "4 2024-09-17  225798700001              1                41.15  1980489975   \n",
       "\n",
       "  brand_name        model_name  device_category     data_kb  isSmartphone  \\\n",
       "0   Brand_11  Brand_11_Model_2                7   156802.99         False   \n",
       "1   Brand_25  Brand_25_Model_2                5    32615.80          True   \n",
       "2   Brand_29  Brand_29_Model_2                5  1837504.58          True   \n",
       "3   Brand_49  Brand_49_Model_1                5        0.00          True   \n",
       "4   Brand_28  Brand_28_Model_6                5    67296.78          True   \n",
       "\n",
       "  dates_upgraded  Days_to_Upgrade  isBefore  isAfter  \n",
       "0     2024-09-10               -1      True    False  \n",
       "1     2024-09-10                0     False     True  \n",
       "2     2024-09-10                0     False     True  \n",
       "3     2024-09-10                7     False     True  \n",
       "4     2024-09-10                7     False     True  "
      ]
     },
     "execution_count": 16,
     "metadata": {},
     "output_type": "execute_result"
    }
   ],
   "source": [
    "df['Days_to_Upgrade'] = (df['dates']- df['dates_upgraded']).dt.days\n",
    "\n",
    "df['isBefore'] = df['Days_to_Upgrade'].between(-30, -1) #30 days before upgrade\n",
    "df['isAfter'] = df['Days_to_Upgrade'].between(0, 60) #60 days after upgrade\n",
    "\n",
    "df[(df['isBefore'] | df['isAfter'])].head()"
   ]
  },
  {
   "cell_type": "markdown",
   "id": "f0ac7d6f",
   "metadata": {},
   "source": [
    "Aggregate usage stats per user for both periods\n",
    "\n",
    "1. before upgrade"
   ]
  },
  {
   "cell_type": "code",
   "execution_count": 17,
   "id": "ff3ab446",
   "metadata": {},
   "outputs": [
    {
     "data": {
      "text/html": [
       "<div>\n",
       "<style scoped>\n",
       "    .dataframe tbody tr th:only-of-type {\n",
       "        vertical-align: middle;\n",
       "    }\n",
       "\n",
       "    .dataframe tbody tr th {\n",
       "        vertical-align: top;\n",
       "    }\n",
       "\n",
       "    .dataframe thead th {\n",
       "        text-align: right;\n",
       "    }\n",
       "</style>\n",
       "<table border=\"1\" class=\"dataframe\">\n",
       "  <thead>\n",
       "    <tr style=\"text-align: right;\">\n",
       "      <th></th>\n",
       "      <th>user</th>\n",
       "      <th>avg_data_before_upgrade</th>\n",
       "      <th>std_before</th>\n",
       "      <th>total_recharge_before</th>\n",
       "    </tr>\n",
       "  </thead>\n",
       "  <tbody>\n",
       "    <tr>\n",
       "      <th>0</th>\n",
       "      <td>225798700001</td>\n",
       "      <td>156802.990</td>\n",
       "      <td>NaN</td>\n",
       "      <td>113.47</td>\n",
       "    </tr>\n",
       "    <tr>\n",
       "      <th>1</th>\n",
       "      <td>225798700012</td>\n",
       "      <td>88923.625</td>\n",
       "      <td>125756.996490</td>\n",
       "      <td>124.37</td>\n",
       "    </tr>\n",
       "    <tr>\n",
       "      <th>2</th>\n",
       "      <td>225798700016</td>\n",
       "      <td>152250.540</td>\n",
       "      <td>141042.183882</td>\n",
       "      <td>1885.47</td>\n",
       "    </tr>\n",
       "    <tr>\n",
       "      <th>3</th>\n",
       "      <td>225798700036</td>\n",
       "      <td>297134.180</td>\n",
       "      <td>NaN</td>\n",
       "      <td>33.72</td>\n",
       "    </tr>\n",
       "    <tr>\n",
       "      <th>4</th>\n",
       "      <td>225798700046</td>\n",
       "      <td>816601.310</td>\n",
       "      <td>NaN</td>\n",
       "      <td>279.67</td>\n",
       "    </tr>\n",
       "  </tbody>\n",
       "</table>\n",
       "</div>"
      ],
      "text/plain": [
       "           user  avg_data_before_upgrade     std_before  total_recharge_before\n",
       "0  225798700001               156802.990            NaN                 113.47\n",
       "1  225798700012                88923.625  125756.996490                 124.37\n",
       "2  225798700016               152250.540  141042.183882                1885.47\n",
       "3  225798700036               297134.180            NaN                  33.72\n",
       "4  225798700046               816601.310            NaN                 279.67"
      ]
     },
     "execution_count": 17,
     "metadata": {},
     "output_type": "execute_result"
    }
   ],
   "source": [
    "before = df[df['isBefore']].groupby('user').agg(\n",
    "    avg_data_before_upgrade=('data_kb', 'mean'),\n",
    "    std_before=('data_kb', 'std'),\n",
    "    total_recharge_before=('total_reload_amount', 'sum')\n",
    ").reset_index()\n",
    "\n",
    "before.head()\n"
   ]
  },
  {
   "cell_type": "markdown",
   "id": "bdf5f977",
   "metadata": {},
   "source": [
    "2. after upgrade"
   ]
  },
  {
   "cell_type": "code",
   "execution_count": 18,
   "id": "fe0a8a9d",
   "metadata": {},
   "outputs": [
    {
     "data": {
      "text/html": [
       "<div>\n",
       "<style scoped>\n",
       "    .dataframe tbody tr th:only-of-type {\n",
       "        vertical-align: middle;\n",
       "    }\n",
       "\n",
       "    .dataframe tbody tr th {\n",
       "        vertical-align: top;\n",
       "    }\n",
       "\n",
       "    .dataframe thead th {\n",
       "        text-align: right;\n",
       "    }\n",
       "</style>\n",
       "<table border=\"1\" class=\"dataframe\">\n",
       "  <thead>\n",
       "    <tr style=\"text-align: right;\">\n",
       "      <th></th>\n",
       "      <th>user</th>\n",
       "      <th>avg_data_after_upgrade</th>\n",
       "      <th>std_after</th>\n",
       "      <th>total_recharge_after</th>\n",
       "      <th>days_active_after</th>\n",
       "      <th>time_to_first_data_use</th>\n",
       "    </tr>\n",
       "  </thead>\n",
       "  <tbody>\n",
       "    <tr>\n",
       "      <th>0</th>\n",
       "      <td>225798700001</td>\n",
       "      <td>406223.960000</td>\n",
       "      <td>6.458136e+05</td>\n",
       "      <td>7574.878261</td>\n",
       "      <td>27</td>\n",
       "      <td>0.0</td>\n",
       "    </tr>\n",
       "    <tr>\n",
       "      <th>1</th>\n",
       "      <td>225798700012</td>\n",
       "      <td>471228.741111</td>\n",
       "      <td>6.124226e+05</td>\n",
       "      <td>14863.328261</td>\n",
       "      <td>53</td>\n",
       "      <td>0.0</td>\n",
       "    </tr>\n",
       "    <tr>\n",
       "      <th>2</th>\n",
       "      <td>225798700014</td>\n",
       "      <td>669976.774043</td>\n",
       "      <td>1.080963e+06</td>\n",
       "      <td>15855.988261</td>\n",
       "      <td>45</td>\n",
       "      <td>0.0</td>\n",
       "    </tr>\n",
       "    <tr>\n",
       "      <th>3</th>\n",
       "      <td>225798700016</td>\n",
       "      <td>783516.914167</td>\n",
       "      <td>1.818749e+06</td>\n",
       "      <td>8418.270000</td>\n",
       "      <td>23</td>\n",
       "      <td>0.0</td>\n",
       "    </tr>\n",
       "    <tr>\n",
       "      <th>4</th>\n",
       "      <td>225798700032</td>\n",
       "      <td>458873.072281</td>\n",
       "      <td>5.792486e+05</td>\n",
       "      <td>10687.680000</td>\n",
       "      <td>56</td>\n",
       "      <td>0.0</td>\n",
       "    </tr>\n",
       "  </tbody>\n",
       "</table>\n",
       "</div>"
      ],
      "text/plain": [
       "           user  avg_data_after_upgrade     std_after  total_recharge_after  \\\n",
       "0  225798700001           406223.960000  6.458136e+05           7574.878261   \n",
       "1  225798700012           471228.741111  6.124226e+05          14863.328261   \n",
       "2  225798700014           669976.774043  1.080963e+06          15855.988261   \n",
       "3  225798700016           783516.914167  1.818749e+06           8418.270000   \n",
       "4  225798700032           458873.072281  5.792486e+05          10687.680000   \n",
       "\n",
       "   days_active_after  time_to_first_data_use  \n",
       "0                 27                     0.0  \n",
       "1                 53                     0.0  \n",
       "2                 45                     0.0  \n",
       "3                 23                     0.0  \n",
       "4                 56                     0.0  "
      ]
     },
     "execution_count": 18,
     "metadata": {},
     "output_type": "execute_result"
    }
   ],
   "source": [
    "after = df[df['isAfter']].groupby('user').agg(\n",
    "    avg_data_after_upgrade=('data_kb', 'mean'),\n",
    "    std_after=('data_kb', 'std'),\n",
    "    total_recharge_after=('total_reload_amount', 'sum'),\n",
    "    days_active_after=('data_kb', lambda x: (x > 0).sum()),\n",
    "    time_to_first_data_use=('Days_to_Upgrade', lambda x: x[df.loc[x.index, 'data_kb'] > 0].min())\n",
    ").reset_index()\n",
    "\n",
    "after.head()"
   ]
  },
  {
   "cell_type": "markdown",
   "id": "fc585fe5",
   "metadata": {},
   "source": [
    "3. Merge them together"
   ]
  },
  {
   "cell_type": "code",
   "execution_count": 19,
   "id": "e396286d",
   "metadata": {},
   "outputs": [
    {
     "data": {
      "text/html": [
       "<div>\n",
       "<style scoped>\n",
       "    .dataframe tbody tr th:only-of-type {\n",
       "        vertical-align: middle;\n",
       "    }\n",
       "\n",
       "    .dataframe tbody tr th {\n",
       "        vertical-align: top;\n",
       "    }\n",
       "\n",
       "    .dataframe thead th {\n",
       "        text-align: right;\n",
       "    }\n",
       "</style>\n",
       "<table border=\"1\" class=\"dataframe\">\n",
       "  <thead>\n",
       "    <tr style=\"text-align: right;\">\n",
       "      <th></th>\n",
       "      <th>user</th>\n",
       "      <th>avg_data_before_upgrade</th>\n",
       "      <th>std_before</th>\n",
       "      <th>total_recharge_before</th>\n",
       "      <th>avg_data_after_upgrade</th>\n",
       "      <th>std_after</th>\n",
       "      <th>total_recharge_after</th>\n",
       "      <th>days_active_after</th>\n",
       "      <th>time_to_first_data_use</th>\n",
       "    </tr>\n",
       "  </thead>\n",
       "  <tbody>\n",
       "    <tr>\n",
       "      <th>0</th>\n",
       "      <td>225798700001</td>\n",
       "      <td>156802.990</td>\n",
       "      <td>NaN</td>\n",
       "      <td>113.47</td>\n",
       "      <td>406223.960000</td>\n",
       "      <td>6.458136e+05</td>\n",
       "      <td>7574.878261</td>\n",
       "      <td>27</td>\n",
       "      <td>0.0</td>\n",
       "    </tr>\n",
       "    <tr>\n",
       "      <th>1</th>\n",
       "      <td>225798700012</td>\n",
       "      <td>88923.625</td>\n",
       "      <td>125756.996490</td>\n",
       "      <td>124.37</td>\n",
       "      <td>471228.741111</td>\n",
       "      <td>6.124226e+05</td>\n",
       "      <td>14863.328261</td>\n",
       "      <td>53</td>\n",
       "      <td>0.0</td>\n",
       "    </tr>\n",
       "    <tr>\n",
       "      <th>2</th>\n",
       "      <td>225798700014</td>\n",
       "      <td>NaN</td>\n",
       "      <td>NaN</td>\n",
       "      <td>NaN</td>\n",
       "      <td>669976.774043</td>\n",
       "      <td>1.080963e+06</td>\n",
       "      <td>15855.988261</td>\n",
       "      <td>45</td>\n",
       "      <td>0.0</td>\n",
       "    </tr>\n",
       "    <tr>\n",
       "      <th>3</th>\n",
       "      <td>225798700016</td>\n",
       "      <td>152250.540</td>\n",
       "      <td>141042.183882</td>\n",
       "      <td>1885.47</td>\n",
       "      <td>783516.914167</td>\n",
       "      <td>1.818749e+06</td>\n",
       "      <td>8418.270000</td>\n",
       "      <td>23</td>\n",
       "      <td>0.0</td>\n",
       "    </tr>\n",
       "    <tr>\n",
       "      <th>4</th>\n",
       "      <td>225798700032</td>\n",
       "      <td>NaN</td>\n",
       "      <td>NaN</td>\n",
       "      <td>NaN</td>\n",
       "      <td>458873.072281</td>\n",
       "      <td>5.792486e+05</td>\n",
       "      <td>10687.680000</td>\n",
       "      <td>56</td>\n",
       "      <td>0.0</td>\n",
       "    </tr>\n",
       "  </tbody>\n",
       "</table>\n",
       "</div>"
      ],
      "text/plain": [
       "           user  avg_data_before_upgrade     std_before  \\\n",
       "0  225798700001               156802.990            NaN   \n",
       "1  225798700012                88923.625  125756.996490   \n",
       "2  225798700014                      NaN            NaN   \n",
       "3  225798700016               152250.540  141042.183882   \n",
       "4  225798700032                      NaN            NaN   \n",
       "\n",
       "   total_recharge_before  avg_data_after_upgrade     std_after  \\\n",
       "0                 113.47           406223.960000  6.458136e+05   \n",
       "1                 124.37           471228.741111  6.124226e+05   \n",
       "2                    NaN           669976.774043  1.080963e+06   \n",
       "3                1885.47           783516.914167  1.818749e+06   \n",
       "4                    NaN           458873.072281  5.792486e+05   \n",
       "\n",
       "   total_recharge_after  days_active_after  time_to_first_data_use  \n",
       "0           7574.878261                 27                     0.0  \n",
       "1          14863.328261                 53                     0.0  \n",
       "2          15855.988261                 45                     0.0  \n",
       "3           8418.270000                 23                     0.0  \n",
       "4          10687.680000                 56                     0.0  "
      ]
     },
     "execution_count": 19,
     "metadata": {},
     "output_type": "execute_result"
    }
   ],
   "source": [
    "features = before.merge(after, on='user', how='outer')\n",
    "features.head()"
   ]
  },
  {
   "cell_type": "markdown",
   "id": "ee75ab8e",
   "metadata": {},
   "source": [
    "Add Recharge Growth & Finalize"
   ]
  },
  {
   "cell_type": "code",
   "execution_count": 20,
   "id": "c2379cde",
   "metadata": {},
   "outputs": [],
   "source": [
    "features['recharge_growth'] = features['total_recharge_after'] - features['total_recharge_before']"
   ]
  },
  {
   "cell_type": "markdown",
   "id": "42660094",
   "metadata": {},
   "source": [
    "## Analysis new features dataframe"
   ]
  },
  {
   "cell_type": "code",
   "execution_count": 21,
   "id": "c49ff0a7",
   "metadata": {},
   "outputs": [
    {
     "data": {
      "text/plain": [
       "user                           0\n",
       "avg_data_before_upgrade    10229\n",
       "std_before                 14441\n",
       "total_recharge_before      10229\n",
       "avg_data_after_upgrade         0\n",
       "std_after                      0\n",
       "total_recharge_after           0\n",
       "days_active_after              0\n",
       "time_to_first_data_use       508\n",
       "recharge_growth            10229\n",
       "dtype: int64"
      ]
     },
     "execution_count": 21,
     "metadata": {},
     "output_type": "execute_result"
    }
   ],
   "source": [
    "features.isna().sum()"
   ]
  },
  {
   "cell_type": "markdown",
   "id": "1a83a183",
   "metadata": {},
   "source": [
    "**We have nan values which explain some behaviours of users**\n",
    "\n",
    "**avg_data_before_upgrade:**  10229 user didn’t use mobile data at all before upgrading\n",
    "\n",
    "**std_before:** no variation because no data\n",
    "\n",
    "**total_recharge_before:** no top-ups before upgrade , new users or they were inactive\n",
    "\n",
    "**recharge_growth:** makes sense because it needs both before & after\n",
    "\n",
    "> Note: 10229 users have no data or recharge history before upgrading. Their missing values reflect real user inactivity\n",
    "\n",
    "***Question:*** why 14441 nan values in std_before?\n",
    "\n",
    "> std_before needs at least 2 data points to calculate a standard deviation. Those extra 4212 users (14441 NaNs in std_before vs. 10229 in avg_data_before_upgrade)  had only one day of data in the 30-day window before their upgrade."
   ]
  },
  {
   "cell_type": "markdown",
   "id": "502bc5e0",
   "metadata": {},
   "source": [
    "# save the cleaned / engineered dataframe as smartphone_users_features.csv"
   ]
  },
  {
   "cell_type": "code",
   "execution_count": 22,
   "id": "b487cce7",
   "metadata": {},
   "outputs": [],
   "source": [
    "features.to_csv('../data/cleaned/smartphone_users_features.csv', index=False)"
   ]
  }
 ],
 "metadata": {
  "kernelspec": {
   "display_name": ".venv",
   "language": "python",
   "name": "python3"
  },
  "language_info": {
   "codemirror_mode": {
    "name": "ipython",
    "version": 3
   },
   "file_extension": ".py",
   "mimetype": "text/x-python",
   "name": "python",
   "nbconvert_exporter": "python",
   "pygments_lexer": "ipython3",
   "version": "3.11.2"
  }
 },
 "nbformat": 4,
 "nbformat_minor": 5
}
