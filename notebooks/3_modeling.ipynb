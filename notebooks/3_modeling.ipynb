{
 "cells": [
  {
   "cell_type": "markdown",
   "id": "ea02e135",
   "metadata": {},
   "source": [
    "# Import necessary libraries"
   ]
  },
  {
   "cell_type": "code",
   "execution_count": 42,
   "id": "50caa6ca",
   "metadata": {},
   "outputs": [],
   "source": [
    "import pandas as pd, numpy as np\n",
    "from sklearn.model_selection import train_test_split\n",
    "from sklearn.ensemble import RandomForestClassifier\n",
    "import xgboost as xgb\n",
    "from xgboost import XGBClassifier , XGBRegressor\n",
    "from sklearn.model_selection import RandomizedSearchCV\n",
    "from sklearn.metrics import make_scorer, mean_absolute_error\n",
    "import joblib\n",
    "\n",
    "import sys\n",
    "import os\n",
    "\n",
    "# Add the parent directory's 'scripts' folder to the Python path\n",
    "sys.path.append(os.path.abspath('../scripts'))\n",
    "\n",
    "# Import the function\n",
    "from class_metrics import display_metrics"
   ]
  },
  {
   "cell_type": "markdown",
   "id": "6046abfc",
   "metadata": {},
   "source": [
    "# Load the the users with segments dataset"
   ]
  },
  {
   "cell_type": "code",
   "execution_count": 43,
   "id": "fc28b7e8",
   "metadata": {},
   "outputs": [],
   "source": [
    "df_init = pd.read_csv('../data/cleaned/users_usage_segmented.csv')"
   ]
  },
  {
   "cell_type": "code",
   "execution_count": 44,
   "id": "6e2b887f",
   "metadata": {},
   "outputs": [
    {
     "data": {
      "text/plain": [
       "['avg_data_after_upgrade',\n",
       " 'avg_data_before_upgrade',\n",
       " 'days_active_after',\n",
       " 'increased_usage',\n",
       " 'recharge_growth',\n",
       " 'std_after',\n",
       " 'std_before',\n",
       " 'time_to_first_data_use',\n",
       " 'total_recharge_after',\n",
       " 'total_recharge_before',\n",
       " 'user',\n",
       " 'user_segment']"
      ]
     },
     "execution_count": 44,
     "metadata": {},
     "output_type": "execute_result"
    }
   ],
   "source": [
    "sorted(df_init.columns)"
   ]
  },
  {
   "cell_type": "markdown",
   "id": "45a918e4",
   "metadata": {},
   "source": [
    "### we need to drop the columns that are not needed for the analysis\n",
    "\n",
    "> 'avg_data_after_upgrade','days_active_after','std_after','time_to_first_data_use','user_segment', 'total_recharge_after',\n",
    "\n",
    "so we only need the following columns\n",
    "\n",
    "> 'avg_data_before_upgrade','increased_usage'(our target),'std_before','total_recharge_before','user',"
   ]
  },
  {
   "cell_type": "code",
   "execution_count": 45,
   "id": "498e7148",
   "metadata": {},
   "outputs": [
    {
     "data": {
      "application/vnd.microsoft.datawrangler.viewer.v0+json": {
       "columns": [
        {
         "name": "index",
         "rawType": "int64",
         "type": "integer"
        },
        {
         "name": "user",
         "rawType": "int64",
         "type": "integer"
        },
        {
         "name": "avg_data_before_upgrade",
         "rawType": "float64",
         "type": "float"
        },
        {
         "name": "std_before",
         "rawType": "float64",
         "type": "float"
        },
        {
         "name": "total_recharge_before",
         "rawType": "float64",
         "type": "float"
        },
        {
         "name": "increased_usage",
         "rawType": "int64",
         "type": "integer"
        }
       ],
       "conversionMethod": "pd.DataFrame",
       "ref": "ee1b4fd5-151f-49d5-9e91-a21d35af4a0b",
       "rows": [
        [
         "17405",
         "225798786821",
         "168454.8",
         null,
         "135.12",
         "1"
        ],
        [
         "7397",
         "225798737216",
         null,
         null,
         null,
         "0"
        ],
        [
         "8635",
         "225798743453",
         null,
         null,
         null,
         "0"
        ],
        [
         "15726",
         "225798778381",
         null,
         null,
         null,
         "0"
        ],
        [
         "1578",
         "225798708034",
         null,
         null,
         null,
         "0"
        ],
        [
         "19600",
         "225798797720",
         "243739.41",
         null,
         "168.78",
         "1"
        ],
        [
         "654",
         "225798703347",
         null,
         null,
         null,
         "0"
        ],
        [
         "1208",
         "225798706154",
         null,
         null,
         null,
         "0"
        ],
        [
         "17678",
         "225798788095",
         null,
         null,
         null,
         "0"
        ],
        [
         "15367",
         "225798776602",
         "1134934.086666667",
         "1700695.9008845778",
         "671.8482606645549",
         "0"
        ]
       ],
       "shape": {
        "columns": 5,
        "rows": 10
       }
      },
      "text/html": [
       "<div>\n",
       "<style scoped>\n",
       "    .dataframe tbody tr th:only-of-type {\n",
       "        vertical-align: middle;\n",
       "    }\n",
       "\n",
       "    .dataframe tbody tr th {\n",
       "        vertical-align: top;\n",
       "    }\n",
       "\n",
       "    .dataframe thead th {\n",
       "        text-align: right;\n",
       "    }\n",
       "</style>\n",
       "<table border=\"1\" class=\"dataframe\">\n",
       "  <thead>\n",
       "    <tr style=\"text-align: right;\">\n",
       "      <th></th>\n",
       "      <th>user</th>\n",
       "      <th>avg_data_before_upgrade</th>\n",
       "      <th>std_before</th>\n",
       "      <th>total_recharge_before</th>\n",
       "      <th>increased_usage</th>\n",
       "    </tr>\n",
       "  </thead>\n",
       "  <tbody>\n",
       "    <tr>\n",
       "      <th>17405</th>\n",
       "      <td>225798786821</td>\n",
       "      <td>1.684548e+05</td>\n",
       "      <td>NaN</td>\n",
       "      <td>135.120000</td>\n",
       "      <td>1</td>\n",
       "    </tr>\n",
       "    <tr>\n",
       "      <th>7397</th>\n",
       "      <td>225798737216</td>\n",
       "      <td>NaN</td>\n",
       "      <td>NaN</td>\n",
       "      <td>NaN</td>\n",
       "      <td>0</td>\n",
       "    </tr>\n",
       "    <tr>\n",
       "      <th>8635</th>\n",
       "      <td>225798743453</td>\n",
       "      <td>NaN</td>\n",
       "      <td>NaN</td>\n",
       "      <td>NaN</td>\n",
       "      <td>0</td>\n",
       "    </tr>\n",
       "    <tr>\n",
       "      <th>15726</th>\n",
       "      <td>225798778381</td>\n",
       "      <td>NaN</td>\n",
       "      <td>NaN</td>\n",
       "      <td>NaN</td>\n",
       "      <td>0</td>\n",
       "    </tr>\n",
       "    <tr>\n",
       "      <th>1578</th>\n",
       "      <td>225798708034</td>\n",
       "      <td>NaN</td>\n",
       "      <td>NaN</td>\n",
       "      <td>NaN</td>\n",
       "      <td>0</td>\n",
       "    </tr>\n",
       "    <tr>\n",
       "      <th>19600</th>\n",
       "      <td>225798797720</td>\n",
       "      <td>2.437394e+05</td>\n",
       "      <td>NaN</td>\n",
       "      <td>168.780000</td>\n",
       "      <td>1</td>\n",
       "    </tr>\n",
       "    <tr>\n",
       "      <th>654</th>\n",
       "      <td>225798703347</td>\n",
       "      <td>NaN</td>\n",
       "      <td>NaN</td>\n",
       "      <td>NaN</td>\n",
       "      <td>0</td>\n",
       "    </tr>\n",
       "    <tr>\n",
       "      <th>1208</th>\n",
       "      <td>225798706154</td>\n",
       "      <td>NaN</td>\n",
       "      <td>NaN</td>\n",
       "      <td>NaN</td>\n",
       "      <td>0</td>\n",
       "    </tr>\n",
       "    <tr>\n",
       "      <th>17678</th>\n",
       "      <td>225798788095</td>\n",
       "      <td>NaN</td>\n",
       "      <td>NaN</td>\n",
       "      <td>NaN</td>\n",
       "      <td>0</td>\n",
       "    </tr>\n",
       "    <tr>\n",
       "      <th>15367</th>\n",
       "      <td>225798776602</td>\n",
       "      <td>1.134934e+06</td>\n",
       "      <td>1.700696e+06</td>\n",
       "      <td>671.848261</td>\n",
       "      <td>0</td>\n",
       "    </tr>\n",
       "  </tbody>\n",
       "</table>\n",
       "</div>"
      ],
      "text/plain": [
       "               user  avg_data_before_upgrade    std_before  \\\n",
       "17405  225798786821             1.684548e+05           NaN   \n",
       "7397   225798737216                      NaN           NaN   \n",
       "8635   225798743453                      NaN           NaN   \n",
       "15726  225798778381                      NaN           NaN   \n",
       "1578   225798708034                      NaN           NaN   \n",
       "19600  225798797720             2.437394e+05           NaN   \n",
       "654    225798703347                      NaN           NaN   \n",
       "1208   225798706154                      NaN           NaN   \n",
       "17678  225798788095                      NaN           NaN   \n",
       "15367  225798776602             1.134934e+06  1.700696e+06   \n",
       "\n",
       "       total_recharge_before  increased_usage  \n",
       "17405             135.120000                1  \n",
       "7397                     NaN                0  \n",
       "8635                     NaN                0  \n",
       "15726                    NaN                0  \n",
       "1578                     NaN                0  \n",
       "19600             168.780000                1  \n",
       "654                      NaN                0  \n",
       "1208                     NaN                0  \n",
       "17678                    NaN                0  \n",
       "15367             671.848261                0  "
      ]
     },
     "execution_count": 45,
     "metadata": {},
     "output_type": "execute_result"
    }
   ],
   "source": [
    "df =  df_init[['user', 'avg_data_before_upgrade', 'std_before', 'total_recharge_before', 'increased_usage']]\n",
    "df.sample(10)"
   ]
  },
  {
   "cell_type": "markdown",
   "id": "129fc4c3",
   "metadata": {},
   "source": [
    "Logistic, RandomForest or any other tree-based model from sklearn library don't support nan values and we have them"
   ]
  },
  {
   "cell_type": "code",
   "execution_count": 46,
   "id": "80bfa2c8",
   "metadata": {},
   "outputs": [
    {
     "data": {
      "text/plain": [
       "user                           0\n",
       "avg_data_before_upgrade    10229\n",
       "std_before                 14441\n",
       "total_recharge_before      10229\n",
       "increased_usage                0\n",
       "dtype: int64"
      ]
     },
     "execution_count": 46,
     "metadata": {},
     "output_type": "execute_result"
    }
   ],
   "source": [
    "df.isna().sum()"
   ]
  },
  {
   "cell_type": "markdown",
   "id": "af7f83d5",
   "metadata": {},
   "source": [
    "### Handle Missing values\n",
    "\n",
    "we have missing values in 3 columns, we can't impute them bcs we might introduce false informations about users. \n",
    "\n",
    "**Solution:**\n",
    "\n",
    "For each column with missing values let's create a binary label/flag indicating whether it's missing or not, then after let's fill nan with 0 which indicates we don't have values for that column"
   ]
  },
  {
   "cell_type": "code",
   "execution_count": 47,
   "id": "86f34da3",
   "metadata": {},
   "outputs": [
    {
     "name": "stderr",
     "output_type": "stream",
     "text": [
      "/tmp/ipykernel_5375/3601795145.py:1: SettingWithCopyWarning: \n",
      "A value is trying to be set on a copy of a slice from a DataFrame.\n",
      "Try using .loc[row_indexer,col_indexer] = value instead\n",
      "\n",
      "See the caveats in the documentation: https://pandas.pydata.org/pandas-docs/stable/user_guide/indexing.html#returning-a-view-versus-a-copy\n",
      "  df['data_flag'] = df['avg_data_before_upgrade'].isna().astype(int)\n",
      "/tmp/ipykernel_5375/3601795145.py:2: SettingWithCopyWarning: \n",
      "A value is trying to be set on a copy of a slice from a DataFrame.\n",
      "Try using .loc[row_indexer,col_indexer] = value instead\n",
      "\n",
      "See the caveats in the documentation: https://pandas.pydata.org/pandas-docs/stable/user_guide/indexing.html#returning-a-view-versus-a-copy\n",
      "  df['std_flag'] = df['std_before'].isna().astype(int)\n",
      "/tmp/ipykernel_5375/3601795145.py:3: SettingWithCopyWarning: \n",
      "A value is trying to be set on a copy of a slice from a DataFrame.\n",
      "Try using .loc[row_indexer,col_indexer] = value instead\n",
      "\n",
      "See the caveats in the documentation: https://pandas.pydata.org/pandas-docs/stable/user_guide/indexing.html#returning-a-view-versus-a-copy\n",
      "  df['recharge_flag'] = df['total_recharge_before'].isna().astype(int)\n",
      "/tmp/ipykernel_5375/3601795145.py:7: SettingWithCopyWarning: \n",
      "A value is trying to be set on a copy of a slice from a DataFrame.\n",
      "Try using .loc[row_indexer,col_indexer] = value instead\n",
      "\n",
      "See the caveats in the documentation: https://pandas.pydata.org/pandas-docs/stable/user_guide/indexing.html#returning-a-view-versus-a-copy\n",
      "  df['avg_data_before_upgrade'] = df['avg_data_before_upgrade'].fillna(0)\n",
      "/tmp/ipykernel_5375/3601795145.py:8: SettingWithCopyWarning: \n",
      "A value is trying to be set on a copy of a slice from a DataFrame.\n",
      "Try using .loc[row_indexer,col_indexer] = value instead\n",
      "\n",
      "See the caveats in the documentation: https://pandas.pydata.org/pandas-docs/stable/user_guide/indexing.html#returning-a-view-versus-a-copy\n",
      "  df['std_before'] = df['std_before'].fillna(0)\n",
      "/tmp/ipykernel_5375/3601795145.py:9: SettingWithCopyWarning: \n",
      "A value is trying to be set on a copy of a slice from a DataFrame.\n",
      "Try using .loc[row_indexer,col_indexer] = value instead\n",
      "\n",
      "See the caveats in the documentation: https://pandas.pydata.org/pandas-docs/stable/user_guide/indexing.html#returning-a-view-versus-a-copy\n",
      "  df['total_recharge_before'] = df['total_recharge_before'].fillna(0)\n"
     ]
    },
    {
     "data": {
      "text/plain": [
       "user                       0\n",
       "avg_data_before_upgrade    0\n",
       "std_before                 0\n",
       "total_recharge_before      0\n",
       "increased_usage            0\n",
       "data_flag                  0\n",
       "std_flag                   0\n",
       "recharge_flag              0\n",
       "dtype: int64"
      ]
     },
     "execution_count": 47,
     "metadata": {},
     "output_type": "execute_result"
    }
   ],
   "source": [
    "df['data_flag'] = df['avg_data_before_upgrade'].isna().astype(int)\n",
    "df['std_flag'] = df['std_before'].isna().astype(int)\n",
    "df['recharge_flag'] = df['total_recharge_before'].isna().astype(int)\n",
    "\n",
    "# Fill missing values with 0\n",
    "\n",
    "df['avg_data_before_upgrade'] = df['avg_data_before_upgrade'].fillna(0)\n",
    "df['std_before'] = df['std_before'].fillna(0)\n",
    "df['total_recharge_before'] = df['total_recharge_before'].fillna(0)\n",
    "\n",
    "df.isna().sum()\n"
   ]
  },
  {
   "cell_type": "code",
   "execution_count": 48,
   "id": "b8a9309e",
   "metadata": {},
   "outputs": [],
   "source": [
    "df.to_csv('../data/cleaned/users_segmented_zero_nan.csv', index=False) "
   ]
  },
  {
   "cell_type": "markdown",
   "id": "a4fe95c4",
   "metadata": {},
   "source": [
    "# Train & Test split"
   ]
  },
  {
   "cell_type": "code",
   "execution_count": 49,
   "id": "428993ba",
   "metadata": {},
   "outputs": [
    {
     "data": {
      "text/plain": [
       "(16033, 6)"
      ]
     },
     "execution_count": 49,
     "metadata": {},
     "output_type": "execute_result"
    }
   ],
   "source": [
    "X = df.drop(columns=['user', 'increased_usage'])\n",
    "y = df['increased_usage']\n",
    "\n",
    "X_train, X_test, y_train, y_test = train_test_split(X, y, test_size=0.2, random_state=42 ,shuffle=True)\n",
    "X_train.shape"
   ]
  },
  {
   "cell_type": "markdown",
   "id": "cacbde41",
   "metadata": {},
   "source": [
    "# Baseline Model : RandomForest Classifier"
   ]
  },
  {
   "cell_type": "markdown",
   "id": "7f85aea5",
   "metadata": {},
   "source": [
    "Let's train & predict using a RandomForest regressor"
   ]
  },
  {
   "cell_type": "code",
   "execution_count": 50,
   "id": "f7da4b86",
   "metadata": {},
   "outputs": [],
   "source": [
    "rf = RandomForestClassifier(n_estimators=100, random_state=42, class_weight='balanced')\n",
    "rf.fit(X_train, y_train)\n",
    "\n",
    "y_pred = rf.predict(X_test)\n",
    "y_scores = rf.predict_proba(X_test)[:, 1]"
   ]
  },
  {
   "cell_type": "markdown",
   "id": "8102620f",
   "metadata": {},
   "source": [
    "overfitness check"
   ]
  },
  {
   "cell_type": "code",
   "execution_count": 51,
   "id": "f948dbc0",
   "metadata": {},
   "outputs": [],
   "source": [
    "y_train_pred = rf.predict(X_train)\n",
    "y_train_score = rf.predict_proba(X_train)[:, 1]"
   ]
  },
  {
   "cell_type": "markdown",
   "id": "87f84858",
   "metadata": {},
   "source": [
    "#### Baseline Metrics of the RandomForest model"
   ]
  },
  {
   "cell_type": "code",
   "execution_count": 52,
   "id": "41950048",
   "metadata": {},
   "outputs": [
    {
     "name": "stdout",
     "output_type": "stream",
     "text": [
      "************************Test metrics***********************\n",
      "Classification Metrics:\n",
      "Precision: 0.8707\n",
      "AUC-ROC: 0.9807\n",
      "************************Train metrics***********************\n",
      "Classification Metrics:\n",
      "Precision: 1.0000\n",
      "AUC-ROC: 1.0000\n",
      "************************Feature importance***********************\n"
     ]
    },
    {
     "data": {
      "application/vnd.microsoft.datawrangler.viewer.v0+json": {
       "columns": [
        {
         "name": "index",
         "rawType": "int64",
         "type": "integer"
        },
        {
         "name": "Feature",
         "rawType": "object",
         "type": "string"
        },
        {
         "name": "Importance",
         "rawType": "float64",
         "type": "float"
        }
       ],
       "conversionMethod": "pd.DataFrame",
       "ref": "01d04298-6f53-40e4-ae07-e56453a48a28",
       "rows": [
        [
         "0",
         "avg_data_before_upgrade",
         "0.5292393596440539"
        ],
        [
         "3",
         "data_flag",
         "0.13429994040104096"
        ],
        [
         "2",
         "total_recharge_before",
         "0.13318107662709996"
        ],
        [
         "5",
         "recharge_flag",
         "0.10654597444962305"
        ],
        [
         "1",
         "std_before",
         "0.0950486276324927"
        ],
        [
         "4",
         "std_flag",
         "0.0016850212456894914"
        ]
       ],
       "shape": {
        "columns": 2,
        "rows": 6
       }
      },
      "text/html": [
       "<div>\n",
       "<style scoped>\n",
       "    .dataframe tbody tr th:only-of-type {\n",
       "        vertical-align: middle;\n",
       "    }\n",
       "\n",
       "    .dataframe tbody tr th {\n",
       "        vertical-align: top;\n",
       "    }\n",
       "\n",
       "    .dataframe thead th {\n",
       "        text-align: right;\n",
       "    }\n",
       "</style>\n",
       "<table border=\"1\" class=\"dataframe\">\n",
       "  <thead>\n",
       "    <tr style=\"text-align: right;\">\n",
       "      <th></th>\n",
       "      <th>Feature</th>\n",
       "      <th>Importance</th>\n",
       "    </tr>\n",
       "  </thead>\n",
       "  <tbody>\n",
       "    <tr>\n",
       "      <th>0</th>\n",
       "      <td>avg_data_before_upgrade</td>\n",
       "      <td>0.529239</td>\n",
       "    </tr>\n",
       "    <tr>\n",
       "      <th>3</th>\n",
       "      <td>data_flag</td>\n",
       "      <td>0.134300</td>\n",
       "    </tr>\n",
       "    <tr>\n",
       "      <th>2</th>\n",
       "      <td>total_recharge_before</td>\n",
       "      <td>0.133181</td>\n",
       "    </tr>\n",
       "    <tr>\n",
       "      <th>5</th>\n",
       "      <td>recharge_flag</td>\n",
       "      <td>0.106546</td>\n",
       "    </tr>\n",
       "    <tr>\n",
       "      <th>1</th>\n",
       "      <td>std_before</td>\n",
       "      <td>0.095049</td>\n",
       "    </tr>\n",
       "    <tr>\n",
       "      <th>4</th>\n",
       "      <td>std_flag</td>\n",
       "      <td>0.001685</td>\n",
       "    </tr>\n",
       "  </tbody>\n",
       "</table>\n",
       "</div>"
      ],
      "text/plain": [
       "                   Feature  Importance\n",
       "0  avg_data_before_upgrade    0.529239\n",
       "3                data_flag    0.134300\n",
       "2    total_recharge_before    0.133181\n",
       "5            recharge_flag    0.106546\n",
       "1               std_before    0.095049\n",
       "4                 std_flag    0.001685"
      ]
     },
     "execution_count": 52,
     "metadata": {},
     "output_type": "execute_result"
    }
   ],
   "source": [
    "print('************************Test metrics***********************')\n",
    "display_metrics(y_true=y_test, y_pred=y_pred, y_scores=y_scores)\n",
    "\n",
    "print('************************Train metrics***********************')\n",
    "display_metrics(y_true=y_train, y_pred=y_train_pred , y_scores=y_train_score)\n",
    "\n",
    "print('************************Feature importance***********************')\n",
    "importances = rf.feature_importances_\n",
    "feature_names = X.columns\n",
    "feature_importance_df = pd.DataFrame({'Feature': feature_names, 'Importance': importances})\n",
    "feature_importance_df = feature_importance_df.sort_values(by='Importance', ascending=False)\n",
    "feature_importance_df"
   ]
  },
  {
   "cell_type": "markdown",
   "id": "7659e268",
   "metadata": {},
   "source": [
    "# XGBoost models : training & predicting"
   ]
  },
  {
   "cell_type": "markdown",
   "id": "fcfd5f21",
   "metadata": {},
   "source": [
    "## Increased usage predictions"
   ]
  },
  {
   "cell_type": "code",
   "execution_count": null,
   "id": "2e30be0e",
   "metadata": {},
   "outputs": [
    {
     "name": "stdout",
     "output_type": "stream",
     "text": [
      "************************Test metrics***********************\n",
      "Classification Metrics:\n",
      "Precision: 0.8551\n",
      "AUC-ROC: 0.9800\n",
      "************************Train metrics***********************\n",
      "Classification Metrics:\n",
      "Precision: 0.9444\n",
      "AUC-ROC: 0.9975\n",
      "************************Feature importance***********************\n"
     ]
    },
    {
     "data": {
      "application/vnd.microsoft.datawrangler.viewer.v0+json": {
       "columns": [
        {
         "name": "index",
         "rawType": "int64",
         "type": "integer"
        },
        {
         "name": "Feature",
         "rawType": "object",
         "type": "string"
        },
        {
         "name": "Importance",
         "rawType": "float32",
         "type": "float"
        }
       ],
       "conversionMethod": "pd.DataFrame",
       "ref": "627d478a-48e7-4833-8308-1fa7e98800f9",
       "rows": [
        [
         "3",
         "data_flag",
         "0.8414383"
        ],
        [
         "0",
         "avg_data_before_upgrade",
         "0.12359211"
        ],
        [
         "4",
         "std_flag",
         "0.015442029"
        ],
        [
         "1",
         "std_before",
         "0.011291508"
        ],
        [
         "2",
         "total_recharge_before",
         "0.008236056"
        ],
        [
         "5",
         "recharge_flag",
         "0.0"
        ]
       ],
       "shape": {
        "columns": 2,
        "rows": 6
       }
      },
      "text/html": [
       "<div>\n",
       "<style scoped>\n",
       "    .dataframe tbody tr th:only-of-type {\n",
       "        vertical-align: middle;\n",
       "    }\n",
       "\n",
       "    .dataframe tbody tr th {\n",
       "        vertical-align: top;\n",
       "    }\n",
       "\n",
       "    .dataframe thead th {\n",
       "        text-align: right;\n",
       "    }\n",
       "</style>\n",
       "<table border=\"1\" class=\"dataframe\">\n",
       "  <thead>\n",
       "    <tr style=\"text-align: right;\">\n",
       "      <th></th>\n",
       "      <th>Feature</th>\n",
       "      <th>Importance</th>\n",
       "    </tr>\n",
       "  </thead>\n",
       "  <tbody>\n",
       "    <tr>\n",
       "      <th>3</th>\n",
       "      <td>data_flag</td>\n",
       "      <td>0.841438</td>\n",
       "    </tr>\n",
       "    <tr>\n",
       "      <th>0</th>\n",
       "      <td>avg_data_before_upgrade</td>\n",
       "      <td>0.123592</td>\n",
       "    </tr>\n",
       "    <tr>\n",
       "      <th>4</th>\n",
       "      <td>std_flag</td>\n",
       "      <td>0.015442</td>\n",
       "    </tr>\n",
       "    <tr>\n",
       "      <th>1</th>\n",
       "      <td>std_before</td>\n",
       "      <td>0.011292</td>\n",
       "    </tr>\n",
       "    <tr>\n",
       "      <th>2</th>\n",
       "      <td>total_recharge_before</td>\n",
       "      <td>0.008236</td>\n",
       "    </tr>\n",
       "    <tr>\n",
       "      <th>5</th>\n",
       "      <td>recharge_flag</td>\n",
       "      <td>0.000000</td>\n",
       "    </tr>\n",
       "  </tbody>\n",
       "</table>\n",
       "</div>"
      ],
      "text/plain": [
       "                   Feature  Importance\n",
       "3                data_flag    0.841438\n",
       "0  avg_data_before_upgrade    0.123592\n",
       "4                 std_flag    0.015442\n",
       "1               std_before    0.011292\n",
       "2    total_recharge_before    0.008236\n",
       "5            recharge_flag    0.000000"
      ]
     },
     "execution_count": 53,
     "metadata": {},
     "output_type": "execute_result"
    }
   ],
   "source": [
    "new_info = df\n",
    "\n",
    "increased_usage_model = XGBClassifier(\n",
    "    n_estimators=500,\n",
    "    max_depth=4,\n",
    "    learning_rate=0.3,\n",
    "    random_state=42,\n",
    "    tree_method='hist',\n",
    "    enable_categorical=True,\n",
    ")\n",
    "\n",
    "increased_usage_model.fit(X_train, y_train)\n",
    "\n",
    "y_pred_xgb = increased_usage_model.predict(X_test)\n",
    "y_scores_xgb = increased_usage_model.predict_proba(X_test)[:, 1]\n",
    "\n",
    "y_train_pred_xgb = increased_usage_model.predict(X_train)\n",
    "y_train_score_xgb = increased_usage_model.predict_proba(X_train)[:, 1]\n",
    "\n",
    "print('************************Test metrics***********************')\n",
    "display_metrics(y_true=y_test, y_pred=y_pred_xgb, y_scores=y_scores_xgb)\n",
    "\n",
    "print('************************Train metrics***********************')\n",
    "display_metrics(y_true=y_train, y_pred=y_train_pred_xgb, y_scores=y_train_score_xgb)\n",
    "\n",
    "print('************************Feature importance***********************')\n",
    "importances_xgb = increased_usage_model.feature_importances_\n",
    "feature_names_xgb = X.columns\n",
    "feature_importance_df_xgb = pd.DataFrame({'Feature': feature_names_xgb, 'Importance': importances_xgb})\n",
    "feature_importance_df_xgb = feature_importance_df_xgb.sort_values(by='Importance', ascending=False)\n",
    "feature_importance_df_xgb"
   ]
  },
  {
   "cell_type": "code",
   "execution_count": 54,
   "id": "21adf540",
   "metadata": {},
   "outputs": [
    {
     "data": {
      "text/plain": [
       "<Axes: title={'center': 'Feature importance'}, xlabel='Importance score', ylabel='Features'>"
      ]
     },
     "execution_count": 54,
     "metadata": {},
     "output_type": "execute_result"
    },
    {
     "data": {
      "image/png": "[encoded data removed]",
      "text/plain": [
       "<Figure size 640x480 with 1 Axes>"
      ]
     },
     "metadata": {},
     "output_type": "display_data"
    }
   ],
   "source": [
    "xgb.plot_importance(importance_type='gain', booster=increased_usage_model)"
   ]
  },
  {
   "cell_type": "code",
   "execution_count": 55,
   "id": "f687ddda",
   "metadata": {},
   "outputs": [
    {
     "data": {
      "application/vnd.microsoft.datawrangler.viewer.v0+json": {
       "columns": [
        {
         "name": "index",
         "rawType": "int64",
         "type": "integer"
        },
        {
         "name": "user",
         "rawType": "int64",
         "type": "integer"
        },
        {
         "name": "avg_data_before_upgrade",
         "rawType": "float64",
         "type": "float"
        },
        {
         "name": "std_before",
         "rawType": "float64",
         "type": "float"
        },
        {
         "name": "total_recharge_before",
         "rawType": "float64",
         "type": "float"
        },
        {
         "name": "increased_usage",
         "rawType": "int64",
         "type": "integer"
        },
        {
         "name": "data_flag",
         "rawType": "int64",
         "type": "integer"
        },
        {
         "name": "std_flag",
         "rawType": "int64",
         "type": "integer"
        },
        {
         "name": "recharge_flag",
         "rawType": "int64",
         "type": "integer"
        },
        {
         "name": "upgrade_prob_confidence",
         "rawType": "float32",
         "type": "float"
        }
       ],
       "conversionMethod": "pd.DataFrame",
       "ref": "0b28f4ba-c243-4f0f-8f8e-eb4c9c622242",
       "rows": [
        [
         "0",
         "225798700001",
         "156802.99",
         "0.0",
         "113.47",
         "1",
         "0",
         "1",
         "0",
         "0.95"
        ],
        [
         "1",
         "225798700012",
         "88923.625",
         "125756.9964903792",
         "124.37",
         "1",
         "0",
         "0",
         "0",
         "0.96"
        ],
        [
         "2",
         "225798700014",
         "0.0",
         "0.0",
         "0.0",
         "0",
         "1",
         "1",
         "1",
         "0.0"
        ],
        [
         "3",
         "225798700016",
         "152250.54",
         "141042.18388176968",
         "1885.47",
         "1",
         "0",
         "0",
         "0",
         "1.0"
        ],
        [
         "4",
         "225798700032",
         "0.0",
         "0.0",
         "0.0",
         "0",
         "1",
         "1",
         "1",
         "0.0"
        ],
        [
         "5",
         "225798700036",
         "297134.18",
         "0.0",
         "33.72",
         "1",
         "0",
         "1",
         "0",
         "0.85"
        ],
        [
         "6",
         "225798700037",
         "0.0",
         "0.0",
         "0.0",
         "0",
         "1",
         "1",
         "1",
         "0.0"
        ],
        [
         "7",
         "225798700040",
         "0.0",
         "0.0",
         "0.0",
         "0",
         "1",
         "1",
         "1",
         "0.0"
        ],
        [
         "8",
         "225798700046",
         "816601.31",
         "0.0",
         "279.67",
         "0",
         "0",
         "1",
         "0",
         "0.0"
        ],
        [
         "9",
         "225798700052",
         "414505.4266666667",
         "258341.811066926",
         "197.45",
         "0",
         "0",
         "0",
         "0",
         "0.09"
        ],
        [
         "10",
         "225798700065",
         "0.0",
         "0.0",
         "0.0",
         "0",
         "1",
         "1",
         "1",
         "0.0"
        ],
        [
         "11",
         "225798700068",
         "0.0",
         "0.0",
         "0.0",
         "0",
         "1",
         "1",
         "1",
         "0.0"
        ],
        [
         "12",
         "225798700073",
         "92537.3",
         "0.0",
         "161.33",
         "1",
         "0",
         "1",
         "0",
         "0.97"
        ],
        [
         "13",
         "225798700080",
         "444017.69",
         "0.0",
         "72.53",
         "0",
         "0",
         "1",
         "0",
         "0.03"
        ],
        [
         "14",
         "225798700081",
         "0.0",
         "0.0",
         "0.0",
         "0",
         "1",
         "1",
         "1",
         "0.0"
        ],
        [
         "15",
         "225798700085",
         "0.0",
         "0.0",
         "0.0",
         "0",
         "1",
         "1",
         "1",
         "0.0"
        ],
        [
         "16",
         "225798700091",
         "192103.9833333333",
         "183254.60717348344",
         "582.96",
         "0",
         "0",
         "0",
         "0",
         "0.77"
        ],
        [
         "17",
         "225798700096",
         "0.0",
         "0.0",
         "0.0",
         "0",
         "1",
         "1",
         "1",
         "0.0"
        ],
        [
         "18",
         "225798700098",
         "0.0",
         "0.0",
         "0.0",
         "0",
         "1",
         "1",
         "1",
         "0.0"
        ],
        [
         "19",
         "225798700099",
         "219190.945",
         "126085.82942790224",
         "408.88",
         "1",
         "0",
         "0",
         "0",
         "0.97"
        ],
        [
         "20",
         "225798700104",
         "0.0",
         "0.0",
         "0.0",
         "0",
         "1",
         "1",
         "1",
         "0.0"
        ],
        [
         "21",
         "225798700105",
         "0.0",
         "0.0",
         "0.0",
         "0",
         "1",
         "1",
         "1",
         "0.0"
        ],
        [
         "22",
         "225798700106",
         "346301.13",
         "0.0",
         "32.91",
         "0",
         "0",
         "1",
         "0",
         "0.05"
        ],
        [
         "23",
         "225798700114",
         "0.0",
         "0.0",
         "0.0",
         "0",
         "1",
         "1",
         "1",
         "0.0"
        ],
        [
         "24",
         "225798700122",
         "508867.7625",
         "512966.7052620433",
         "1350.36",
         "0",
         "0",
         "0",
         "0",
         "0.0"
        ],
        [
         "25",
         "225798700124",
         "0.0",
         "0.0",
         "0.0",
         "0",
         "1",
         "1",
         "1",
         "0.0"
        ],
        [
         "26",
         "225798700125",
         "185474.53",
         "0.0",
         "1387.98",
         "1",
         "0",
         "1",
         "0",
         "0.99"
        ],
        [
         "27",
         "225798700135",
         "1488208.6033333333",
         "1811160.4022375168",
         "267.82",
         "0",
         "0",
         "0",
         "0",
         "0.0"
        ],
        [
         "28",
         "225798700139",
         "168794.08000000002",
         "69653.2140695259",
         "3640.95",
         "1",
         "0",
         "0",
         "0",
         "1.0"
        ],
        [
         "29",
         "225798700143",
         "151317.39",
         "0.0",
         "131.92",
         "1",
         "0",
         "1",
         "0",
         "0.96"
        ],
        [
         "30",
         "225798700160",
         "0.0",
         "0.0",
         "0.0",
         "0",
         "1",
         "1",
         "1",
         "0.0"
        ],
        [
         "31",
         "225798700166",
         "0.0",
         "0.0",
         "0.0",
         "0",
         "1",
         "1",
         "1",
         "0.0"
        ],
        [
         "32",
         "225798700169",
         "82670.59",
         "0.0",
         "226.58",
         "1",
         "0",
         "1",
         "0",
         "0.99"
        ],
        [
         "33",
         "225798700171",
         "365659.1633333333",
         "127434.09918783524",
         "186.31",
         "0",
         "0",
         "0",
         "0",
         "0.07"
        ],
        [
         "34",
         "225798700180",
         "0.0",
         "0.0",
         "0.0",
         "0",
         "1",
         "1",
         "1",
         "0.0"
        ],
        [
         "35",
         "225798700184",
         "260116.7",
         "0.0",
         "94.17",
         "1",
         "0",
         "1",
         "0",
         "0.94"
        ],
        [
         "36",
         "225798700185",
         "91737.94666666666",
         "119179.70881221614",
         "289.56",
         "1",
         "0",
         "0",
         "0",
         "0.99"
        ],
        [
         "37",
         "225798700197",
         "2037237.4766666663",
         "3326266.695658982",
         "910.33",
         "0",
         "0",
         "0",
         "0",
         "0.0"
        ],
        [
         "38",
         "225798700201",
         "0.0",
         "0.0",
         "0.0",
         "0",
         "1",
         "1",
         "1",
         "0.0"
        ],
        [
         "39",
         "225798700202",
         "1961063.5233333327",
         "3026455.8902600287",
         "465.22",
         "0",
         "0",
         "0",
         "0",
         "0.0"
        ],
        [
         "40",
         "225798700203",
         "0.0",
         "0.0",
         "0.0",
         "0",
         "1",
         "1",
         "1",
         "0.0"
        ],
        [
         "41",
         "225798700205",
         "0.0",
         "0.0",
         "0.0",
         "0",
         "1",
         "1",
         "1",
         "0.0"
        ],
        [
         "42",
         "225798700206",
         "173976.02",
         "0.0",
         "378.57",
         "1",
         "0",
         "1",
         "0",
         "0.97"
        ],
        [
         "43",
         "225798700212",
         "216623.69",
         "0.0",
         "402.64",
         "1",
         "0",
         "1",
         "0",
         "0.88"
        ],
        [
         "44",
         "225798700225",
         "0.0",
         "0.0",
         "0.0",
         "0",
         "1",
         "1",
         "1",
         "0.0"
        ],
        [
         "45",
         "225798700227",
         "0.0",
         "0.0",
         "0.0",
         "0",
         "1",
         "1",
         "1",
         "0.0"
        ],
        [
         "46",
         "225798700236",
         "240990.34000000003",
         "53620.34562358024",
         "536.8082606645548",
         "1",
         "0",
         "0",
         "0",
         "0.99"
        ],
        [
         "47",
         "225798700239",
         "0.0",
         "0.0",
         "0.0",
         "0",
         "1",
         "1",
         "1",
         "0.0"
        ],
        [
         "48",
         "225798700241",
         "0.0",
         "0.0",
         "0.0",
         "0",
         "1",
         "1",
         "1",
         "0.0"
        ],
        [
         "49",
         "225798700242",
         "48672.07",
         "0.0",
         "820.29",
         "1",
         "0",
         "1",
         "0",
         "1.0"
        ]
       ],
       "shape": {
        "columns": 9,
        "rows": 20042
       }
      },
      "text/html": [
       "<div>\n",
       "<style scoped>\n",
       "    .dataframe tbody tr th:only-of-type {\n",
       "        vertical-align: middle;\n",
       "    }\n",
       "\n",
       "    .dataframe tbody tr th {\n",
       "        vertical-align: top;\n",
       "    }\n",
       "\n",
       "    .dataframe thead th {\n",
       "        text-align: right;\n",
       "    }\n",
       "</style>\n",
       "<table border=\"1\" class=\"dataframe\">\n",
       "  <thead>\n",
       "    <tr style=\"text-align: right;\">\n",
       "      <th></th>\n",
       "      <th>user</th>\n",
       "      <th>avg_data_before_upgrade</th>\n",
       "      <th>std_before</th>\n",
       "      <th>total_recharge_before</th>\n",
       "      <th>increased_usage</th>\n",
       "      <th>data_flag</th>\n",
       "      <th>std_flag</th>\n",
       "      <th>recharge_flag</th>\n",
       "      <th>upgrade_prob_confidence</th>\n",
       "    </tr>\n",
       "  </thead>\n",
       "  <tbody>\n",
       "    <tr>\n",
       "      <th>0</th>\n",
       "      <td>225798700001</td>\n",
       "      <td>156802.990</td>\n",
       "      <td>0.000000e+00</td>\n",
       "      <td>113.47</td>\n",
       "      <td>1</td>\n",
       "      <td>0</td>\n",
       "      <td>1</td>\n",
       "      <td>0</td>\n",
       "      <td>0.95</td>\n",
       "    </tr>\n",
       "    <tr>\n",
       "      <th>1</th>\n",
       "      <td>225798700012</td>\n",
       "      <td>88923.625</td>\n",
       "      <td>1.257570e+05</td>\n",
       "      <td>124.37</td>\n",
       "      <td>1</td>\n",
       "      <td>0</td>\n",
       "      <td>0</td>\n",
       "      <td>0</td>\n",
       "      <td>0.96</td>\n",
       "    </tr>\n",
       "    <tr>\n",
       "      <th>2</th>\n",
       "      <td>225798700014</td>\n",
       "      <td>0.000</td>\n",
       "      <td>0.000000e+00</td>\n",
       "      <td>0.00</td>\n",
       "      <td>0</td>\n",
       "      <td>1</td>\n",
       "      <td>1</td>\n",
       "      <td>1</td>\n",
       "      <td>0.00</td>\n",
       "    </tr>\n",
       "    <tr>\n",
       "      <th>3</th>\n",
       "      <td>225798700016</td>\n",
       "      <td>152250.540</td>\n",
       "      <td>1.410422e+05</td>\n",
       "      <td>1885.47</td>\n",
       "      <td>1</td>\n",
       "      <td>0</td>\n",
       "      <td>0</td>\n",
       "      <td>0</td>\n",
       "      <td>1.00</td>\n",
       "    </tr>\n",
       "    <tr>\n",
       "      <th>4</th>\n",
       "      <td>225798700032</td>\n",
       "      <td>0.000</td>\n",
       "      <td>0.000000e+00</td>\n",
       "      <td>0.00</td>\n",
       "      <td>0</td>\n",
       "      <td>1</td>\n",
       "      <td>1</td>\n",
       "      <td>1</td>\n",
       "      <td>0.00</td>\n",
       "    </tr>\n",
       "    <tr>\n",
       "      <th>...</th>\n",
       "      <td>...</td>\n",
       "      <td>...</td>\n",
       "      <td>...</td>\n",
       "      <td>...</td>\n",
       "      <td>...</td>\n",
       "      <td>...</td>\n",
       "      <td>...</td>\n",
       "      <td>...</td>\n",
       "      <td>...</td>\n",
       "    </tr>\n",
       "    <tr>\n",
       "      <th>20037</th>\n",
       "      <td>225798799970</td>\n",
       "      <td>0.000</td>\n",
       "      <td>0.000000e+00</td>\n",
       "      <td>0.00</td>\n",
       "      <td>0</td>\n",
       "      <td>1</td>\n",
       "      <td>1</td>\n",
       "      <td>1</td>\n",
       "      <td>0.00</td>\n",
       "    </tr>\n",
       "    <tr>\n",
       "      <th>20038</th>\n",
       "      <td>225798799973</td>\n",
       "      <td>0.000</td>\n",
       "      <td>0.000000e+00</td>\n",
       "      <td>0.00</td>\n",
       "      <td>0</td>\n",
       "      <td>1</td>\n",
       "      <td>1</td>\n",
       "      <td>1</td>\n",
       "      <td>0.00</td>\n",
       "    </tr>\n",
       "    <tr>\n",
       "      <th>20039</th>\n",
       "      <td>225798799975</td>\n",
       "      <td>0.000</td>\n",
       "      <td>0.000000e+00</td>\n",
       "      <td>0.00</td>\n",
       "      <td>0</td>\n",
       "      <td>1</td>\n",
       "      <td>1</td>\n",
       "      <td>1</td>\n",
       "      <td>0.00</td>\n",
       "    </tr>\n",
       "    <tr>\n",
       "      <th>20040</th>\n",
       "      <td>225798799979</td>\n",
       "      <td>1173618.430</td>\n",
       "      <td>1.912685e+06</td>\n",
       "      <td>695.60</td>\n",
       "      <td>0</td>\n",
       "      <td>0</td>\n",
       "      <td>0</td>\n",
       "      <td>0</td>\n",
       "      <td>0.00</td>\n",
       "    </tr>\n",
       "    <tr>\n",
       "      <th>20041</th>\n",
       "      <td>225798799982</td>\n",
       "      <td>0.000</td>\n",
       "      <td>0.000000e+00</td>\n",
       "      <td>0.00</td>\n",
       "      <td>0</td>\n",
       "      <td>1</td>\n",
       "      <td>1</td>\n",
       "      <td>1</td>\n",
       "      <td>0.00</td>\n",
       "    </tr>\n",
       "  </tbody>\n",
       "</table>\n",
       "<p>20042 rows × 9 columns</p>\n",
       "</div>"
      ],
      "text/plain": [
       "               user  avg_data_before_upgrade    std_before  \\\n",
       "0      225798700001               156802.990  0.000000e+00   \n",
       "1      225798700012                88923.625  1.257570e+05   \n",
       "2      225798700014                    0.000  0.000000e+00   \n",
       "3      225798700016               152250.540  1.410422e+05   \n",
       "4      225798700032                    0.000  0.000000e+00   \n",
       "...             ...                      ...           ...   \n",
       "20037  225798799970                    0.000  0.000000e+00   \n",
       "20038  225798799973                    0.000  0.000000e+00   \n",
       "20039  225798799975                    0.000  0.000000e+00   \n",
       "20040  225798799979              1173618.430  1.912685e+06   \n",
       "20041  225798799982                    0.000  0.000000e+00   \n",
       "\n",
       "       total_recharge_before  increased_usage  data_flag  std_flag  \\\n",
       "0                     113.47                1          0         1   \n",
       "1                     124.37                1          0         0   \n",
       "2                       0.00                0          1         1   \n",
       "3                    1885.47                1          0         0   \n",
       "4                       0.00                0          1         1   \n",
       "...                      ...              ...        ...       ...   \n",
       "20037                   0.00                0          1         1   \n",
       "20038                   0.00                0          1         1   \n",
       "20039                   0.00                0          1         1   \n",
       "20040                 695.60                0          0         0   \n",
       "20041                   0.00                0          1         1   \n",
       "\n",
       "       recharge_flag  upgrade_prob_confidence  \n",
       "0                  0                     0.95  \n",
       "1                  0                     0.96  \n",
       "2                  1                     0.00  \n",
       "3                  0                     1.00  \n",
       "4                  1                     0.00  \n",
       "...              ...                      ...  \n",
       "20037              1                     0.00  \n",
       "20038              1                     0.00  \n",
       "20039              1                     0.00  \n",
       "20040              0                     0.00  \n",
       "20041              1                     0.00  \n",
       "\n",
       "[20042 rows x 9 columns]"
      ]
     },
     "execution_count": 55,
     "metadata": {},
     "output_type": "execute_result"
    }
   ],
   "source": [
    "X_all = pd.concat([X_train, X_test])\n",
    "probs_all = np.concatenate((y_train_score_xgb, y_scores_xgb))\n",
    "\n",
    "X_all['upgrade_prob_confidence'] = np.round(probs_all, 2)\n",
    "\n",
    "X_all = X_all.sort_index()\n",
    "df = df.sort_index()\n",
    "df['upgrade_prob_confidence'] = np.round(X_all['upgrade_prob_confidence'], 2)\n",
    "df"
   ]
  },
  {
   "cell_type": "code",
   "execution_count": 56,
   "id": "ceeae66b",
   "metadata": {},
   "outputs": [
    {
     "data": {
      "application/vnd.microsoft.datawrangler.viewer.v0+json": {
       "columns": [
        {
         "name": "index",
         "rawType": "int64",
         "type": "integer"
        },
        {
         "name": "user",
         "rawType": "int64",
         "type": "integer"
        },
        {
         "name": "avg_data_before_upgrade",
         "rawType": "float64",
         "type": "float"
        },
        {
         "name": "std_before",
         "rawType": "float64",
         "type": "float"
        },
        {
         "name": "total_recharge_before",
         "rawType": "float64",
         "type": "float"
        },
        {
         "name": "avg_data_after_upgrade",
         "rawType": "float64",
         "type": "float"
        },
        {
         "name": "std_after",
         "rawType": "float64",
         "type": "float"
        },
        {
         "name": "total_recharge_after",
         "rawType": "float64",
         "type": "float"
        },
        {
         "name": "days_active_after",
         "rawType": "int64",
         "type": "integer"
        },
        {
         "name": "time_to_first_data_use",
         "rawType": "float64",
         "type": "float"
        },
        {
         "name": "recharge_growth",
         "rawType": "float64",
         "type": "float"
        },
        {
         "name": "increased_usage",
         "rawType": "int64",
         "type": "integer"
        },
        {
         "name": "user_segment",
         "rawType": "object",
         "type": "string"
        }
       ],
       "conversionMethod": "pd.DataFrame",
       "ref": "86735f44-6f0e-4217-8013-311aaec8ba46",
       "rows": [
        [
         "0",
         "225798700001",
         "156802.99",
         null,
         "113.47",
         "406223.96",
         "645813.623179855",
         "7574.878260664555",
         "27",
         "0.0",
         "7461.408260664554",
         "1",
         "medium"
        ],
        [
         "1",
         "225798700012",
         "88923.625",
         "125756.9964903792",
         "124.37",
         "471228.7411111111",
         "612422.558415557",
         "14863.328260664555",
         "53",
         "0.0",
         "14738.958260664554",
         "1",
         "medium"
        ],
        [
         "2",
         "225798700014",
         null,
         null,
         null,
         "669976.7740425533",
         "1080963.0232362633",
         "15855.988260664555",
         "45",
         "0.0",
         null,
         "0",
         "high"
        ],
        [
         "3",
         "225798700016",
         "152250.54",
         "141042.18388176968",
         "1885.47",
         "783516.9141666667",
         "1818749.3178107624",
         "8418.27",
         "23",
         "0.0",
         "6532.8",
         "1",
         "high"
        ],
        [
         "4",
         "225798700032",
         null,
         null,
         null,
         "458873.0722807018",
         "579248.6005926795",
         "10687.68",
         "56",
         "0.0",
         null,
         "0",
         "medium"
        ],
        [
         "5",
         "225798700036",
         "297134.18",
         null,
         "33.72",
         "753775.8592857143",
         "1238456.770950772",
         "13799.48",
         "41",
         "0.0",
         "13765.76",
         "1",
         "high"
        ],
        [
         "6",
         "225798700037",
         null,
         null,
         null,
         "477189.05270833336",
         "728082.4656987588",
         "19026.26",
         "46",
         "0.0",
         null,
         "0",
         "medium"
        ],
        [
         "7",
         "225798700040",
         null,
         null,
         null,
         "769780.9582352941",
         "1384139.5709175717",
         "10491.41",
         "46",
         "0.0",
         null,
         "0",
         "high"
        ],
        [
         "8",
         "225798700046",
         "816601.31",
         null,
         "279.67",
         "447680.28050847456",
         "455044.7749648782",
         "15431.78",
         "54",
         "0.0",
         "15152.11",
         "0",
         "medium"
        ],
        [
         "9",
         "225798700052",
         "414505.4266666667",
         "258341.811066926",
         "197.45",
         "518675.37227272725",
         "536317.0914287673",
         "4690.16",
         "21",
         "0.0",
         "4492.71",
         "0",
         "medium"
        ],
        [
         "10",
         "225798700065",
         null,
         null,
         null,
         "462345.55828571424",
         "576297.9676649652",
         "16131.416521329107",
         "68",
         "0.0",
         null,
         "0",
         "medium"
        ],
        [
         "11",
         "225798700068",
         null,
         null,
         null,
         "344375.68239130435",
         "398581.7351743594",
         "12520.14",
         "44",
         "0.0",
         null,
         "0",
         "low"
        ],
        [
         "12",
         "225798700073",
         "92537.3",
         null,
         "161.33",
         "445538.862",
         "690938.8334790366",
         "10653.08",
         "29",
         "0.0",
         "10491.75",
         "1",
         "medium"
        ],
        [
         "13",
         "225798700080",
         "444017.69",
         null,
         "72.53",
         "367340.8007462687",
         "397143.3738020518",
         "19400.68",
         "59",
         "0.0",
         "19328.15",
         "0",
         "low"
        ],
        [
         "14",
         "225798700081",
         null,
         null,
         null,
         "1425229.57375",
         "2535381.2061906406",
         "2748.92",
         "15",
         "0.0",
         null,
         "0",
         "high"
        ],
        [
         "15",
         "225798700085",
         null,
         null,
         null,
         "538468.7261904762",
         "956974.7035816046",
         "10813.88",
         "38",
         "0.0",
         null,
         "0",
         "medium"
        ],
        [
         "16",
         "225798700091",
         "192103.9833333333",
         "183254.60717348344",
         "582.96",
         "277617.56",
         "304297.5298403156",
         "13078.36",
         "15",
         "6.0",
         "12495.4",
         "0",
         "low"
        ],
        [
         "17",
         "225798700096",
         null,
         null,
         null,
         "358514.19403846154",
         "442745.6671492651",
         "19979.75",
         "50",
         "0.0",
         null,
         "0",
         "low"
        ],
        [
         "18",
         "225798700098",
         null,
         null,
         null,
         "569805.4866666667",
         "792864.0678894789",
         "13866.96",
         "44",
         "0.0",
         null,
         "0",
         "medium"
        ],
        [
         "19",
         "225798700099",
         "219190.945",
         "126085.82942790224",
         "408.88",
         "444497.84",
         "586871.1168875266",
         "12805.53",
         "37",
         "0.0",
         "12396.65",
         "1",
         "medium"
        ],
        [
         "20",
         "225798700104",
         null,
         null,
         null,
         "13677.533333333333",
         "56064.59489576105",
         "7561.74",
         "2",
         "0.0",
         null,
         "0",
         "low"
        ],
        [
         "21",
         "225798700105",
         null,
         null,
         null,
         "540940.6187179487",
         "658224.6548392603",
         "9145.3",
         "37",
         "0.0",
         null,
         "0",
         "medium"
        ],
        [
         "22",
         "225798700106",
         "346301.13",
         null,
         "32.91",
         "511573.2362162162",
         "528849.0229497479",
         "10751.68",
         "35",
         "0.0",
         "10718.77",
         "0",
         "medium"
        ],
        [
         "23",
         "225798700114",
         null,
         null,
         null,
         "472596.3504347826",
         "843251.9633781466",
         "21830.878260664555",
         "63",
         "0.0",
         null,
         "0",
         "medium"
        ],
        [
         "24",
         "225798700122",
         "508867.7625",
         "512966.7052620433",
         "1350.36",
         "329647.28294117644",
         "343774.74212375656",
         "3520.08",
         "15",
         "0.0",
         "2169.72",
         "0",
         "low"
        ],
        [
         "25",
         "225798700124",
         null,
         null,
         null,
         "369945.9782089552",
         "378652.31545706297",
         "21513.26",
         "65",
         "0.0",
         null,
         "0",
         "low"
        ],
        [
         "26",
         "225798700125",
         "185474.53",
         null,
         "1387.98",
         "545954.1145454545",
         "1173913.1275593108",
         "11171.66",
         "40",
         "0.0",
         "9783.68",
         "1",
         "medium"
        ],
        [
         "27",
         "225798700135",
         "1488208.6033333333",
         "1811160.4022375168",
         "267.82",
         "464576.4108163265",
         "886203.7573167155",
         "20865.47826066456",
         "45",
         "0.0",
         "20597.65826066456",
         "0",
         "medium"
        ],
        [
         "28",
         "225798700139",
         "168794.08000000002",
         "69653.2140695259",
         "3640.95",
         "752878.8433870968",
         "1456712.1178496075",
         "27739.62",
         "61",
         "0.0",
         "24098.67",
         "1",
         "high"
        ],
        [
         "29",
         "225798700143",
         "151317.39",
         null,
         "131.92",
         "467171.1928571428",
         "533291.0652005541",
         "7858.45",
         "35",
         "0.0",
         "7726.53",
         "1",
         "medium"
        ],
        [
         "30",
         "225798700160",
         null,
         null,
         null,
         "567491.1130508474",
         "1173621.4278278516",
         "17006.66",
         "57",
         "0.0",
         null,
         "0",
         "medium"
        ],
        [
         "31",
         "225798700166",
         null,
         null,
         null,
         "556838.7984210526",
         "903611.2373438922",
         "22334.79",
         "52",
         "0.0",
         null,
         "0",
         "medium"
        ],
        [
         "32",
         "225798700169",
         "82670.59",
         null,
         "226.58",
         "504120.75934782607",
         "655562.7363115037",
         "26726.23",
         "44",
         "0.0",
         "26499.65",
         "1",
         "medium"
        ],
        [
         "33",
         "225798700171",
         "365659.1633333333",
         "127434.09918783524",
         "186.31",
         "446622.3022222223",
         "616184.9336897153",
         "7845.900000000001",
         "39",
         "1.0",
         "7659.59",
         "0",
         "medium"
        ],
        [
         "34",
         "225798700180",
         null,
         null,
         null,
         "610168.384385965",
         "874642.2459305059",
         "17325.02",
         "52",
         "0.0",
         null,
         "0",
         "high"
        ],
        [
         "35",
         "225798700184",
         "260116.7",
         null,
         "94.17",
         "487706.0134545454",
         "603122.7343165714",
         "16195.97",
         "50",
         "0.0",
         "16101.8",
         "1",
         "medium"
        ],
        [
         "36",
         "225798700185",
         "91737.94666666666",
         "119179.70881221614",
         "289.56",
         "498498.306122449",
         "1143729.2834209166",
         "20615.128260664555",
         "46",
         "0.0",
         "20325.56826066456",
         "1",
         "medium"
        ],
        [
         "37",
         "225798700197",
         "2037237.4766666663",
         "3326266.695658982",
         "910.33",
         "671105.8332653061",
         "1204807.8925903365",
         "15097.32",
         "47",
         "0.0",
         "14186.99",
         "0",
         "high"
        ],
        [
         "38",
         "225798700201",
         null,
         null,
         null,
         "290227.15629629634",
         "345050.1399150155",
         "7431.92",
         "25",
         "0.0",
         null,
         "0",
         "low"
        ],
        [
         "39",
         "225798700202",
         "1961063.5233333327",
         "3026455.8902600287",
         "465.22",
         "676214.7114705882",
         "1349815.2913187472",
         "21588.87",
         "63",
         "0.0",
         "21123.65",
         "0",
         "high"
        ],
        [
         "40",
         "225798700203",
         null,
         null,
         null,
         "532777.253",
         "1014891.3862822216",
         "7208.5",
         "20",
         "0.0",
         null,
         "0",
         "medium"
        ],
        [
         "41",
         "225798700205",
         null,
         null,
         null,
         "506635.8721666666",
         "695236.3315371814",
         "19668.9",
         "56",
         "0.0",
         null,
         "0",
         "medium"
        ],
        [
         "42",
         "225798700206",
         "173976.02",
         null,
         "378.57",
         "515214.3772093023",
         "695015.6478852192",
         "14862.87",
         "42",
         "0.0",
         "14484.3",
         "1",
         "medium"
        ],
        [
         "43",
         "225798700212",
         "216623.69",
         null,
         "402.64",
         "548780.2876811594",
         "987792.9401261456",
         "17141.18",
         "62",
         "0.0",
         "16738.54",
         "1",
         "medium"
        ],
        [
         "44",
         "225798700225",
         null,
         null,
         null,
         "626985.2963934425",
         "839223.2700740183",
         "27807.29",
         "59",
         "0.0",
         null,
         "0",
         "high"
        ],
        [
         "45",
         "225798700227",
         null,
         null,
         null,
         "502322.6777777778",
         "894049.5130000655",
         "7773.38",
         "25",
         "0.0",
         null,
         "0",
         "medium"
        ],
        [
         "46",
         "225798700236",
         "240990.34000000003",
         "53620.34562358024",
         "536.8082606645548",
         "375679.8196",
         "400099.9714211583",
         "9986.82",
         "48",
         "0.0",
         "9450.011739335445",
         "1",
         "low"
        ],
        [
         "47",
         "225798700239",
         null,
         null,
         null,
         "371725.92935483874",
         "605462.8861330977",
         "10454.1",
         "28",
         "0.0",
         null,
         "0",
         "low"
        ],
        [
         "48",
         "225798700241",
         null,
         null,
         null,
         "653307.5078846153",
         "1190578.0049977573",
         "15510.188260664556",
         "49",
         "0.0",
         null,
         "0",
         "high"
        ],
        [
         "49",
         "225798700242",
         "48672.07",
         null,
         "820.29",
         "442353.5905555556",
         "533575.3422280842",
         "20081.76826066456",
         "53",
         "0.0",
         "19261.47826066456",
         "1",
         "medium"
        ]
       ],
       "shape": {
        "columns": 12,
        "rows": 20042
       }
      },
      "text/html": [
       "<div>\n",
       "<style scoped>\n",
       "    .dataframe tbody tr th:only-of-type {\n",
       "        vertical-align: middle;\n",
       "    }\n",
       "\n",
       "    .dataframe tbody tr th {\n",
       "        vertical-align: top;\n",
       "    }\n",
       "\n",
       "    .dataframe thead th {\n",
       "        text-align: right;\n",
       "    }\n",
       "</style>\n",
       "<table border=\"1\" class=\"dataframe\">\n",
       "  <thead>\n",
       "    <tr style=\"text-align: right;\">\n",
       "      <th></th>\n",
       "      <th>user</th>\n",
       "      <th>avg_data_before_upgrade</th>\n",
       "      <th>std_before</th>\n",
       "      <th>total_recharge_before</th>\n",
       "      <th>avg_data_after_upgrade</th>\n",
       "      <th>std_after</th>\n",
       "      <th>total_recharge_after</th>\n",
       "      <th>days_active_after</th>\n",
       "      <th>time_to_first_data_use</th>\n",
       "      <th>recharge_growth</th>\n",
       "      <th>increased_usage</th>\n",
       "      <th>user_segment</th>\n",
       "    </tr>\n",
       "  </thead>\n",
       "  <tbody>\n",
       "    <tr>\n",
       "      <th>0</th>\n",
       "      <td>225798700001</td>\n",
       "      <td>156802.990</td>\n",
       "      <td>NaN</td>\n",
       "      <td>113.47</td>\n",
       "      <td>406223.960000</td>\n",
       "      <td>6.458136e+05</td>\n",
       "      <td>7574.878261</td>\n",
       "      <td>27</td>\n",
       "      <td>0.0</td>\n",
       "      <td>7461.408261</td>\n",
       "      <td>1</td>\n",
       "      <td>medium</td>\n",
       "    </tr>\n",
       "    <tr>\n",
       "      <th>1</th>\n",
       "      <td>225798700012</td>\n",
       "      <td>88923.625</td>\n",
       "      <td>1.257570e+05</td>\n",
       "      <td>124.37</td>\n",
       "      <td>471228.741111</td>\n",
       "      <td>6.124226e+05</td>\n",
       "      <td>14863.328261</td>\n",
       "      <td>53</td>\n",
       "      <td>0.0</td>\n",
       "      <td>14738.958261</td>\n",
       "      <td>1</td>\n",
       "      <td>medium</td>\n",
       "    </tr>\n",
       "    <tr>\n",
       "      <th>2</th>\n",
       "      <td>225798700014</td>\n",
       "      <td>NaN</td>\n",
       "      <td>NaN</td>\n",
       "      <td>NaN</td>\n",
       "      <td>669976.774043</td>\n",
       "      <td>1.080963e+06</td>\n",
       "      <td>15855.988261</td>\n",
       "      <td>45</td>\n",
       "      <td>0.0</td>\n",
       "      <td>NaN</td>\n",
       "      <td>0</td>\n",
       "      <td>high</td>\n",
       "    </tr>\n",
       "    <tr>\n",
       "      <th>3</th>\n",
       "      <td>225798700016</td>\n",
       "      <td>152250.540</td>\n",
       "      <td>1.410422e+05</td>\n",
       "      <td>1885.47</td>\n",
       "      <td>783516.914167</td>\n",
       "      <td>1.818749e+06</td>\n",
       "      <td>8418.270000</td>\n",
       "      <td>23</td>\n",
       "      <td>0.0</td>\n",
       "      <td>6532.800000</td>\n",
       "      <td>1</td>\n",
       "      <td>high</td>\n",
       "    </tr>\n",
       "    <tr>\n",
       "      <th>4</th>\n",
       "      <td>225798700032</td>\n",
       "      <td>NaN</td>\n",
       "      <td>NaN</td>\n",
       "      <td>NaN</td>\n",
       "      <td>458873.072281</td>\n",
       "      <td>5.792486e+05</td>\n",
       "      <td>10687.680000</td>\n",
       "      <td>56</td>\n",
       "      <td>0.0</td>\n",
       "      <td>NaN</td>\n",
       "      <td>0</td>\n",
       "      <td>medium</td>\n",
       "    </tr>\n",
       "    <tr>\n",
       "      <th>...</th>\n",
       "      <td>...</td>\n",
       "      <td>...</td>\n",
       "      <td>...</td>\n",
       "      <td>...</td>\n",
       "      <td>...</td>\n",
       "      <td>...</td>\n",
       "      <td>...</td>\n",
       "      <td>...</td>\n",
       "      <td>...</td>\n",
       "      <td>...</td>\n",
       "      <td>...</td>\n",
       "      <td>...</td>\n",
       "    </tr>\n",
       "    <tr>\n",
       "      <th>20037</th>\n",
       "      <td>225798799970</td>\n",
       "      <td>NaN</td>\n",
       "      <td>NaN</td>\n",
       "      <td>NaN</td>\n",
       "      <td>482788.041754</td>\n",
       "      <td>5.581332e+05</td>\n",
       "      <td>22801.180000</td>\n",
       "      <td>53</td>\n",
       "      <td>0.0</td>\n",
       "      <td>NaN</td>\n",
       "      <td>0</td>\n",
       "      <td>medium</td>\n",
       "    </tr>\n",
       "    <tr>\n",
       "      <th>20038</th>\n",
       "      <td>225798799973</td>\n",
       "      <td>NaN</td>\n",
       "      <td>NaN</td>\n",
       "      <td>NaN</td>\n",
       "      <td>590683.082712</td>\n",
       "      <td>8.320416e+05</td>\n",
       "      <td>22487.620000</td>\n",
       "      <td>54</td>\n",
       "      <td>0.0</td>\n",
       "      <td>NaN</td>\n",
       "      <td>0</td>\n",
       "      <td>high</td>\n",
       "    </tr>\n",
       "    <tr>\n",
       "      <th>20039</th>\n",
       "      <td>225798799975</td>\n",
       "      <td>NaN</td>\n",
       "      <td>NaN</td>\n",
       "      <td>NaN</td>\n",
       "      <td>546710.570682</td>\n",
       "      <td>1.131976e+06</td>\n",
       "      <td>13216.378261</td>\n",
       "      <td>41</td>\n",
       "      <td>0.0</td>\n",
       "      <td>NaN</td>\n",
       "      <td>0</td>\n",
       "      <td>medium</td>\n",
       "    </tr>\n",
       "    <tr>\n",
       "      <th>20040</th>\n",
       "      <td>225798799979</td>\n",
       "      <td>1173618.430</td>\n",
       "      <td>1.912685e+06</td>\n",
       "      <td>695.60</td>\n",
       "      <td>458191.267143</td>\n",
       "      <td>5.487318e+05</td>\n",
       "      <td>5562.990000</td>\n",
       "      <td>13</td>\n",
       "      <td>0.0</td>\n",
       "      <td>4867.390000</td>\n",
       "      <td>0</td>\n",
       "      <td>medium</td>\n",
       "    </tr>\n",
       "    <tr>\n",
       "      <th>20041</th>\n",
       "      <td>225798799982</td>\n",
       "      <td>NaN</td>\n",
       "      <td>NaN</td>\n",
       "      <td>NaN</td>\n",
       "      <td>643779.850517</td>\n",
       "      <td>1.169866e+06</td>\n",
       "      <td>13957.480000</td>\n",
       "      <td>54</td>\n",
       "      <td>0.0</td>\n",
       "      <td>NaN</td>\n",
       "      <td>0</td>\n",
       "      <td>high</td>\n",
       "    </tr>\n",
       "  </tbody>\n",
       "</table>\n",
       "<p>20042 rows × 12 columns</p>\n",
       "</div>"
      ],
      "text/plain": [
       "               user  avg_data_before_upgrade    std_before  \\\n",
       "0      225798700001               156802.990           NaN   \n",
       "1      225798700012                88923.625  1.257570e+05   \n",
       "2      225798700014                      NaN           NaN   \n",
       "3      225798700016               152250.540  1.410422e+05   \n",
       "4      225798700032                      NaN           NaN   \n",
       "...             ...                      ...           ...   \n",
       "20037  225798799970                      NaN           NaN   \n",
       "20038  225798799973                      NaN           NaN   \n",
       "20039  225798799975                      NaN           NaN   \n",
       "20040  225798799979              1173618.430  1.912685e+06   \n",
       "20041  225798799982                      NaN           NaN   \n",
       "\n",
       "       total_recharge_before  avg_data_after_upgrade     std_after  \\\n",
       "0                     113.47           406223.960000  6.458136e+05   \n",
       "1                     124.37           471228.741111  6.124226e+05   \n",
       "2                        NaN           669976.774043  1.080963e+06   \n",
       "3                    1885.47           783516.914167  1.818749e+06   \n",
       "4                        NaN           458873.072281  5.792486e+05   \n",
       "...                      ...                     ...           ...   \n",
       "20037                    NaN           482788.041754  5.581332e+05   \n",
       "20038                    NaN           590683.082712  8.320416e+05   \n",
       "20039                    NaN           546710.570682  1.131976e+06   \n",
       "20040                 695.60           458191.267143  5.487318e+05   \n",
       "20041                    NaN           643779.850517  1.169866e+06   \n",
       "\n",
       "       total_recharge_after  days_active_after  time_to_first_data_use  \\\n",
       "0               7574.878261                 27                     0.0   \n",
       "1              14863.328261                 53                     0.0   \n",
       "2              15855.988261                 45                     0.0   \n",
       "3               8418.270000                 23                     0.0   \n",
       "4              10687.680000                 56                     0.0   \n",
       "...                     ...                ...                     ...   \n",
       "20037          22801.180000                 53                     0.0   \n",
       "20038          22487.620000                 54                     0.0   \n",
       "20039          13216.378261                 41                     0.0   \n",
       "20040           5562.990000                 13                     0.0   \n",
       "20041          13957.480000                 54                     0.0   \n",
       "\n",
       "       recharge_growth  increased_usage user_segment  \n",
       "0          7461.408261                1       medium  \n",
       "1         14738.958261                1       medium  \n",
       "2                  NaN                0         high  \n",
       "3          6532.800000                1         high  \n",
       "4                  NaN                0       medium  \n",
       "...                ...              ...          ...  \n",
       "20037              NaN                0       medium  \n",
       "20038              NaN                0         high  \n",
       "20039              NaN                0       medium  \n",
       "20040      4867.390000                0       medium  \n",
       "20041              NaN                0         high  \n",
       "\n",
       "[20042 rows x 12 columns]"
      ]
     },
     "execution_count": 56,
     "metadata": {},
     "output_type": "execute_result"
    }
   ],
   "source": [
    "df_init"
   ]
  },
  {
   "cell_type": "markdown",
   "id": "cf8f3f93",
   "metadata": {},
   "source": [
    "## Avg_data_after_upgrade predictions"
   ]
  },
  {
   "cell_type": "code",
   "execution_count": 57,
   "id": "cc74665a",
   "metadata": {},
   "outputs": [],
   "source": [
    "XX = df.drop(columns=['user'])\n",
    "yy = df_init['avg_data_after_upgrade'] \n",
    "\n",
    "XX_train, XX_test, yy_train, yy_test = train_test_split(XX, yy, test_size=0.2, random_state=42 ,shuffle=True)\n",
    "\n",
    "avg_data_estimator = XGBRegressor(\n",
    "    n_estimators=500,\n",
    "    max_depth=4,\n",
    "    learning_rate=0.3,\n",
    "    random_state=42,\n",
    "    tree_method='hist',\n",
    "    enable_categorical=True,\n",
    ")\n",
    "\n",
    "avg_data_estimator.fit(XX_train, yy_train)\n",
    "\n",
    "yy_pred = avg_data_estimator.predict(XX_test)\n",
    "\n",
    "yy_train_pred = avg_data_estimator.predict(XX_train)\n",
    "\n"
   ]
  },
  {
   "cell_type": "code",
   "execution_count": 58,
   "id": "07a28f61",
   "metadata": {},
   "outputs": [
    {
     "name": "stdout",
     "output_type": "stream",
     "text": [
      "************************Test metrics***********************\n",
      "Regression Metrics:\n",
      "Mae : 125343.2770\n",
      "R2_Score: 0.1129\n",
      "************************Train metrics***********************\n",
      "Regression Metrics:\n",
      "Mae : 98819.6876\n",
      "R2_Score: 0.3596\n",
      "************************Feature importance***********************\n"
     ]
    },
    {
     "data": {
      "application/vnd.microsoft.datawrangler.viewer.v0+json": {
       "columns": [
        {
         "name": "index",
         "rawType": "int64",
         "type": "integer"
        },
        {
         "name": "Feature",
         "rawType": "object",
         "type": "string"
        },
        {
         "name": "Importance",
         "rawType": "float32",
         "type": "float"
        }
       ],
       "conversionMethod": "pd.DataFrame",
       "ref": "65a9a6e7-623a-4097-bd15-433e4734132b",
       "rows": [
        [
         "3",
         "increased_usage",
         "0.527641"
        ],
        [
         "5",
         "std_flag",
         "0.29051325"
        ],
        [
         "7",
         "upgrade_prob_confidence",
         "0.077713944"
        ],
        [
         "0",
         "avg_data_before_upgrade",
         "0.05905806"
        ],
        [
         "2",
         "total_recharge_before",
         "0.024463125"
        ],
        [
         "1",
         "std_before",
         "0.020610558"
        ],
        [
         "4",
         "data_flag",
         "0.0"
        ],
        [
         "6",
         "recharge_flag",
         "0.0"
        ]
       ],
       "shape": {
        "columns": 2,
        "rows": 8
       }
      },
      "text/html": [
       "<div>\n",
       "<style scoped>\n",
       "    .dataframe tbody tr th:only-of-type {\n",
       "        vertical-align: middle;\n",
       "    }\n",
       "\n",
       "    .dataframe tbody tr th {\n",
       "        vertical-align: top;\n",
       "    }\n",
       "\n",
       "    .dataframe thead th {\n",
       "        text-align: right;\n",
       "    }\n",
       "</style>\n",
       "<table border=\"1\" class=\"dataframe\">\n",
       "  <thead>\n",
       "    <tr style=\"text-align: right;\">\n",
       "      <th></th>\n",
       "      <th>Feature</th>\n",
       "      <th>Importance</th>\n",
       "    </tr>\n",
       "  </thead>\n",
       "  <tbody>\n",
       "    <tr>\n",
       "      <th>3</th>\n",
       "      <td>increased_usage</td>\n",
       "      <td>0.527641</td>\n",
       "    </tr>\n",
       "    <tr>\n",
       "      <th>5</th>\n",
       "      <td>std_flag</td>\n",
       "      <td>0.290513</td>\n",
       "    </tr>\n",
       "    <tr>\n",
       "      <th>7</th>\n",
       "      <td>upgrade_prob_confidence</td>\n",
       "      <td>0.077714</td>\n",
       "    </tr>\n",
       "    <tr>\n",
       "      <th>0</th>\n",
       "      <td>avg_data_before_upgrade</td>\n",
       "      <td>0.059058</td>\n",
       "    </tr>\n",
       "    <tr>\n",
       "      <th>2</th>\n",
       "      <td>total_recharge_before</td>\n",
       "      <td>0.024463</td>\n",
       "    </tr>\n",
       "    <tr>\n",
       "      <th>1</th>\n",
       "      <td>std_before</td>\n",
       "      <td>0.020611</td>\n",
       "    </tr>\n",
       "    <tr>\n",
       "      <th>4</th>\n",
       "      <td>data_flag</td>\n",
       "      <td>0.000000</td>\n",
       "    </tr>\n",
       "    <tr>\n",
       "      <th>6</th>\n",
       "      <td>recharge_flag</td>\n",
       "      <td>0.000000</td>\n",
       "    </tr>\n",
       "  </tbody>\n",
       "</table>\n",
       "</div>"
      ],
      "text/plain": [
       "                   Feature  Importance\n",
       "3          increased_usage    0.527641\n",
       "5                 std_flag    0.290513\n",
       "7  upgrade_prob_confidence    0.077714\n",
       "0  avg_data_before_upgrade    0.059058\n",
       "2    total_recharge_before    0.024463\n",
       "1               std_before    0.020611\n",
       "4                data_flag    0.000000\n",
       "6            recharge_flag    0.000000"
      ]
     },
     "execution_count": 58,
     "metadata": {},
     "output_type": "execute_result"
    }
   ],
   "source": [
    "print('************************Test metrics***********************')\n",
    "display_metrics(y_true=yy_test, y_pred=yy_pred, mode='regr')\n",
    "\n",
    "print('************************Train metrics***********************')\n",
    "display_metrics(y_true=yy_train, y_pred=yy_train_pred, mode='regr')\n",
    "\n",
    "print('************************Feature importance***********************')\n",
    "importances_xx = avg_data_estimator.feature_importances_\n",
    "feature_names_xx = XX.columns\n",
    "feature_importance_df_xx = pd.DataFrame({'Feature': feature_names_xx, 'Importance': importances_xx})\n",
    "feature_importance_df_xx = feature_importance_df_xx.sort_values(by='Importance', ascending=False)\n",
    "feature_importance_df_xx"
   ]
  },
  {
   "cell_type": "markdown",
   "id": "20c61975",
   "metadata": {},
   "source": [
    "## recharge growth predictions"
   ]
  },
  {
   "cell_type": "code",
   "execution_count": 59,
   "id": "58dc877e",
   "metadata": {},
   "outputs": [
    {
     "data": {
      "text/plain": [
       "user_segment\n",
       "medium    10020\n",
       "high       5011\n",
       "low        4503\n",
       "non         508\n",
       "Name: count, dtype: int64"
      ]
     },
     "execution_count": 59,
     "metadata": {},
     "output_type": "execute_result"
    }
   ],
   "source": [
    "df_init['user_segment'].value_counts()"
   ]
  },
  {
   "cell_type": "code",
   "execution_count": 60,
   "id": "caf3f951",
   "metadata": {},
   "outputs": [],
   "source": [
    "feautures_to_use  = [\n",
    "    'avg_data_after_upgrade',\n",
    "    'avg_data_before_upgrade',\n",
    "    'increased_usage',\n",
    "    'recharge_growth',\n",
    "    'std_before',\n",
    "    'total_recharge_before',\n",
    "    'user',\n",
    "    'user_segment'\n",
    "    ]\n",
    "\n",
    "XXX = df_init[feautures_to_use].drop(columns=['recharge_growth','user'])\n",
    "yyy = df_init['recharge_growth']\n",
    "\n",
    "# Remove rows with NaN or infinite values in the target\n",
    "# mask = yyy.notnull() & np.isfinite(yyy)\n",
    "# XXX = XXX[mask]\n",
    "# yyy = yyy[mask]\n",
    "\n",
    "\n",
    "yyy = yyy.fillna(0)\n",
    "\n",
    "XXX['user_segment'] = XXX['user_segment'].astype('category')\n",
    "\n",
    "XXX_train, XXX_test, yyy_train, yyy_test = train_test_split(XXX, yyy, test_size=0.2, random_state=42 ,shuffle=True)\n",
    "\n",
    "recharge_growth_estimator = XGBRegressor(\n",
    "    n_estimators=500,\n",
    "    max_depth=4,\n",
    "    learning_rate=0.3,\n",
    "    random_state=42,\n",
    "    tree_method='hist',\n",
    "    enable_categorical=True,\n",
    ")\n",
    "\n",
    "recharge_growth_estimator.fit(XXX_train, yyy_train)\n",
    "\n",
    "yyy_pred = recharge_growth_estimator.predict(XXX_test)\n",
    "\n",
    "yyy_train_pred = recharge_growth_estimator.predict(XXX_train)\n"
   ]
  },
  {
   "cell_type": "code",
   "execution_count": 61,
   "id": "bc65e65b",
   "metadata": {},
   "outputs": [
    {
     "name": "stdout",
     "output_type": "stream",
     "text": [
      "************************Test metrics***********************\n",
      "Regression Metrics:\n",
      "Mae : 2432.0533\n",
      "R2_Score: 0.6108\n",
      "************************Train metrics***********************\n",
      "Regression Metrics:\n",
      "Mae : 1375.2450\n",
      "R2_Score: 0.8703\n",
      "************************Feature importance***********************\n"
     ]
    },
    {
     "data": {
      "application/vnd.microsoft.datawrangler.viewer.v0+json": {
       "columns": [
        {
         "name": "index",
         "rawType": "int64",
         "type": "integer"
        },
        {
         "name": "Feature",
         "rawType": "object",
         "type": "string"
        },
        {
         "name": "Importance",
         "rawType": "float32",
         "type": "float"
        }
       ],
       "conversionMethod": "pd.DataFrame",
       "ref": "14b29c91-4ef2-4ca6-bdd0-63279d04d752",
       "rows": [
        [
         "1",
         "avg_data_before_upgrade",
         "0.36679474"
        ],
        [
         "4",
         "total_recharge_before",
         "0.344123"
        ],
        [
         "5",
         "user_segment",
         "0.11789489"
        ],
        [
         "0",
         "avg_data_after_upgrade",
         "0.06346907"
        ],
        [
         "2",
         "increased_usage",
         "0.061741453"
        ],
        [
         "3",
         "std_before",
         "0.045976806"
        ]
       ],
       "shape": {
        "columns": 2,
        "rows": 6
       }
      },
      "text/html": [
       "<div>\n",
       "<style scoped>\n",
       "    .dataframe tbody tr th:only-of-type {\n",
       "        vertical-align: middle;\n",
       "    }\n",
       "\n",
       "    .dataframe tbody tr th {\n",
       "        vertical-align: top;\n",
       "    }\n",
       "\n",
       "    .dataframe thead th {\n",
       "        text-align: right;\n",
       "    }\n",
       "</style>\n",
       "<table border=\"1\" class=\"dataframe\">\n",
       "  <thead>\n",
       "    <tr style=\"text-align: right;\">\n",
       "      <th></th>\n",
       "      <th>Feature</th>\n",
       "      <th>Importance</th>\n",
       "    </tr>\n",
       "  </thead>\n",
       "  <tbody>\n",
       "    <tr>\n",
       "      <th>1</th>\n",
       "      <td>avg_data_before_upgrade</td>\n",
       "      <td>0.366795</td>\n",
       "    </tr>\n",
       "    <tr>\n",
       "      <th>4</th>\n",
       "      <td>total_recharge_before</td>\n",
       "      <td>0.344123</td>\n",
       "    </tr>\n",
       "    <tr>\n",
       "      <th>5</th>\n",
       "      <td>user_segment</td>\n",
       "      <td>0.117895</td>\n",
       "    </tr>\n",
       "    <tr>\n",
       "      <th>0</th>\n",
       "      <td>avg_data_after_upgrade</td>\n",
       "      <td>0.063469</td>\n",
       "    </tr>\n",
       "    <tr>\n",
       "      <th>2</th>\n",
       "      <td>increased_usage</td>\n",
       "      <td>0.061741</td>\n",
       "    </tr>\n",
       "    <tr>\n",
       "      <th>3</th>\n",
       "      <td>std_before</td>\n",
       "      <td>0.045977</td>\n",
       "    </tr>\n",
       "  </tbody>\n",
       "</table>\n",
       "</div>"
      ],
      "text/plain": [
       "                   Feature  Importance\n",
       "1  avg_data_before_upgrade    0.366795\n",
       "4    total_recharge_before    0.344123\n",
       "5             user_segment    0.117895\n",
       "0   avg_data_after_upgrade    0.063469\n",
       "2          increased_usage    0.061741\n",
       "3               std_before    0.045977"
      ]
     },
     "execution_count": 61,
     "metadata": {},
     "output_type": "execute_result"
    }
   ],
   "source": [
    "print('************************Test metrics***********************')\n",
    "display_metrics(y_true=yyy_test, y_pred=yyy_pred, mode='regr')\n",
    "\n",
    "print('************************Train metrics***********************')\n",
    "display_metrics(y_true=yyy_train, y_pred=yyy_train_pred, mode='regr')\n",
    "\n",
    "print('************************Feature importance***********************')\n",
    "importances_xxx = recharge_growth_estimator.feature_importances_\n",
    "feature_names_xxx = XXX.columns\n",
    "feature_importance_df_xxx = pd.DataFrame({'Feature': feature_names_xxx, 'Importance': importances_xxx})\n",
    "feature_importance_df_xxx = feature_importance_df_xxx.sort_values(by='Importance', ascending=False)\n",
    "feature_importance_df_xxx"
   ]
  },
  {
   "cell_type": "markdown",
   "id": "a8d152b0",
   "metadata": {},
   "source": [
    "# Save the models"
   ]
  },
  {
   "cell_type": "code",
   "execution_count": 64,
   "id": "ea49ee2d",
   "metadata": {},
   "outputs": [
    {
     "data": {
      "text/plain": [
       "['../output/models/recharge_growth_xgb.pkl']"
      ]
     },
     "execution_count": 64,
     "metadata": {},
     "output_type": "execute_result"
    }
   ],
   "source": [
    "joblib.dump(increased_usage_model, '../output/models/increased_usage_xgb.pkl')\n",
    "joblib.dump(avg_data_estimator, '../output/models/avg_data_xgb.pkl')\n",
    "joblib.dump(recharge_growth_estimator, '../output/models/recharge_growth_xgb.pkl')"
   ]
  },
  {
   "cell_type": "markdown",
   "id": "05e7219e",
   "metadata": {},
   "source": [
    "store new scores and predictions into a csv file"
   ]
  },
  {
   "cell_type": "code",
   "execution_count": 63,
   "id": "0f99b9fd",
   "metadata": {},
   "outputs": [],
   "source": [
    "df_old = pd.read_csv('../data/cleaned/users_usage_segmented.csv')\n",
    "\n",
    "df_old['xgb_score'] = increased_usage_model.predict_proba(X)[:, 1]\n",
    "df_old['xgb_pred'] = increased_usage_model.predict(X)\n",
    "\n",
    "df_old.to_csv('../data/cleaned/users_segmented_xgb_score.csv', index=False)"
   ]
  },
  {
   "cell_type": "markdown",
   "id": "d77b4fbb",
   "metadata": {},
   "source": [
    "# Report"
   ]
  },
  {
   "cell_type": "markdown",
   "id": "f7da6b75",
   "metadata": {},
   "source": [
    "read the final report notebook found in the report directory"
   ]
  }
 ],
 "metadata": {
  "kernelspec": {
   "display_name": ".venv",
   "language": "python",
   "name": "python3"
  },
  "language_info": {
   "codemirror_mode": {
    "name": "ipython",
    "version": 3
   },
   "file_extension": ".py",
   "mimetype": "text/x-python",
   "name": "python",
   "nbconvert_exporter": "python",
   "pygments_lexer": "ipython3",
   "version": "3.11.2"
  }
 },
 "nbformat": 4,
 "nbformat_minor": 5
}
