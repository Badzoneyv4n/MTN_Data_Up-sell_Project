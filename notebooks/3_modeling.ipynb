{
 "cells": [
  {
   "cell_type": "markdown",
   "id": "ea02e135",
   "metadata": {},
   "source": [
    "# Import necessary libraries"
   ]
  },
  {
   "cell_type": "code",
   "execution_count": 1,
   "id": "50caa6ca",
   "metadata": {},
   "outputs": [],
   "source": [
    "import pandas as pd\n",
    "from sklearn.model_selection import train_test_split\n",
    "from sklearn.ensemble import RandomForestClassifier\n",
    "from sklearn.metrics import accuracy_score, precision_score, recall_score, auc\n",
    "import sys\n",
    "import os\n",
    "\n",
    "# Add the parent directory's 'scripts' folder to the Python path\n",
    "sys.path.append(os.path.abspath('../scripts'))\n",
    "\n",
    "# Import the function\n",
    "from class_metrics import display_metrics"
   ]
  },
  {
   "cell_type": "markdown",
   "id": "6046abfc",
   "metadata": {},
   "source": [
    "# Load the the users with segments dataset"
   ]
  },
  {
   "cell_type": "code",
   "execution_count": 2,
   "id": "fc28b7e8",
   "metadata": {},
   "outputs": [],
   "source": [
    "df = pd.read_csv('../data/cleaned/users_usage_segmented.csv')"
   ]
  },
  {
   "cell_type": "code",
   "execution_count": 3,
   "id": "6e2b887f",
   "metadata": {},
   "outputs": [
    {
     "data": {
      "text/plain": [
       "['avg_data_after_upgrade',\n",
       " 'avg_data_before_upgrade',\n",
       " 'days_active_after',\n",
       " 'increased_usage',\n",
       " 'recharge_growth',\n",
       " 'std_after',\n",
       " 'std_before',\n",
       " 'time_to_first_data_use',\n",
       " 'total_recharge_after',\n",
       " 'total_recharge_before',\n",
       " 'user',\n",
       " 'user_segment']"
      ]
     },
     "execution_count": 3,
     "metadata": {},
     "output_type": "execute_result"
    }
   ],
   "source": [
    "sorted(df.columns)"
   ]
  },
  {
   "cell_type": "markdown",
   "id": "45a918e4",
   "metadata": {},
   "source": [
    "### we need to drop the columns that are not needed for the analysis\n",
    "\n",
    "> 'avg_data_after_upgrade','days_active_after','std_after','time_to_first_data_use','user_segment', 'total_recharge_after',\n",
    "\n",
    "so we only need the following columns\n",
    "\n",
    "> 'avg_data_before_upgrade','increased_usage'(our target),'std_before','total_recharge_before','user',"
   ]
  },
  {
   "cell_type": "code",
   "execution_count": 4,
   "id": "498e7148",
   "metadata": {},
   "outputs": [
    {
     "data": {
      "text/html": [
       "<div>\n",
       "<style scoped>\n",
       "    .dataframe tbody tr th:only-of-type {\n",
       "        vertical-align: middle;\n",
       "    }\n",
       "\n",
       "    .dataframe tbody tr th {\n",
       "        vertical-align: top;\n",
       "    }\n",
       "\n",
       "    .dataframe thead th {\n",
       "        text-align: right;\n",
       "    }\n",
       "</style>\n",
       "<table border=\"1\" class=\"dataframe\">\n",
       "  <thead>\n",
       "    <tr style=\"text-align: right;\">\n",
       "      <th></th>\n",
       "      <th>user</th>\n",
       "      <th>avg_data_before_upgrade</th>\n",
       "      <th>std_before</th>\n",
       "      <th>total_recharge_before</th>\n",
       "      <th>increased_usage</th>\n",
       "    </tr>\n",
       "  </thead>\n",
       "  <tbody>\n",
       "    <tr>\n",
       "      <th>2</th>\n",
       "      <td>225798765434</td>\n",
       "      <td>NaN</td>\n",
       "      <td>NaN</td>\n",
       "      <td>NaN</td>\n",
       "      <td>0</td>\n",
       "    </tr>\n",
       "    <tr>\n",
       "      <th>31</th>\n",
       "      <td>225798765464</td>\n",
       "      <td>0.000000</td>\n",
       "      <td>NaN</td>\n",
       "      <td>100.000000</td>\n",
       "      <td>0</td>\n",
       "    </tr>\n",
       "    <tr>\n",
       "      <th>52</th>\n",
       "      <td>225798765485</td>\n",
       "      <td>NaN</td>\n",
       "      <td>NaN</td>\n",
       "      <td>NaN</td>\n",
       "      <td>0</td>\n",
       "    </tr>\n",
       "    <tr>\n",
       "      <th>33</th>\n",
       "      <td>225798765466</td>\n",
       "      <td>0.000000</td>\n",
       "      <td>NaN</td>\n",
       "      <td>200.000000</td>\n",
       "      <td>0</td>\n",
       "    </tr>\n",
       "    <tr>\n",
       "      <th>53</th>\n",
       "      <td>225798765486</td>\n",
       "      <td>4796.330187</td>\n",
       "      <td>19727.868410</td>\n",
       "      <td>4054.000000</td>\n",
       "      <td>1</td>\n",
       "    </tr>\n",
       "    <tr>\n",
       "      <th>1</th>\n",
       "      <td>225798765433</td>\n",
       "      <td>NaN</td>\n",
       "      <td>NaN</td>\n",
       "      <td>NaN</td>\n",
       "      <td>0</td>\n",
       "    </tr>\n",
       "    <tr>\n",
       "      <th>12</th>\n",
       "      <td>225798765444</td>\n",
       "      <td>0.000000</td>\n",
       "      <td>NaN</td>\n",
       "      <td>100.000000</td>\n",
       "      <td>0</td>\n",
       "    </tr>\n",
       "    <tr>\n",
       "      <th>0</th>\n",
       "      <td>225798765432</td>\n",
       "      <td>0.130697</td>\n",
       "      <td>0.452746</td>\n",
       "      <td>3091.482637</td>\n",
       "      <td>1</td>\n",
       "    </tr>\n",
       "    <tr>\n",
       "      <th>48</th>\n",
       "      <td>225798765481</td>\n",
       "      <td>NaN</td>\n",
       "      <td>NaN</td>\n",
       "      <td>NaN</td>\n",
       "      <td>0</td>\n",
       "    </tr>\n",
       "    <tr>\n",
       "      <th>17</th>\n",
       "      <td>225798765450</td>\n",
       "      <td>0.000000</td>\n",
       "      <td>0.000000</td>\n",
       "      <td>250.000000</td>\n",
       "      <td>0</td>\n",
       "    </tr>\n",
       "  </tbody>\n",
       "</table>\n",
       "</div>"
      ],
      "text/plain": [
       "            user  avg_data_before_upgrade    std_before  \\\n",
       "2   225798765434                      NaN           NaN   \n",
       "31  225798765464                 0.000000           NaN   \n",
       "52  225798765485                      NaN           NaN   \n",
       "33  225798765466                 0.000000           NaN   \n",
       "53  225798765486              4796.330187  19727.868410   \n",
       "1   225798765433                      NaN           NaN   \n",
       "12  225798765444                 0.000000           NaN   \n",
       "0   225798765432                 0.130697      0.452746   \n",
       "48  225798765481                      NaN           NaN   \n",
       "17  225798765450                 0.000000      0.000000   \n",
       "\n",
       "    total_recharge_before  increased_usage  \n",
       "2                     NaN                0  \n",
       "31             100.000000                0  \n",
       "52                    NaN                0  \n",
       "33             200.000000                0  \n",
       "53            4054.000000                1  \n",
       "1                     NaN                0  \n",
       "12             100.000000                0  \n",
       "0             3091.482637                1  \n",
       "48                    NaN                0  \n",
       "17             250.000000                0  "
      ]
     },
     "execution_count": 4,
     "metadata": {},
     "output_type": "execute_result"
    }
   ],
   "source": [
    "df =  df[['user', 'avg_data_before_upgrade', 'std_before', 'total_recharge_before', 'increased_usage']]\n",
    "df.sample(10)"
   ]
  },
  {
   "cell_type": "markdown",
   "id": "129fc4c3",
   "metadata": {},
   "source": [
    "Logistic, RandomForest or any other tree-based model from sklearn library don't support nan values and we have them"
   ]
  },
  {
   "cell_type": "code",
   "execution_count": 5,
   "id": "80bfa2c8",
   "metadata": {},
   "outputs": [
    {
     "data": {
      "text/plain": [
       "user                        0\n",
       "avg_data_before_upgrade    25\n",
       "std_before                 34\n",
       "total_recharge_before      25\n",
       "increased_usage             0\n",
       "dtype: int64"
      ]
     },
     "execution_count": 5,
     "metadata": {},
     "output_type": "execute_result"
    }
   ],
   "source": [
    "df.isna().sum()"
   ]
  },
  {
   "cell_type": "markdown",
   "id": "af7f83d5",
   "metadata": {},
   "source": [
    "### Handle Missing values\n",
    "\n",
    "we have missing values in 3 columns, we can't impute them bcs we might introduce false informations about users. \n",
    "\n",
    "**Solution:**\n",
    "\n",
    "For each column with missing values let's create a binary label/flag indicating whether it's missing or not, then after let's fill nan with 0 which indicates we don't have values for that column"
   ]
  },
  {
   "cell_type": "code",
   "execution_count": 6,
   "id": "86f34da3",
   "metadata": {},
   "outputs": [
    {
     "data": {
      "text/plain": [
       "user                       0\n",
       "avg_data_before_upgrade    0\n",
       "std_before                 0\n",
       "total_recharge_before      0\n",
       "increased_usage            0\n",
       "data_flag                  0\n",
       "std_flag                   0\n",
       "recharge_flag              0\n",
       "dtype: int64"
      ]
     },
     "execution_count": 6,
     "metadata": {},
     "output_type": "execute_result"
    }
   ],
   "source": [
    "df['data_flag'] = df['avg_data_before_upgrade'].isna().astype(int)\n",
    "df['std_flag'] = df['std_before'].isna().astype(int)\n",
    "df['recharge_flag'] = df['total_recharge_before'].isna().astype(int)\n",
    "\n",
    "# Fill missing values with 0\n",
    "\n",
    "df['avg_data_before_upgrade'] = df['avg_data_before_upgrade'].fillna(0)\n",
    "df['std_before'] = df['std_before'].fillna(0)\n",
    "df['total_recharge_before'] = df['total_recharge_before'].fillna(0)\n",
    "\n",
    "df.isna().sum()\n"
   ]
  },
  {
   "cell_type": "code",
   "execution_count": 7,
   "id": "b8a9309e",
   "metadata": {},
   "outputs": [],
   "source": [
    "df.to_csv('../data/cleaned/users_segmented_zero_nan.csv', index=False) "
   ]
  },
  {
   "cell_type": "markdown",
   "id": "a4fe95c4",
   "metadata": {},
   "source": [
    "# Train & Test split"
   ]
  },
  {
   "cell_type": "code",
   "execution_count": 13,
   "id": "428993ba",
   "metadata": {},
   "outputs": [
    {
     "data": {
      "text/plain": [
       "(45, 6)"
      ]
     },
     "execution_count": 13,
     "metadata": {},
     "output_type": "execute_result"
    }
   ],
   "source": [
    "X = df.drop(columns=['user', 'increased_usage'])\n",
    "y = df['increased_usage']\n",
    "\n",
    "X_train, X_test, y_train, y_test = train_test_split(X, y, test_size=0.2, random_state=42 ,shuffle=True)\n",
    "X_train.shape"
   ]
  },
  {
   "cell_type": "markdown",
   "id": "cacbde41",
   "metadata": {},
   "source": [
    "# Baseline Model : RandomForest Classifier"
   ]
  },
  {
   "cell_type": "markdown",
   "id": "7f85aea5",
   "metadata": {},
   "source": [
    "Let's train & predict using a RandomForest regressor"
   ]
  },
  {
   "cell_type": "code",
   "execution_count": 27,
   "id": "f7da4b86",
   "metadata": {},
   "outputs": [],
   "source": [
    "rf = RandomForestClassifier(n_estimators=100, random_state=42, class_weight='balanced')\n",
    "rf.fit(X_train, y_train)\n",
    "\n",
    "y_pred = rf.predict(X_test)\n",
    "y_scores = rf.predict_proba(X_test)[:, 1]"
   ]
  },
  {
   "cell_type": "markdown",
   "id": "8102620f",
   "metadata": {},
   "source": [
    "overfitness check"
   ]
  },
  {
   "cell_type": "code",
   "execution_count": 24,
   "id": "f948dbc0",
   "metadata": {},
   "outputs": [],
   "source": [
    "y_train_pred = rf.predict(X_train)\n",
    "y_train_score = rf.predict_proba(X_train)[:, 1]"
   ]
  },
  {
   "cell_type": "markdown",
   "id": "87f84858",
   "metadata": {},
   "source": [
    "#### Baseline Metrics of the RandomForest model"
   ]
  },
  {
   "cell_type": "code",
   "execution_count": 28,
   "id": "41950048",
   "metadata": {},
   "outputs": [
    {
     "name": "stdout",
     "output_type": "stream",
     "text": [
      "************************Test metrics***********************\n",
      "Classification Metrics:\n",
      "Accuracy: 0.8333\n",
      "Precision: 1.0000\n",
      "Recall: 0.5000\n",
      "AUC-ROC: 0.8750\n",
      "************************Train metrics***********************\n",
      "Classification Metrics:\n",
      "Accuracy: 1.0000\n",
      "Precision: 1.0000\n",
      "Recall: 1.0000\n",
      "AUC-ROC: 1.0000\n",
      "************************Feature importance***********************\n"
     ]
    },
    {
     "data": {
      "text/html": [
       "<div>\n",
       "<style scoped>\n",
       "    .dataframe tbody tr th:only-of-type {\n",
       "        vertical-align: middle;\n",
       "    }\n",
       "\n",
       "    .dataframe tbody tr th {\n",
       "        vertical-align: top;\n",
       "    }\n",
       "\n",
       "    .dataframe thead th {\n",
       "        text-align: right;\n",
       "    }\n",
       "</style>\n",
       "<table border=\"1\" class=\"dataframe\">\n",
       "  <thead>\n",
       "    <tr style=\"text-align: right;\">\n",
       "      <th></th>\n",
       "      <th>Feature</th>\n",
       "      <th>Importance</th>\n",
       "    </tr>\n",
       "  </thead>\n",
       "  <tbody>\n",
       "    <tr>\n",
       "      <th>0</th>\n",
       "      <td>avg_data_before_upgrade</td>\n",
       "      <td>0.557369</td>\n",
       "    </tr>\n",
       "    <tr>\n",
       "      <th>1</th>\n",
       "      <td>std_before</td>\n",
       "      <td>0.174368</td>\n",
       "    </tr>\n",
       "    <tr>\n",
       "      <th>2</th>\n",
       "      <td>total_recharge_before</td>\n",
       "      <td>0.144223</td>\n",
       "    </tr>\n",
       "    <tr>\n",
       "      <th>3</th>\n",
       "      <td>data_flag</td>\n",
       "      <td>0.057102</td>\n",
       "    </tr>\n",
       "    <tr>\n",
       "      <th>5</th>\n",
       "      <td>recharge_flag</td>\n",
       "      <td>0.049357</td>\n",
       "    </tr>\n",
       "    <tr>\n",
       "      <th>4</th>\n",
       "      <td>std_flag</td>\n",
       "      <td>0.017580</td>\n",
       "    </tr>\n",
       "  </tbody>\n",
       "</table>\n",
       "</div>"
      ],
      "text/plain": [
       "                   Feature  Importance\n",
       "0  avg_data_before_upgrade    0.557369\n",
       "1               std_before    0.174368\n",
       "2    total_recharge_before    0.144223\n",
       "3                data_flag    0.057102\n",
       "5            recharge_flag    0.049357\n",
       "4                 std_flag    0.017580"
      ]
     },
     "execution_count": 28,
     "metadata": {},
     "output_type": "execute_result"
    }
   ],
   "source": [
    "print('************************Test metrics***********************')\n",
    "display_metrics(y_true=y_test, y_pred=y_pred, y_scores=y_scores)\n",
    "\n",
    "print('************************Train metrics***********************')\n",
    "display_metrics(y_true=y_train, y_pred=y_train_pred , y_scores=y_train_score)\n",
    "\n",
    "print('************************Feature importance***********************')\n",
    "importances = rf.feature_importances_\n",
    "feature_names = X.columns\n",
    "feature_importance_df = pd.DataFrame({'Feature': feature_names, 'Importance': importances})\n",
    "feature_importance_df = feature_importance_df.sort_values(by='Importance', ascending=False)\n",
    "feature_importance_df"
   ]
  },
  {
   "cell_type": "code",
   "execution_count": null,
   "id": "2e30be0e",
   "metadata": {},
   "outputs": [],
   "source": []
  }
 ],
 "metadata": {
  "kernelspec": {
   "display_name": ".venv",
   "language": "python",
   "name": "python3"
  },
  "language_info": {
   "codemirror_mode": {
    "name": "ipython",
    "version": 3
   },
   "file_extension": ".py",
   "mimetype": "text/x-python",
   "name": "python",
   "nbconvert_exporter": "python",
   "pygments_lexer": "ipython3",
   "version": "3.11.2"
  }
 },
 "nbformat": 4,
 "nbformat_minor": 5
}
