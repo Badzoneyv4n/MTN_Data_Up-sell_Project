{
 "cells": [
  {
   "cell_type": "markdown",
   "id": "277b45ca",
   "metadata": {},
   "source": [
    "Check the modeling notebook for **predictions**"
   ]
  },
  {
   "cell_type": "markdown",
   "id": "cb1a79e6",
   "metadata": {},
   "source": [
    "# Load the xgb scored new data set"
   ]
  },
  {
   "cell_type": "code",
   "execution_count": 5,
   "id": "868349b2",
   "metadata": {},
   "outputs": [
    {
     "data": {
      "application/vnd.microsoft.datawrangler.viewer.v0+json": {
       "columns": [
        {
         "name": "index",
         "rawType": "int64",
         "type": "integer"
        },
        {
         "name": "user",
         "rawType": "int64",
         "type": "integer"
        },
        {
         "name": "avg_data_before_upgrade",
         "rawType": "float64",
         "type": "float"
        },
        {
         "name": "std_before",
         "rawType": "float64",
         "type": "float"
        },
        {
         "name": "total_recharge_before",
         "rawType": "float64",
         "type": "float"
        },
        {
         "name": "avg_data_after_upgrade",
         "rawType": "float64",
         "type": "float"
        },
        {
         "name": "std_after",
         "rawType": "float64",
         "type": "float"
        },
        {
         "name": "total_recharge_after",
         "rawType": "float64",
         "type": "float"
        },
        {
         "name": "days_active_after",
         "rawType": "int64",
         "type": "integer"
        },
        {
         "name": "time_to_first_data_use",
         "rawType": "float64",
         "type": "float"
        },
        {
         "name": "recharge_growth",
         "rawType": "float64",
         "type": "float"
        },
        {
         "name": "increased_usage",
         "rawType": "int64",
         "type": "integer"
        },
        {
         "name": "user_segment",
         "rawType": "object",
         "type": "string"
        },
        {
         "name": "xgb_score",
         "rawType": "float64",
         "type": "float"
        },
        {
         "name": "xgb_pred",
         "rawType": "int64",
         "type": "integer"
        }
       ],
       "conversionMethod": "pd.DataFrame",
       "ref": "ef0ee604-3154-4890-bd75-1ad85349f9de",
       "rows": [
        [
         "0",
         "225798700001",
         "156802.99",
         null,
         "113.47",
         "406223.96",
         "645813.623179855",
         "7574.878260664555",
         "27",
         "0.0",
         "7461.408260664554",
         "1",
         "medium",
         "0.9509535",
         "1"
        ],
        [
         "1",
         "225798700012",
         "88923.625",
         "125756.9964903792",
         "124.37",
         "471228.7411111111",
         "612422.558415557",
         "14863.328260664555",
         "53",
         "0.0",
         "14738.958260664554",
         "1",
         "medium",
         "0.9625763",
         "1"
        ],
        [
         "2",
         "225798700014",
         null,
         null,
         null,
         "669976.7740425533",
         "1080963.0232362633",
         "15855.988260664555",
         "45",
         "0.0",
         null,
         "0",
         "high",
         "5.1156276e-05",
         "0"
        ],
        [
         "3",
         "225798700016",
         "152250.54",
         "141042.18388176968",
         "1885.47",
         "783516.9141666667",
         "1818749.3178107624",
         "8418.27",
         "23",
         "0.0",
         "6532.8",
         "1",
         "high",
         "0.9953714",
         "1"
        ],
        [
         "4",
         "225798700032",
         null,
         null,
         null,
         "458873.0722807018",
         "579248.6005926795",
         "10687.68",
         "56",
         "0.0",
         null,
         "0",
         "medium",
         "5.1156276e-05",
         "0"
        ]
       ],
       "shape": {
        "columns": 14,
        "rows": 5
       }
      },
      "text/html": [
       "<div>\n",
       "<style scoped>\n",
       "    .dataframe tbody tr th:only-of-type {\n",
       "        vertical-align: middle;\n",
       "    }\n",
       "\n",
       "    .dataframe tbody tr th {\n",
       "        vertical-align: top;\n",
       "    }\n",
       "\n",
       "    .dataframe thead th {\n",
       "        text-align: right;\n",
       "    }\n",
       "</style>\n",
       "<table border=\"1\" class=\"dataframe\">\n",
       "  <thead>\n",
       "    <tr style=\"text-align: right;\">\n",
       "      <th></th>\n",
       "      <th>user</th>\n",
       "      <th>avg_data_before_upgrade</th>\n",
       "      <th>std_before</th>\n",
       "      <th>total_recharge_before</th>\n",
       "      <th>avg_data_after_upgrade</th>\n",
       "      <th>std_after</th>\n",
       "      <th>total_recharge_after</th>\n",
       "      <th>days_active_after</th>\n",
       "      <th>time_to_first_data_use</th>\n",
       "      <th>recharge_growth</th>\n",
       "      <th>increased_usage</th>\n",
       "      <th>user_segment</th>\n",
       "      <th>xgb_score</th>\n",
       "      <th>xgb_pred</th>\n",
       "    </tr>\n",
       "  </thead>\n",
       "  <tbody>\n",
       "    <tr>\n",
       "      <th>0</th>\n",
       "      <td>225798700001</td>\n",
       "      <td>156802.990</td>\n",
       "      <td>NaN</td>\n",
       "      <td>113.47</td>\n",
       "      <td>406223.960000</td>\n",
       "      <td>6.458136e+05</td>\n",
       "      <td>7574.878261</td>\n",
       "      <td>27</td>\n",
       "      <td>0.0</td>\n",
       "      <td>7461.408261</td>\n",
       "      <td>1</td>\n",
       "      <td>medium</td>\n",
       "      <td>0.950954</td>\n",
       "      <td>1</td>\n",
       "    </tr>\n",
       "    <tr>\n",
       "      <th>1</th>\n",
       "      <td>225798700012</td>\n",
       "      <td>88923.625</td>\n",
       "      <td>125756.996490</td>\n",
       "      <td>124.37</td>\n",
       "      <td>471228.741111</td>\n",
       "      <td>6.124226e+05</td>\n",
       "      <td>14863.328261</td>\n",
       "      <td>53</td>\n",
       "      <td>0.0</td>\n",
       "      <td>14738.958261</td>\n",
       "      <td>1</td>\n",
       "      <td>medium</td>\n",
       "      <td>0.962576</td>\n",
       "      <td>1</td>\n",
       "    </tr>\n",
       "    <tr>\n",
       "      <th>2</th>\n",
       "      <td>225798700014</td>\n",
       "      <td>NaN</td>\n",
       "      <td>NaN</td>\n",
       "      <td>NaN</td>\n",
       "      <td>669976.774043</td>\n",
       "      <td>1.080963e+06</td>\n",
       "      <td>15855.988261</td>\n",
       "      <td>45</td>\n",
       "      <td>0.0</td>\n",
       "      <td>NaN</td>\n",
       "      <td>0</td>\n",
       "      <td>high</td>\n",
       "      <td>0.000051</td>\n",
       "      <td>0</td>\n",
       "    </tr>\n",
       "    <tr>\n",
       "      <th>3</th>\n",
       "      <td>225798700016</td>\n",
       "      <td>152250.540</td>\n",
       "      <td>141042.183882</td>\n",
       "      <td>1885.47</td>\n",
       "      <td>783516.914167</td>\n",
       "      <td>1.818749e+06</td>\n",
       "      <td>8418.270000</td>\n",
       "      <td>23</td>\n",
       "      <td>0.0</td>\n",
       "      <td>6532.800000</td>\n",
       "      <td>1</td>\n",
       "      <td>high</td>\n",
       "      <td>0.995371</td>\n",
       "      <td>1</td>\n",
       "    </tr>\n",
       "    <tr>\n",
       "      <th>4</th>\n",
       "      <td>225798700032</td>\n",
       "      <td>NaN</td>\n",
       "      <td>NaN</td>\n",
       "      <td>NaN</td>\n",
       "      <td>458873.072281</td>\n",
       "      <td>5.792486e+05</td>\n",
       "      <td>10687.680000</td>\n",
       "      <td>56</td>\n",
       "      <td>0.0</td>\n",
       "      <td>NaN</td>\n",
       "      <td>0</td>\n",
       "      <td>medium</td>\n",
       "      <td>0.000051</td>\n",
       "      <td>0</td>\n",
       "    </tr>\n",
       "  </tbody>\n",
       "</table>\n",
       "</div>"
      ],
      "text/plain": [
       "           user  avg_data_before_upgrade     std_before  \\\n",
       "0  225798700001               156802.990            NaN   \n",
       "1  225798700012                88923.625  125756.996490   \n",
       "2  225798700014                      NaN            NaN   \n",
       "3  225798700016               152250.540  141042.183882   \n",
       "4  225798700032                      NaN            NaN   \n",
       "\n",
       "   total_recharge_before  avg_data_after_upgrade     std_after  \\\n",
       "0                 113.47           406223.960000  6.458136e+05   \n",
       "1                 124.37           471228.741111  6.124226e+05   \n",
       "2                    NaN           669976.774043  1.080963e+06   \n",
       "3                1885.47           783516.914167  1.818749e+06   \n",
       "4                    NaN           458873.072281  5.792486e+05   \n",
       "\n",
       "   total_recharge_after  days_active_after  time_to_first_data_use  \\\n",
       "0           7574.878261                 27                     0.0   \n",
       "1          14863.328261                 53                     0.0   \n",
       "2          15855.988261                 45                     0.0   \n",
       "3           8418.270000                 23                     0.0   \n",
       "4          10687.680000                 56                     0.0   \n",
       "\n",
       "   recharge_growth  increased_usage user_segment  xgb_score  xgb_pred  \n",
       "0      7461.408261                1       medium   0.950954         1  \n",
       "1     14738.958261                1       medium   0.962576         1  \n",
       "2              NaN                0         high   0.000051         0  \n",
       "3      6532.800000                1         high   0.995371         1  \n",
       "4              NaN                0       medium   0.000051         0  "
      ]
     },
     "execution_count": 5,
     "metadata": {},
     "output_type": "execute_result"
    }
   ],
   "source": [
    "import pandas as pd\n",
    "\n",
    "import sys\n",
    "import os\n",
    "import joblib\n",
    "\n",
    "# Add the parent directory's 'scripts' folder to the Python path\n",
    "sys.path.append(os.path.abspath('../scripts'))\n",
    "\n",
    "from offers import recommend_mtn_offer\n",
    "from recommender import recommend\n",
    "\n",
    "df = pd.read_csv('../data/cleaned/users_segmented_xgb_score.csv')\n",
    "df.head()"
   ]
  },
  {
   "cell_type": "markdown",
   "id": "554bb7ce",
   "metadata": {},
   "source": [
    "Sort Users by Score and Flag Top 20%"
   ]
  },
  {
   "cell_type": "code",
   "execution_count": 6,
   "id": "ae56f074",
   "metadata": {},
   "outputs": [
    {
     "data": {
      "application/vnd.microsoft.datawrangler.viewer.v0+json": {
       "columns": [
        {
         "name": "index",
         "rawType": "int64",
         "type": "integer"
        },
        {
         "name": "dates",
         "rawType": "int64",
         "type": "integer"
        },
        {
         "name": "Phone Number",
         "rawType": "int64",
         "type": "integer"
        },
        {
         "name": "total_reloads",
         "rawType": "int64",
         "type": "integer"
        },
        {
         "name": "total_reload_amount",
         "rawType": "float64",
         "type": "float"
        },
        {
         "name": "imei",
         "rawType": "int64",
         "type": "integer"
        },
        {
         "name": "brand_name",
         "rawType": "object",
         "type": "string"
        },
        {
         "name": "model_name",
         "rawType": "object",
         "type": "string"
        },
        {
         "name": "device_category",
         "rawType": "object",
         "type": "unknown"
        },
        {
         "name": "data_kb",
         "rawType": "float64",
         "type": "float"
        }
       ],
       "conversionMethod": "pd.DataFrame",
       "ref": "d1b07c6a-b1ce-4c4a-b70f-a4cd41592b04",
       "rows": [
        [
         "1198",
         "20240928",
         "225798765453",
         "3",
         "800.0",
         "2068091670",
         "TECNO",
         "POP 2 PLUS (BA2)",
         "5",
         "13640.2265625"
        ],
        [
         "7604",
         "20250313",
         "225798765488",
         "1",
         "100.0",
         "1693776808",
         "TECNO",
         "T101",
         "7",
         "0.0"
        ],
        [
         "4458",
         "20241215",
         "225798765481",
         "1",
         "50.0",
         "1976046844",
         "TECNO",
         "T301",
         "7",
         "0.0"
        ],
        [
         "5489",
         "20250107",
         "225798765475",
         "2",
         "285.0",
         "1478678766",
         "TECNO",
         "T528",
         "4",
         "58.5693359375"
        ],
        [
         "2551",
         "20241030",
         "225798765444",
         "1",
         "100.0",
         "2179713770",
         "TECNO",
         "T101",
         "7",
         "0.0"
        ],
        [
         "1814",
         "20241012",
         "225798765462",
         "1",
         "100.0",
         "1190427788",
         "TECNO",
         "T371",
         "4",
         "193.0732421875"
        ],
        [
         "2922",
         "20241108",
         "225798765455",
         "1",
         "150.0",
         "1743622375",
         "TECNO",
         "SPARK 20 PRO PLUS (KJ7)",
         "5",
         "11.244140625"
        ],
        [
         "4982",
         "20241227",
         "225798765443",
         "2",
         "430.0",
         "2062556428",
         "TECNO",
         "T402",
         "4",
         "0.0"
        ],
        [
         "1769",
         "20241011",
         "225798765460",
         "2",
         "250.0",
         "1837999292",
         "TECNO",
         "T101",
         "7",
         "0.0"
        ],
        [
         "4846",
         "20241224",
         "225798765439",
         "1",
         "250.0",
         "1670996446",
         "TECNO",
         "T301",
         "7",
         "0.0"
        ]
       ],
       "shape": {
        "columns": 9,
        "rows": 10
       }
      },
      "text/html": [
       "<div>\n",
       "<style scoped>\n",
       "    .dataframe tbody tr th:only-of-type {\n",
       "        vertical-align: middle;\n",
       "    }\n",
       "\n",
       "    .dataframe tbody tr th {\n",
       "        vertical-align: top;\n",
       "    }\n",
       "\n",
       "    .dataframe thead th {\n",
       "        text-align: right;\n",
       "    }\n",
       "</style>\n",
       "<table border=\"1\" class=\"dataframe\">\n",
       "  <thead>\n",
       "    <tr style=\"text-align: right;\">\n",
       "      <th></th>\n",
       "      <th>dates</th>\n",
       "      <th>Phone Number</th>\n",
       "      <th>total_reloads</th>\n",
       "      <th>total_reload_amount</th>\n",
       "      <th>imei</th>\n",
       "      <th>brand_name</th>\n",
       "      <th>model_name</th>\n",
       "      <th>device_category</th>\n",
       "      <th>data_kb</th>\n",
       "    </tr>\n",
       "  </thead>\n",
       "  <tbody>\n",
       "    <tr>\n",
       "      <th>1198</th>\n",
       "      <td>20240928</td>\n",
       "      <td>225798765453</td>\n",
       "      <td>3</td>\n",
       "      <td>800.0</td>\n",
       "      <td>2068091670</td>\n",
       "      <td>TECNO</td>\n",
       "      <td>POP 2 PLUS (BA2)</td>\n",
       "      <td>5</td>\n",
       "      <td>13640.226562</td>\n",
       "    </tr>\n",
       "    <tr>\n",
       "      <th>7604</th>\n",
       "      <td>20250313</td>\n",
       "      <td>225798765488</td>\n",
       "      <td>1</td>\n",
       "      <td>100.0</td>\n",
       "      <td>1693776808</td>\n",
       "      <td>TECNO</td>\n",
       "      <td>T101</td>\n",
       "      <td>7</td>\n",
       "      <td>0.000000</td>\n",
       "    </tr>\n",
       "    <tr>\n",
       "      <th>4458</th>\n",
       "      <td>20241215</td>\n",
       "      <td>225798765481</td>\n",
       "      <td>1</td>\n",
       "      <td>50.0</td>\n",
       "      <td>1976046844</td>\n",
       "      <td>TECNO</td>\n",
       "      <td>T301</td>\n",
       "      <td>7</td>\n",
       "      <td>0.000000</td>\n",
       "    </tr>\n",
       "    <tr>\n",
       "      <th>5489</th>\n",
       "      <td>20250107</td>\n",
       "      <td>225798765475</td>\n",
       "      <td>2</td>\n",
       "      <td>285.0</td>\n",
       "      <td>1478678766</td>\n",
       "      <td>TECNO</td>\n",
       "      <td>T528</td>\n",
       "      <td>4</td>\n",
       "      <td>58.569336</td>\n",
       "    </tr>\n",
       "    <tr>\n",
       "      <th>2551</th>\n",
       "      <td>20241030</td>\n",
       "      <td>225798765444</td>\n",
       "      <td>1</td>\n",
       "      <td>100.0</td>\n",
       "      <td>2179713770</td>\n",
       "      <td>TECNO</td>\n",
       "      <td>T101</td>\n",
       "      <td>7</td>\n",
       "      <td>0.000000</td>\n",
       "    </tr>\n",
       "    <tr>\n",
       "      <th>1814</th>\n",
       "      <td>20241012</td>\n",
       "      <td>225798765462</td>\n",
       "      <td>1</td>\n",
       "      <td>100.0</td>\n",
       "      <td>1190427788</td>\n",
       "      <td>TECNO</td>\n",
       "      <td>T371</td>\n",
       "      <td>4</td>\n",
       "      <td>193.073242</td>\n",
       "    </tr>\n",
       "    <tr>\n",
       "      <th>2922</th>\n",
       "      <td>20241108</td>\n",
       "      <td>225798765455</td>\n",
       "      <td>1</td>\n",
       "      <td>150.0</td>\n",
       "      <td>1743622375</td>\n",
       "      <td>TECNO</td>\n",
       "      <td>SPARK 20 PRO PLUS (KJ7)</td>\n",
       "      <td>5</td>\n",
       "      <td>11.244141</td>\n",
       "    </tr>\n",
       "    <tr>\n",
       "      <th>4982</th>\n",
       "      <td>20241227</td>\n",
       "      <td>225798765443</td>\n",
       "      <td>2</td>\n",
       "      <td>430.0</td>\n",
       "      <td>2062556428</td>\n",
       "      <td>TECNO</td>\n",
       "      <td>T402</td>\n",
       "      <td>4</td>\n",
       "      <td>0.000000</td>\n",
       "    </tr>\n",
       "    <tr>\n",
       "      <th>1769</th>\n",
       "      <td>20241011</td>\n",
       "      <td>225798765460</td>\n",
       "      <td>2</td>\n",
       "      <td>250.0</td>\n",
       "      <td>1837999292</td>\n",
       "      <td>TECNO</td>\n",
       "      <td>T101</td>\n",
       "      <td>7</td>\n",
       "      <td>0.000000</td>\n",
       "    </tr>\n",
       "    <tr>\n",
       "      <th>4846</th>\n",
       "      <td>20241224</td>\n",
       "      <td>225798765439</td>\n",
       "      <td>1</td>\n",
       "      <td>250.0</td>\n",
       "      <td>1670996446</td>\n",
       "      <td>TECNO</td>\n",
       "      <td>T301</td>\n",
       "      <td>7</td>\n",
       "      <td>0.000000</td>\n",
       "    </tr>\n",
       "  </tbody>\n",
       "</table>\n",
       "</div>"
      ],
      "text/plain": [
       "         dates  Phone Number  total_reloads  total_reload_amount        imei  \\\n",
       "1198  20240928  225798765453              3                800.0  2068091670   \n",
       "7604  20250313  225798765488              1                100.0  1693776808   \n",
       "4458  20241215  225798765481              1                 50.0  1976046844   \n",
       "5489  20250107  225798765475              2                285.0  1478678766   \n",
       "2551  20241030  225798765444              1                100.0  2179713770   \n",
       "1814  20241012  225798765462              1                100.0  1190427788   \n",
       "2922  20241108  225798765455              1                150.0  1743622375   \n",
       "4982  20241227  225798765443              2                430.0  2062556428   \n",
       "1769  20241011  225798765460              2                250.0  1837999292   \n",
       "4846  20241224  225798765439              1                250.0  1670996446   \n",
       "\n",
       "     brand_name               model_name device_category       data_kb  \n",
       "1198      TECNO         POP 2 PLUS (BA2)               5  13640.226562  \n",
       "7604      TECNO                     T101               7      0.000000  \n",
       "4458      TECNO                     T301               7      0.000000  \n",
       "5489      TECNO                     T528               4     58.569336  \n",
       "2551      TECNO                     T101               7      0.000000  \n",
       "1814      TECNO                     T371               4    193.073242  \n",
       "2922      TECNO  SPARK 20 PRO PLUS (KJ7)               5     11.244141  \n",
       "4982      TECNO                     T402               4      0.000000  \n",
       "1769      TECNO                     T101               7      0.000000  \n",
       "4846      TECNO                     T301               7      0.000000  "
      ]
     },
     "execution_count": 6,
     "metadata": {},
     "output_type": "execute_result"
    }
   ],
   "source": [
    "df_test = pd.read_excel('../data/raw/mtn_upsell_uncleaned.xlsx')\n",
    "df_test.sample(10)"
   ]
  },
  {
   "cell_type": "code",
   "execution_count": 7,
   "id": "a3c180d4",
   "metadata": {},
   "outputs": [
    {
     "data": {
      "text/plain": [
       "(725, 9)"
      ]
     },
     "execution_count": 7,
     "metadata": {},
     "output_type": "execute_result"
    }
   ],
   "source": [
    "mask1 = df_test['Phone Number'] == 225798765472\n",
    "mask2 = df_test['Phone Number'] == 225798765488\n",
    "mask3 = df_test['Phone Number'] == 225798765450\n",
    "\n",
    "df_user1 = df_test[ mask1 | mask2 | mask3 ]\n",
    "df_user1.shape"
   ]
  },
  {
   "cell_type": "code",
   "execution_count": 8,
   "id": "1cb52a74",
   "metadata": {},
   "outputs": [
    {
     "name": "stdout",
     "output_type": "stream",
     "text": [
      "Multiple users mode detected.\n",
      "Handling multiple users\n",
      "Imputed missing values in total_reload_amount using mean: 322.73\n",
      "Removed all rows where device_category == 5 (smartphone).\n"
     ]
    },
    {
     "data": {
      "application/vnd.microsoft.datawrangler.viewer.v0+json": {
       "columns": [
        {
         "name": "index",
         "rawType": "int64",
         "type": "integer"
        },
        {
         "name": "avg_data_after_upgrade",
         "rawType": "float32",
         "type": "float"
        },
        {
         "name": "avg_data_before_upgrade",
         "rawType": "float64",
         "type": "float"
        },
        {
         "name": "increased_usage",
         "rawType": "int64",
         "type": "integer"
        },
        {
         "name": "std_before",
         "rawType": "float64",
         "type": "float"
        },
        {
         "name": "total_recharge_before",
         "rawType": "float64",
         "type": "float"
        },
        {
         "name": "user_segment",
         "rawType": "object",
         "type": "string"
        },
        {
         "name": "recharge_growth",
         "rawType": "float32",
         "type": "float"
        },
        {
         "name": "offer",
         "rawType": "object",
         "type": "string"
        },
        {
         "name": "reason",
         "rawType": "object",
         "type": "string"
        }
       ],
       "conversionMethod": "pd.DataFrame",
       "ref": "68d4651d-730c-4c3f-8b25-b6dae3632b50",
       "rows": [
        [
         "0",
         "770425.94",
         "11998.663928616432",
         "0",
         "124459.12384736806",
         "33999.40288590604",
         "non",
         "7570.6626",
         "FREE 100MB",
         "User unknown was recommended MTN Ihereze because it's estimated that he/she will recharge 7571 RWF and will fall in the segment 'non'. You haven't used mobile data after upgrading, but you recharge frequently. A free 100MB bundle can help you experience the benefits of mobile internet risk-free. Segmentation is based on recharge growth and data usage quantiles as observed in the user base: non-user (0 usage), low (≤ 25th percentile), medium (25th–75th percentile), high (>75th percentile)."
        ],
        [
         "1",
         "138681.45",
         "0.006902145127118644",
         "1",
         "0.033476774098406714",
         "17850.99",
         "low",
         "15820.672",
         "Gwamon 7GB + 30SMS",
         "User unknown was recommended MTN Ihereze because it's estimated that he/she will recharge 15821 RWF and will fall in the segment 'low'. You use a small amount of data but recharge more than most low adopters. Gwamon 7GB + 30SMS gives you more value for your spending and encourages higher usage. Segmentation is based on recharge growth and data usage quantiles as observed in the user base: non-user (0 usage), low (≤ 25th percentile), medium (25th–75th percentile), high (>75th percentile)."
        ],
        [
         "2",
         "768756.94",
         "14339.053904161081",
         "0",
         "116133.00561647289",
         "50277.51577181208",
         "non",
         "4497.7983",
         "FREE 100MB",
         "User unknown was recommended MTN Ihereze because it's estimated that he/she will recharge 4498 RWF and will fall in the segment 'non'. You haven't used mobile data after upgrading, but you recharge frequently. A free 100MB bundle can help you experience the benefits of mobile internet risk-free. Segmentation is based on recharge growth and data usage quantiles as observed in the user base: non-user (0 usage), low (≤ 25th percentile), medium (25th–75th percentile), high (>75th percentile)."
        ]
       ],
       "shape": {
        "columns": 9,
        "rows": 3
       }
      },
      "text/html": [
       "<div>\n",
       "<style scoped>\n",
       "    .dataframe tbody tr th:only-of-type {\n",
       "        vertical-align: middle;\n",
       "    }\n",
       "\n",
       "    .dataframe tbody tr th {\n",
       "        vertical-align: top;\n",
       "    }\n",
       "\n",
       "    .dataframe thead th {\n",
       "        text-align: right;\n",
       "    }\n",
       "</style>\n",
       "<table border=\"1\" class=\"dataframe\">\n",
       "  <thead>\n",
       "    <tr style=\"text-align: right;\">\n",
       "      <th></th>\n",
       "      <th>avg_data_after_upgrade</th>\n",
       "      <th>avg_data_before_upgrade</th>\n",
       "      <th>increased_usage</th>\n",
       "      <th>std_before</th>\n",
       "      <th>total_recharge_before</th>\n",
       "      <th>user_segment</th>\n",
       "      <th>recharge_growth</th>\n",
       "      <th>offer</th>\n",
       "      <th>reason</th>\n",
       "    </tr>\n",
       "  </thead>\n",
       "  <tbody>\n",
       "    <tr>\n",
       "      <th>0</th>\n",
       "      <td>770425.937500</td>\n",
       "      <td>11998.663929</td>\n",
       "      <td>0</td>\n",
       "      <td>124459.123847</td>\n",
       "      <td>33999.402886</td>\n",
       "      <td>non</td>\n",
       "      <td>7570.662598</td>\n",
       "      <td>FREE 100MB</td>\n",
       "      <td>User unknown was recommended MTN Ihereze becau...</td>\n",
       "    </tr>\n",
       "    <tr>\n",
       "      <th>1</th>\n",
       "      <td>138681.453125</td>\n",
       "      <td>0.006902</td>\n",
       "      <td>1</td>\n",
       "      <td>0.033477</td>\n",
       "      <td>17850.990000</td>\n",
       "      <td>low</td>\n",
       "      <td>15820.671875</td>\n",
       "      <td>Gwamon 7GB + 30SMS</td>\n",
       "      <td>User unknown was recommended MTN Ihereze becau...</td>\n",
       "    </tr>\n",
       "    <tr>\n",
       "      <th>2</th>\n",
       "      <td>768756.937500</td>\n",
       "      <td>14339.053904</td>\n",
       "      <td>0</td>\n",
       "      <td>116133.005616</td>\n",
       "      <td>50277.515772</td>\n",
       "      <td>non</td>\n",
       "      <td>4497.798340</td>\n",
       "      <td>FREE 100MB</td>\n",
       "      <td>User unknown was recommended MTN Ihereze becau...</td>\n",
       "    </tr>\n",
       "  </tbody>\n",
       "</table>\n",
       "</div>"
      ],
      "text/plain": [
       "   avg_data_after_upgrade  avg_data_before_upgrade  increased_usage  \\\n",
       "0           770425.937500             11998.663929                0   \n",
       "1           138681.453125                 0.006902                1   \n",
       "2           768756.937500             14339.053904                0   \n",
       "\n",
       "      std_before  total_recharge_before user_segment  recharge_growth  \\\n",
       "0  124459.123847           33999.402886          non      7570.662598   \n",
       "1       0.033477           17850.990000          low     15820.671875   \n",
       "2  116133.005616           50277.515772          non      4497.798340   \n",
       "\n",
       "                offer                                             reason  \n",
       "0          FREE 100MB  User unknown was recommended MTN Ihereze becau...  \n",
       "1  Gwamon 7GB + 30SMS  User unknown was recommended MTN Ihereze becau...  \n",
       "2          FREE 100MB  User unknown was recommended MTN Ihereze becau...  "
      ]
     },
     "execution_count": 8,
     "metadata": {},
     "output_type": "execute_result"
    }
   ],
   "source": [
    "# Recommend offer to the user\n",
    "recommend(df_user1)"
   ]
  },
  {
   "cell_type": "code",
   "execution_count": null,
   "id": "07749df5",
   "metadata": {},
   "outputs": [],
   "source": []
  }
 ],
 "metadata": {
  "kernelspec": {
   "display_name": ".venv",
   "language": "python",
   "name": "python3"
  },
  "language_info": {
   "codemirror_mode": {
    "name": "ipython",
    "version": 3
   },
   "file_extension": ".py",
   "mimetype": "text/x-python",
   "name": "python",
   "nbconvert_exporter": "python",
   "pygments_lexer": "ipython3",
   "version": "3.11.2"
  }
 },
 "nbformat": 4,
 "nbformat_minor": 5
}
